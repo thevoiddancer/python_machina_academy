{
 "cells": [
  {
   "cell_type": "markdown",
   "metadata": {},
   "source": [
    "# 13.Predavanje - Poširenje na vizualnu aplikaciju\n",
    "* Koristiti tkinter ili django za vizualnu aplikaciju\n",
    "    - Django\n",
    "        - Prednost: nakon deployment online pristupačno svugdje\n",
    "        - Mana: deployment treba dodatno znanje (malo HTML/CSS)  i (trošak lokacije)\n",
    "        - Step by step handbook\n",
    "    - Tkinter\n",
    "        - Prednost: nema deployment\n",
    "        - Mana: download pojedinačno (i install?)\n",
    "        - ((pakovati python u self executable file))\n"
   ]
  },
  {
   "cell_type": "markdown",
   "metadata": {},
   "source": [
    "# GUI libraries choices:\n",
    "* PySimpleGUI\n",
    "    - iritantna poruka za registraciju\n",
    "\n",
    "* PyQT/PySide\n",
    "    * PySide2 \n",
    "    * PyQt5\n",
    "    * Qt Designer\n",
    "    * pyqtui\n",
    "\n",
    "* DearPyGui \n",
    "\n",
    "* kivy\n",
    "\n",
    "* Guietta\n",
    "\n",
    "* tkinter\n",
    "    * customtkinter\n",
    "    - Sun-Valley-ttk-theme \n",
    "    - ttkbootstrap\n",
    "\n",
    "* NiceGUI\n",
    "\n",
    "* wxPython\n",
    "\n"
   ]
  },
  {
   "cell_type": "code",
   "execution_count": 23,
   "metadata": {},
   "outputs": [],
   "source": [
    "import PySimpleGUI as sg\n",
    "\n",
    "layout = [  \n",
    "    [sg.Text(\"What's your name?\")],\n",
    "    [sg.InputText()],\n",
    "    [sg.Button('Ok'), sg.Button('Cancel')]\n",
    "]\n",
    "\n",
    "layout = [  \n",
    "    [sg.Text(\"Calculator\")],\n",
    "    [sg.Text('', key='output')],\n",
    "    [sg.Button('7'), sg.Button('8'), sg.Button('9'), sg.Button('/')],\n",
    "    [sg.Button('4'), sg.Button('5'), sg.Button('6'), sg.Button('*')],\n",
    "    [sg.Button('1'), sg.Button('2'), sg.Button('3'), sg.Button('+')],\n",
    "    [sg.Button('0'), sg.Button('.'), sg.Button('='), sg.Button('-')],\n",
    "]\n",
    "\n",
    "window = sg.Window('Example', layout)\n",
    "\n",
    "calculation = ''\n",
    "\n",
    "while True:\n",
    "    event, values = window.read()\n",
    "    if event == sg.WIN_CLOSED:\n",
    "        break\n",
    "    if event != '=':\n",
    "        calculation += event\n",
    "        window['output'].update(calculation)\n",
    "    else:\n",
    "        result = eval(calculation)\n",
    "        calculation = ''\n",
    "        window['output'].update(result)\n",
    "\n",
    "window.close()\n"
   ]
  },
  {
   "cell_type": "markdown",
   "metadata": {},
   "source": [
    "# Pakiranje u exe\n",
    "\n",
    "$ pip install auto-py-to-exe\n",
    "$ auto-py-to-exe\n",
    "\n",
    "U windowsima, treba chrome GUI"
   ]
  }
 ],
 "metadata": {
  "kernelspec": {
   "display_name": "machina",
   "language": "python",
   "name": "python3"
  },
  "language_info": {
   "codemirror_mode": {
    "name": "ipython",
    "version": 3
   },
   "file_extension": ".py",
   "mimetype": "text/x-python",
   "name": "python",
   "nbconvert_exporter": "python",
   "pygments_lexer": "ipython3",
   "version": "3.12.6"
  }
 },
 "nbformat": 4,
 "nbformat_minor": 2
}
