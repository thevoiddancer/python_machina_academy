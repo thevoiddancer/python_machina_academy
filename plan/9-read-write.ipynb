{
 "cells": [
  {
   "cell_type": "markdown",
   "metadata": {},
   "source": [
    "# Pisanje i čitanje dokumenata"
   ]
  },
  {
   "cell_type": "markdown",
   "metadata": {},
   "source": [
    "## Uvod"
   ]
  },
  {
   "cell_type": "markdown",
   "metadata": {},
   "source": [
    "* Provjera zadaća i komentiranje koda\n",
    "* Tipovi dokumenata: text, csv (Excel i Word?), (grafika?), (import libraries: pandas i pil)\n",
    "* Zadaci:\n",
    "    - Analiza književnog teksta (npr nađi imena likova) (rijec.istitle())\n",
    "    - Statistička analiza padalina u Zagrebu 2023\n",
    "    - Prosječna boja zastava država EU\n",
    "    - (Provjeri podjelu vremena s lekcijom 8)\n"
   ]
  },
  {
   "cell_type": "markdown",
   "metadata": {},
   "source": [
    "## Teme"
   ]
  },
  {
   "cell_type": "markdown",
   "metadata": {},
   "source": [
    "* Pisanje i čitanje dokumenata\n",
    "* Tekstualne datoteke\n",
    "    - context manager\n",
    "    - seek\n",
    "    - mode\n",
    "* Binarne datoteke\n",
    "    - "
   ]
  },
  {
   "cell_type": "markdown",
   "metadata": {},
   "source": [
    "## Pisanje i čitanje dokumenata\n"
   ]
  },
  {
   "cell_type": "markdown",
   "metadata": {},
   "source": [
    "Dokumente možemo generalno podijeliti u dvije skupine: tekstualne i binarne. Pojednostavljeno, tekstualni dokumenti su oni koje možemo čitati pod pretpostavkom da se sastoje od znakova nekog encoding principa. Binarni, s druge strane, sadrže drugačije podatke koje je potrebno protumačiti kroz neku specifičnu logiku. Tako, na primjer, tekstualne dokumente čine .txt, .log, .csv, .html i slični dokumenti, dok su binarni dokumenti .docx, .xlsx, .pdf i tako dalje. \n",
    "\n",
    "Tekstualne datoteke možemo čitati izravno, za binarne nam trebaju dodatni paketi."
   ]
  },
  {
   "cell_type": "markdown",
   "metadata": {},
   "source": [
    "## Tekstualne datoteke\n"
   ]
  },
  {
   "cell_type": "markdown",
   "metadata": {},
   "source": [
    "Tekstualne datoteke mogu biti:\n",
    "* nestrukturirane\n",
    "    - običan tekst\n",
    "    - .txt, .md, .nfo, ...\n",
    "* strukturirane\n",
    "    - postoji interna logika\n",
    "    - .htmnl, .csv, .json, .xml, ...\n",
    "\n",
    "Oba tipa možemo čitati \"ručno\", a strukturirane i preko dodatnih paketa.\n"
   ]
  },
  {
   "cell_type": "markdown",
   "metadata": {},
   "source": [
    "### Otvaranje datoteka"
   ]
  },
  {
   "cell_type": "markdown",
   "metadata": {},
   "source": [
    "#### ručno\n"
   ]
  },
  {
   "cell_type": "markdown",
   "metadata": {},
   "source": [
    "Čitanje i pisanje datoteka (\"ručno\") se radi kroz sljedeći pristup:\n",
    "1. otvori datoteku\n",
    "2. pročitaj/zapiši\n",
    "3. zatvori datoteku\n",
    "\n",
    "```python\n",
    "file = open(filename, mode)\n",
    "text = file.read()\n",
    "file.close()\n",
    "```\n",
    "\n",
    "Ako ne \"zatvorimo\" file OS ga bilježi da je u upotrebi pa može doći do problema (npr. Windows ne dozvoli brisanje)."
   ]
  },
  {
   "cell_type": "markdown",
   "metadata": {},
   "source": [
    "#### context manager\n"
   ]
  },
  {
   "cell_type": "markdown",
   "metadata": {},
   "source": [
    "Bolji način za otvaranje i zatvaranje je tzv \"context manager\". Struktura koja nam omogućuje da neke zahvate\n",
    "radimo unutar blokova. Otvaranje fileova je jedan od tih stvari, a omogućuje da se po završetku datoteka\n",
    "automatski sama zatvori:\n",
    "\n",
    "```python\n",
    "with open(filename, mode) as file:\n",
    "    text = file.read()\n",
    "```"
   ]
  },
  {
   "cell_type": "markdown",
   "metadata": {},
   "source": [
    "#### mode\n"
   ]
  },
  {
   "cell_type": "markdown",
   "metadata": {},
   "source": [
    "\n",
    "Parametar mode nam govori kako Python treba otvoriti datoteku. Postoji nekoliko tipova:\n",
    "\n",
    "* 'r'\n",
    "    - read\n",
    "* 'w'\n",
    "    - write\n",
    "* 'a'\n",
    "    - append\n",
    "* 'x'\n",
    "    - exclusive write\n",
    "* '+'\n",
    "    - dodaje se na jedan od prethodnih modova\n",
    "    - omogućuje i čitanje i pisanje u isto vrijem\n",
    "    - osnovi mod prati ista pravila kao i prije\n",
    "\n",
    "| Mode | Ako postoji | Ako ne postoji |\n",
    "| --- | --- | --- |\n",
    "| r | učita na početak | greška |\n",
    "| w | pobriše ga | napravi ga |\n",
    "| a | učita na kraj | napravi ga |\n",
    "| x | greška | napravi ga |\n"
   ]
  },
  {
   "cell_type": "markdown",
   "metadata": {},
   "source": [
    "### Metode"
   ]
  },
  {
   "cell_type": "markdown",
   "metadata": {},
   "source": [
    "Na otvorenom fileu postoje neki atributi koji nam nose informacije o samom fileu:\n",
    "\n",
    "* file.closed\n",
    "    - Je li file zatvoren ili ne\n",
    "* file.encoding\n",
    "    - Koji tip abecede je korišten u fileu (npr ASCII, UTF-8, ... )\n",
    "* file.mode\n",
    "    - Koji mode je korišten za otvaranje filea\n",
    "* file.name\n",
    "    - Koje je ime filea (uključuje i nastavak, npr. \"raspored.csv\")\n",
    "\n",
    "Uz to postoje i metode koje nešto izvršavaju na fileu:\n",
    "\n",
    "* file.close()\n",
    "    - Sprema promjene i zatvara file, oslobađajući ga za OS\n",
    "* file.read([n])\n",
    "    - Čita ili cijeli file (ako nema n) ili samo n sljedećih znakova.\n",
    "* file.readline([n])\n",
    "    - Čita ili sljedeću liniju u fileu (ako nema n) ili n znakova sljedeće linije.\n",
    "* file.readlines()\n",
    "    - Vraća listu koja sadrži sve linije filea odvojene jedna po jedna\n",
    "* file.seek(n, ref)\n",
    "    - Pomiče trenutačni položaj u fileu za n znakova naprijed ili nazad (negativno).\n",
    "    - Pomak je relativan prema ref:\n",
    "        - 0 = relativno prema početku filea\n",
    "        - 1 = relativno prema trenutačnom položaju u fileu\n",
    "        - 2 = relativno prema kraju filea\n",
    "* file.write(text)\n",
    "    - Piše dani tekst u file, počevši od trenutačne pozicije u fileu"
   ]
  },
  {
   "cell_type": "markdown",
   "metadata": {},
   "source": [
    "### Čitanje fileova"
   ]
  },
  {
   "cell_type": "markdown",
   "metadata": {},
   "source": [
    "Za manje fileove nam je prihvatljivo napraviti jednostavno čitanje:\n",
    "\n",
    "```python\n",
    "output = file.read()\n",
    "```\n",
    "\n",
    "U slučaju manjih fileova koji su razdvojeni po redovima, moguće je čitati red po red i raditi iteraciju:\n",
    "\n",
    "```python\n",
    "for line in file.readlines():\n",
    "    do_something_with_line(line)\n",
    "```\n",
    "\n",
    "Ukoliko nam je file ogroman, gornja opcija ne radi jer ga svejedno čita odjednom, pa je potrebno ići liniju po liniju:\n",
    "\n",
    "```python\n",
    "while True:\n",
    "    line = file.readline()\n",
    "    if uvjet_za_kraj:\n",
    "        break\n",
    "    do_something_with_line(line)\n",
    "```\n",
    "\n",
    "Ako je file ogroman, ali samo jedna linija, onda možemo napraiviti slično, čitajući file blok po blok:\n",
    "\n",
    "```python\n",
    "while True:\n",
    "    block = file.read(1024)\n",
    "    if uvjet_za_kraj:\n",
    "        break\n",
    "    do_something_with_block(block)\n",
    "```"
   ]
  },
  {
   "cell_type": "markdown",
   "metadata": {},
   "source": [
    "## Binarne datoteke\n"
   ]
  },
  {
   "cell_type": "markdown",
   "metadata": {},
   "source": [
    "Za binarne datoteke je potrebno koristiti zasebne pakete, pa je previše opcija za ulaziti u dubinu. U pravilu svaki\n",
    "paket ima svoj način čitanja i pisanja fileova. Uzet ćemo 3 primjera i na njima pokazati kako:\n",
    "\n",
    "* pročitati\n",
    "* kreirati\n",
    "* izmjeniti\n"
   ]
  },
  {
   "cell_type": "markdown",
   "metadata": {},
   "source": [
    "### Word (docx)"
   ]
  },
  {
   "cell_type": "markdown",
   "metadata": {},
   "source": [
    "Za word dokumente koristimo python-docx paket. On otvara docx format, za stariji format (doc) i open\n",
    "document formate (open office ili google office) je potrebno naći druge pakete.\n",
    "\n",
    "```\n",
    "pip install python-docx\n",
    "```"
   ]
  },
  {
   "cell_type": "markdown",
   "metadata": {},
   "source": [
    "#### Čitanje"
   ]
  },
  {
   "cell_type": "markdown",
   "metadata": {},
   "source": [
    "```python\n",
    "import docx\n",
    "doc = docx.Document('demo_files/read_demo.docx')\n",
    "for paragraph in doc.paragraphs:\n",
    "    print(paragraph.text)\n",
    "```\n"
   ]
  },
  {
   "cell_type": "markdown",
   "metadata": {},
   "source": [
    "#### Pisanje"
   ]
  },
  {
   "cell_type": "markdown",
   "metadata": {},
   "source": [
    "```python\n",
    "from docx import Document\n",
    "doc = Document()\n",
    "doc.add_heading(\"Naslov dokumenta\", 0)\n",
    "doc.add_paragraph(\"Neki tekst ovdje.\\nDodan novi red.\")\n",
    "doc.save('demo_files/write_demo.docx')\n",
    "```\n"
   ]
  },
  {
   "cell_type": "markdown",
   "metadata": {},
   "source": [
    "#### Izmjena"
   ]
  },
  {
   "cell_type": "markdown",
   "metadata": {},
   "source": [
    "```python\n",
    "from docx import Document\n",
    "doc = Document('demo_files/edit_demo.docx')\n",
    "for paragraph in doc.paragraphs:\n",
    "    text = paragraph.text\n",
    "    if 'calibre' in text:\n",
    "        text = text.replace('calibre', 'Calibre')\n",
    "    paragraph.text = text\n",
    "doc.save('demo_files/edit_demo.docx')\n",
    "```\n"
   ]
  },
  {
   "cell_type": "markdown",
   "metadata": {},
   "source": [
    "### Excel (xlsx)"
   ]
  },
  {
   "cell_type": "markdown",
   "metadata": {},
   "source": [
    "Za Excel dokumente (xlsx) ćemo koristiti paket pandas, jedan od najpopularnijih Python paketa. Pandas također\n",
    "ima i podršku za csv dokumente, iako su oni čisto tekstualni oblik. U internacionalnom kontekstu je lakše koristiti\n",
    "pandas nego ručno čitati, zbog razlike između delimitera i decimalne točke/zareza.\n",
    "\n",
    "PAŽNJA: Pandas za čitanje xlsx dokumenata zahtjeva i openpyxl paket, pa ga je potrebno dodatno instalirati:\n",
    "```\n",
    "pip install pandas\n",
    "pip install openpyxl\n",
    "```\n",
    "\n",
    "Pandas za obradu tabličnih podataka koristi svoje vlastite formate - DataFrame i Series - pa po otvaranju filea\n",
    "automatski čita i pretvara u DataFrame, koji se sastoji od Series. Taj format ima mnoga svoja pravila i načine\n",
    "ponašanja u koje nećemo puno ulaziti, osim okvirnog prikaza.\n",
    "\n",
    "Za ilustraciju ćemo koristiti ovakav file:\n",
    "\n",
    "| | number | string | boolean |\n",
    "| --- | --- | --- | --- |\n",
    "| 0 | 1 | two | True |\n",
    "| 1 | 3 | four | False |\n"
   ]
  },
  {
   "cell_type": "markdown",
   "metadata": {},
   "source": [
    "#### Čitanje"
   ]
  },
  {
   "cell_type": "markdown",
   "metadata": {},
   "source": [
    "```python\n",
    "import pandas as pd\n",
    "file = pd.read_excel('demo_files/read_demo.xlsx')\n",
    "file.loc[1, 'string']  # prikaže podatak u redu 1 (drugi redak) i stupcu 'string' = four\n",
    "file.loc[1, :]  # Vrati vrijednosti u redu 1 (drugi red) = 3, four, False\n",
    "file.loc[:, 'string']  # Vraća vrijednosti u stupcu 'string' = two, four\n",
    "```"
   ]
  },
  {
   "cell_type": "markdown",
   "metadata": {},
   "source": [
    "#### Kreiranje"
   ]
  },
  {
   "cell_type": "markdown",
   "metadata": {},
   "source": [
    "Postoji nekoliko načina kako je moguće kreirati DataFrame, ovisno o tome koja nam je logika razumljivija za problem.\n",
    "Svi ovi df-ovi će rezultirati istim xlsx fileom.\n",
    "\n",
    "```python\n",
    "import pandas as pd\n",
    "data_dict_redovi = [\n",
    "    {'dan': 'PON', 'sati': 3},\n",
    "    {'dan': 'UTO', 'sati': 5},\n",
    "]\n",
    "df = pd.DataFrame(data_dict_redovi)\n",
    "\n",
    "data_dict_stupci = {\n",
    "    'dan': ['PON', 'UTO'],\n",
    "    'sati': [3, 8]\n",
    "}\n",
    "df = pd.DataFrame(data_dict_stupci)\n",
    "\n",
    "data_list = [\n",
    "    ['PON', 3],\n",
    "    ['UTO', 8]\n",
    "]\n",
    "df = pd.DataFrame(data_list, columns=['dan', 'sati'])\n",
    "df.to_excel('demo_files/write_demo.xlsx', index=False)\n",
    "```"
   ]
  },
  {
   "cell_type": "markdown",
   "metadata": {},
   "source": [
    "#### Izmjena"
   ]
  },
  {
   "cell_type": "markdown",
   "metadata": {},
   "source": [
    "```python\n",
    "import pandas as pd\n",
    "file = pd.read_excel('demo_files/edit_demo.xlsx')\n",
    "file.loc[0, 'string'] = 'three'\n",
    "file.to_excel('demo_files/edit_demo.xlsx', index=False)\n",
    "```"
   ]
  },
  {
   "cell_type": "markdown",
   "metadata": {},
   "source": [
    "### Portable Document Format (PDF)"
   ]
  },
  {
   "cell_type": "markdown",
   "metadata": {},
   "source": [
    "PDF format je format vrlo sličan docx, u smislu da sadrži tekst, slike, tablice i slično, no za razliku od\n",
    "docx sadrži sve podatke za prikaz, npr fontove. Za čitanje PDF fileoa ćemo koristiti paket pypdf, a za pisanje ćemo koristiti PyFPDF.\n",
    "\n",
    "PAŽNJA:\n",
    "PDF je prilično kompliciran format i ne postoji jedan jednostavan način i jedan paket koji bi jednostavno kreirao, čitao i editirao PDF."
   ]
  },
  {
   "cell_type": "markdown",
   "metadata": {},
   "source": [
    "#### Čitanje"
   ]
  },
  {
   "cell_type": "markdown",
   "metadata": {},
   "source": [
    "```python\n",
    "import pypdf\n",
    "pdf = pypdf.PdfReader('demo_files/read_demo.pdf')\n",
    "for page in pdf.pages:\n",
    "    print(page.extract_text())\n",
    "```"
   ]
  },
  {
   "cell_type": "markdown",
   "metadata": {},
   "source": [
    "#### Kreiranje"
   ]
  },
  {
   "cell_type": "markdown",
   "metadata": {},
   "source": [
    "```python\n",
    "from fpdf import FPDF\n",
    "pdf = FPDF()\n",
    "pdf.add_page()\n",
    "pdf.set_font('Arial', 'B', 16)\n",
    "pdf.cell(40, 10, 'Hello World!')\n",
    "pdf.output('demo_files/write_demo.pdf', 'F')\n",
    "```\n"
   ]
  },
  {
   "cell_type": "markdown",
   "metadata": {},
   "source": [
    "#### Izmjena"
   ]
  },
  {
   "cell_type": "markdown",
   "metadata": {},
   "source": [
    "S obzirom na kompliciranost, najjednostavniji način za editiranje je čitanje prethodnog dokumenta i\n",
    "kreiranje novog temeljenog na njemu."
   ]
  },
  {
   "cell_type": "markdown",
   "metadata": {},
   "source": [
    "Zadaci:\n",
    "1. Zapiši dictionary u tablicu\n",
    "2. Napravi formular od templatea i liste adresa\n",
    "\n",
    "Zadaci:\n",
    "1. Spoji periode godišnjih za zaposlenike\n",
    "2. Napravi output za DSP factory\n",
    "\n",
    "Zadaci:\n",
    "1. Otvori https://www.wmaccess.com/downloads/sample-invoice.pdf i ispiši samo non-0 stvari.\n",
    "2. Generiraj invoice\n"
   ]
  }
 ],
 "metadata": {
  "kernelspec": {
   "display_name": "machina",
   "language": "python",
   "name": "python3"
  },
  "language_info": {
   "codemirror_mode": {
    "name": "ipython",
    "version": 3
   },
   "file_extension": ".py",
   "mimetype": "text/x-python",
   "name": "python",
   "nbconvert_exporter": "python",
   "pygments_lexer": "ipython3",
   "version": "3.12.6"
  }
 },
 "nbformat": 4,
 "nbformat_minor": 2
}
