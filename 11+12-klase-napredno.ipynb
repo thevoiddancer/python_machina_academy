{
 "cells": [
  {
   "cell_type": "markdown",
   "metadata": {},
   "source": [
    "# Klase"
   ]
  },
  {
   "cell_type": "markdown",
   "metadata": {},
   "source": [
    "## Uvod"
   ]
  },
  {
   "cell_type": "markdown",
   "metadata": {},
   "source": [
    "* Provjera zadaća i komentiranje koda \n",
    "* Ključne riječi: def, init, str, .....\n",
    "* Zadatak za doma\n",
    "* Administracija za bolnicu (po timovima)\n",
    "* Klase bolesnik, doktor\n",
    "* Csv termine; txt dijagnoza\n",
    "* Više bolnica i looping da se nađe bolji termin\n",
    "* ((zadati što želimo vidjeti, a ne kako da to naprave))\n",
    "* ((rastaviti i raspodijeliti osnovne dijelove po člankvima tima))\n"
   ]
  },
  {
   "cell_type": "markdown",
   "metadata": {},
   "source": [
    "## Teme"
   ]
  },
  {
   "cell_type": "markdown",
   "metadata": {},
   "source": [
    "* Naslijeđivanje\n",
    "* Overloading\n",
    "* Dunder metode\n"
   ]
  },
  {
   "cell_type": "markdown",
   "metadata": {},
   "source": [
    "## Naslijeđivanje"
   ]
  },
  {
   "cell_type": "markdown",
   "metadata": {},
   "source": [
    "Ukoliko imate nekoliko povezanih klasa, možete primjeniti DRY (do not repeat yourself) princip tako da\n",
    "zajedničke komponente objedinite u jednu, matičnu klasu. Tada ostale klase koriste zajedničke komponente\n",
    "originalne klase, a svaka pojedinačna dodaje svoje atribute i metode.\n",
    "\n",
    "Klasičan primjer, napravimo klase koje bi opisali tečaj u Machini:\n",
    "- polaznika\n",
    "- predavača\n",
    "- zaposlenika\n",
    "\n",
    "Polaznik ima atribute:\n",
    "- ime\n",
    "- prezime\n",
    "- adresa\n",
    "- oib\n",
    "- email\n",
    "- tečaj kojeg polazi\n",
    "- prisutnost\n",
    "- rješenost\n",
    "\n",
    "Predavač ima atribute:\n",
    "- ime\n",
    "- prezime\n",
    "- adresa\n",
    "- oib\n",
    "- email\n",
    "- tečaj kojeg održava\n",
    "\n",
    "Zaposlenik ima atribute:\n",
    "- ime\n",
    "- prezime\n",
    "- adresa\n",
    "- oib\n",
    "- email\n",
    "- pristupna šifra\n",
    "\n",
    "Možemo vidjeti da je zajedničko svima:\n",
    "- ime\n",
    "- prezime\n",
    "- adresa\n",
    "- oib\n",
    "- email\n",
    "\n",
    "Objedinimo to u klasu Osoba:\n",
    "- ime\n",
    "- prezime\n",
    "- adresa\n",
    "- oib\n",
    "- email\n",
    "\n",
    "Tada zaposlenik ima dodatni atribut:\n",
    "- pristupna šifra\n",
    "\n",
    "Predavač ima dodatni atribut:\n",
    "- tečaj kojeg održava\n",
    "\n",
    "Polaznik ima dodatne atribute:\n",
    "- tečaj kojeg polazi\n",
    "- prisutnost\n",
    "- rješenost\n",
    "\n",
    "```python\n",
    "class Osoba:\n",
    "    def __init__(self, ime, prezime, adresa, oib, email):\n",
    "        self.ime = ime\n",
    "        self.prezime = prezime\n",
    "        self.adresa = adresa\n",
    "        self.oib = oib\n",
    "        self.email = email\n",
    "\n",
    "class Zaposlenik(Osoba):\n",
    "    def __init__(self, pristupna_sifra):\n",
    "        self.pristupna_sifra = pristupna_sifra\n",
    "\n",
    "class Predavac(Osoba):\n",
    "    def __init__(self, tecaj_predaje):\n",
    "        self.tecaj_predaje = tecaj_predaje\n",
    "\n",
    "class Polaznik(Osoba):\n",
    "    def __init__(self, tecaj_polazi, prisutnost, rješenost):\n",
    "        self.tecaj_polazi = tecaj_polazi\n",
    "        self.prisutnost = prisutnost\n",
    "        self.rješenost = rješenost\n",
    "    \n",
    "\n",
    "ivan = Zaposlenik('ivan', 'ivić', 'markov trg 2', '123456879', 'ivic@machina.hr', 'pass1234')\n",
    "```\n",
    "\n",
    "Naravno, to nam rezultira problemom jer nismo objasnili Pythonu što da radi s podacima koji se ne spominju izričito u __init__.\n",
    "Stoga je potrebno pozvati roditeljsku klasu:\n",
    "\n",
    "```python\n",
    "class Osoba:\n",
    "    def __init__(self, ime, prezime, adresa, oib, email):\n",
    "        self.ime = ime\n",
    "        self.prezime = prezime\n",
    "        self.adresa = adresa\n",
    "        self.oib = oib\n",
    "        self.email = email\n",
    "\n",
    "class Zaposlenik(Osoba):\n",
    "    def __init__(self, ime, prezime, adresa, oib, email, pristupna_sifra):\n",
    "        super().__init__(ime, prezime, adresa, oib, email)\n",
    "        self.pristupna_sifra = pristupna_sifra\n",
    "\n",
    "class Predavac(Osoba):\n",
    "    def __init__(self, ime, prezime, adresa, oib, email, tecaj_predaje):\n",
    "        super().__init__(ime, prezime, adresa, oib, email)\n",
    "        self.tecaj_predaje = tecaj_predaje\n",
    "\n",
    "class Polaznik(Osoba):\n",
    "    def __init__(self, ime, prezime, adresa, oib, email, tecaj_polazi, prisutnost, rješenost):\n",
    "        super().__init__(ime, prezime, adresa, oib, email)\n",
    "        self.tecaj_polazi = tecaj_polazi\n",
    "        self.prisutnost = prisutnost\n",
    "        self.rješenost = rješenost\n",
    "    \n",
    "\n",
    "ivan = Zaposlenik('ivan', 'ivić', 'markov trg 2', '123456879', 'ivic@machina.hr', 'pass123')\n",
    "```"
   ]
  },
  {
   "cell_type": "markdown",
   "metadata": {},
   "source": [
    "## Overloading"
   ]
  },
  {
   "cell_type": "markdown",
   "metadata": {},
   "source": [
    "Kod naslijeđivanja je moguće da child klasa ima nešto drugačije metode od roditeljske klase.\n",
    "To se riješava tako da u child klasi ponovo definiramo istu funkciju koja će onda prebrisati (overload)\n",
    "funkciju iz parent klase. Ukoliko je potrebno koristiti funkciju iz roditeljske klase, to se može napraviti\n",
    "pozivanjem funkcije super(), koja vraća roditeljsku klasu.\n",
    "\n",
    "U gornjem primjeru to imamo kroz dunder klasu __init__ - predavač i polaznik pozivaju __init__ klase\n",
    "osoba i nakon toga dodaju definiranje atributa koje su specifične za te klase."
   ]
  },
  {
   "cell_type": "markdown",
   "metadata": {},
   "source": [
    "## Dunder metode"
   ]
  },
  {
   "cell_type": "markdown",
   "metadata": {},
   "source": [
    "Dunder metode, poput `__init__` su specijalne metode koje se pozivaju van klasičnog pozivanja metoda.\n",
    "Recimo, `__init__` se poziva kada se kreira objekt. `__repr__` i `__str__` su dunder metode koje se koriste za\n",
    "jasnije prikazivanje objekata i pozivaju se kad se pozove print. `__ge__` je dunder koji se poziva kad se koristi >, itd.\n",
    "\n",
    "Dunder metode možemo svrstati u grupe:\n",
    "- usporedbe: eq, ne, gt, ge, lt, le\n",
    "- pretvorbe: str, bool, int, float\n",
    "- operacije: add, sub, mul, truediv, mod, floordiv, pow, and, or\n",
    "- inkrementi: iadd, isub, imul, ....\n",
    "- matematičke funkcije: divmod, abs, index, round, trunc, floor, ceil\n",
    "- kolekcije: len, iter, getitem, setitem, delitem, contains, next, reversed\n"
   ]
  },
  {
   "cell_type": "markdown",
   "metadata": {},
   "source": [
    "## Privatne i zaštićene metode"
   ]
  },
  {
   "cell_type": "markdown",
   "metadata": {},
   "source": [
    "U izgradnji i funkcioniranju klasa ponekad je dobro zaštiti imena metoda i objekata. Postoje dva načina\n",
    "kako to radimo:\n",
    "- korištenjem jednog underscorea na početku imena\n",
    "- korištenjem dva underscorea na početku imena"
   ]
  },
  {
   "cell_type": "markdown",
   "metadata": {},
   "source": [
    "### Jedan underscore"
   ]
  },
  {
   "cell_type": "markdown",
   "metadata": {},
   "source": [
    "Za razliku od nekih drugih progrmaskih jezika, pyhton nema zapravo zaštićene atribute i metode - do svega je moguće doći.\n",
    "Stoga je glavno pravilo za privatne metode i atribute da su one vidljive, ali da ih se ne koristi osim unutar klase.\n",
    "Umjesto da je to na neki način forsirano, u pitanju je dogovor.\n",
    "\n",
    "```Python\n",
    "class Osoba:\n",
    "    def __init__(self, godine):\n",
    "        self._godine = godine\n",
    "    \n",
    "    def get_godine(self):\n",
    "        return self._godine\n",
    "    \n",
    "    def increase_godine(self):\n",
    "        self._godine +=1\n",
    "\n",
    "x = Osoba(20) \n",
    "print(x._godine)\n",
    "print(x.get_godine())\n",
    "x.increase_godine()\n",
    "print(x.get_godine())\n",
    "```"
   ]
  },
  {
   "cell_type": "markdown",
   "metadata": {},
   "source": [
    "### Dva underscorea"
   ]
  },
  {
   "cell_type": "markdown",
   "metadata": {},
   "source": [
    "\n",
    "Postoji princip koji otežava pristup atributima i metodama, a to _name mangling_. Ako dodamo imenu dva underscorea\n",
    "python će zamijeniti to ime kombinacijom: `_klasa__ime` i, dodatno, zadržat će ga samo u roditeljskoj klasi"
   ]
  },
  {
   "cell_type": "markdown",
   "metadata": {},
   "source": [
    "## Klasni atributi"
   ]
  }
 ],
 "metadata": {
  "kernelspec": {
   "display_name": "machina",
   "language": "python",
   "name": "python3"
  },
  "language_info": {
   "codemirror_mode": {
    "name": "ipython",
    "version": 3
   },
   "file_extension": ".py",
   "mimetype": "text/x-python",
   "name": "python",
   "nbconvert_exporter": "python",
   "pygments_lexer": "ipython3",
   "version": "3.12.6"
  }
 },
 "nbformat": 4,
 "nbformat_minor": 2
}
