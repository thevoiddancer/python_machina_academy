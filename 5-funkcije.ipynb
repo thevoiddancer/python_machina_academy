{
 "cells": [
  {
   "cell_type": "markdown",
   "metadata": {},
   "source": [
    "# Funkcije"
   ]
  },
  {
   "cell_type": "markdown",
   "metadata": {},
   "source": [
    "## Uvod"
   ]
  },
  {
   "cell_type": "markdown",
   "metadata": {},
   "source": [
    "* Provjera zadaća i komentiranje koda\n",
    "* Uređivanje preglednosti našeg koda - odvajanje odabira težine van cjelokupnog koda\n",
    "* Docstring + typing (dobre navike)\n",
    "* import\n",
    "* Zadaci za zadaću:\n",
    "    - Refaktoriraj igru pogađanja brojeva\n",
    "    - Napiši funkciju koju će kolega koristiti za rješavanje svog problema (timing?)"
   ]
  },
  {
   "cell_type": "markdown",
   "metadata": {},
   "source": [
    "## Teme"
   ]
  },
  {
   "cell_type": "markdown",
   "metadata": {},
   "source": [
    "* Funkcije\n",
    "    - Definiranje funkcija\n",
    "    - Argumenti funkcija\n",
    "    - Parametri funkcija\n",
    "* Docstrings i typing\n",
    "    - docstrings\n",
    "    - typing\n",
    "* Zadaci"
   ]
  },
  {
   "cell_type": "markdown",
   "metadata": {},
   "source": [
    "## Funkcije"
   ]
  },
  {
   "cell_type": "markdown",
   "metadata": {},
   "source": [
    "\n",
    "Upoznali smo se do sada s nekim funkcijama, većina kojih odradi neki posao kad ih pozovemo i onda rezultat vrati nazad. Ideja iza funkcija je dvojaka:\n",
    "* odvajanje dijelova koji su teški za vlastito programiranje (npr. print() - komunicira se s operativnim sustavom)\n",
    "* odvajanje dijelova koji se često ponavljaju (npr. len() - za dobiti duljinu možemo iterirati i napraviti ručni brojač)\n",
    "\n",
    "Funkcije se zbog prvog razloga pišu na profesionalnom nivou, prilikom razvoja samog programskog jezika. A funkcije zbog drugog razloga pišemo i mi - da si olakšamo ponavljanje ili preglednost koda."
   ]
  },
  {
   "cell_type": "markdown",
   "metadata": {},
   "source": [
    "### Definiranje funkcija"
   ]
  },
  {
   "cell_type": "markdown",
   "metadata": {},
   "source": [
    "Da bi definirali funkcije potrebno je koristiti sljedeću strukturu:\n",
    "```python\n",
    "def funkcija(parametri):\n",
    "    # tijelo i logika funkcije\n",
    "    return vrijednost\n",
    "```\n",
    "\n",
    "Def je ključna riječ koja nam započinje definiciju. Iza nje se nalazi ime naše funkcije i lista parametara (očekivanih vrijednosti koje će funkcija dobiti). Logika funkcije je stavljena u uvučeni blok nakon dvotočke. A na kraju je opcionalno dodati return. Ako return ne postoji, funkcija bi trebala sav svoj posao obaviti unutar bloka i nema ništa za poslati van (npr. print()). Ako return postoji, navedena vrijednost (ili vrijednosti) se vrate nazad na mjesto gdje je funkcija pozvana (npr input() ili enumerate()).\n",
    "\n",
    "Bitno je znati da se operacije u funkciji odvijaju neovisno o ostatku koda - **varijable iz funkcije nisu dostupne van funkcije**. Varijable izvan funkcije jesu dostupne u funkciji, ali samo za čitanje (mijenjanje tih varijabli nije dobra praksa, pa je otežano).\n",
    "\n",
    "Korisno nam je sve definirane funkcije koje često koristimo odvojiti u zaseban file (npr helper_funkcije.py) i onda ih ne pisati svaki puta nego koristiti **from helper_funkcije import funkcija** da ih ubacite u svaki sljedeći program koji pišete."
   ]
  },
  {
   "cell_type": "markdown",
   "metadata": {},
   "source": [
    "### Argumenti funkcija"
   ]
  },
  {
   "cell_type": "markdown",
   "metadata": {},
   "source": [
    "Argumenti funkcije su podaci koje dajemo funkciji kada ju _pozivamo_.\n",
    "\n",
    "\n",
    "Oni mogu biti fiksirani položajem ili ključnim riječima. Argumenti položaja uvijek idu prije ključnog argumenta. Na primjer:\n",
    "upisi_osobu(\"Tomislav\", \"Nazifović\", godine=43)\n",
    "\n",
    "Ova funkcija ima pozicijske argumente \"Tomislav\" i \"Nazifović\" te ključni argument (keyword argument) godine. Prvo će ispuniti prve dvije vrijednosti u prve dvije uloge koje su u funkciji, a onda će pokušati naći mjesto za treću po ključnoj riječi. To možda dovede do problema:\n",
    "```python\n",
    "def upisi_osobu(ime, godine, prezime):\n",
    "    pass\n",
    "\n",
    "upisi_osobu(\"Tomislav\", \"Nazifović\", godine=43)\n",
    "# TypeError: upisi_osobu() got multiple values for argument 'godine'\n",
    "```\n",
    "\n",
    "Ključni argumenti su nam korisni kada želimo \"preskočiti\" dio argumenata i ostaviti ih s default vrijednostima."
   ]
  },
  {
   "cell_type": "markdown",
   "metadata": {},
   "source": [
    "### Parametri funkcija"
   ]
  },
  {
   "cell_type": "markdown",
   "metadata": {},
   "source": [
    "Parametri funkcija mogu biti default i ne-default. Default znači da imaju svoju unaprijed zadanu vrijednost ako se ne pojave u pozivu funkcije. Ne-default parametre obavezno moramo poslati funkciji kad ju pozivamo.\n",
    "\n",
    "Uz osnovne vrijednosti, prilikom definiranja funkcije možemo i specificirati kako ćemo ih davati prilikom poziva:\n",
    "* samo pozicijski\n",
    "* pozicijski ili keyword\n",
    "* samo keyword\n",
    "\n",
    "To postižemo na sljedeći način:\n",
    "```python\n",
    "def moja_funkcija(samo_poz, /, poz_ili_key, *, samo_key):\n",
    "    pass\n",
    "```\n",
    "\n",
    "Korištenjem default vrijednosti je moguće pozvati funkciju s manje argumenata nego što je korišteno u definiciji. A postoji i način kako da se pozove s više elemenata. Tada je potrebno u parametre funkcije dodati i jedan od dva (ili oba) specijalna parametra: ***args**, ****kwargs**. Posebnost ta dva parametra nije ime (može biti bilo koje, ovdje znači \"arguments\" i \"keyword arguments\"), nego zvjezdice. Jedna zvjezdica predstavlja listu - tj. višak pozicijskih argumenata. Dvije zvjezdice predstavljaju dictionary - tj. višak keyword argumenata.\n",
    "\n",
    "Rezultat toga je da funkcija raspolaže listom args i dictionaryem kwargs s varijablinim brojem članova (ili nula). Možemo s njima raditi što želimo, ili ih možemo proslijediti dalje u neku sljedeću funkciju.\n",
    "\n"
   ]
  },
  {
   "cell_type": "markdown",
   "metadata": {},
   "source": [
    "## Docstrings i typing"
   ]
  },
  {
   "cell_type": "markdown",
   "metadata": {},
   "source": [
    "Python je dinamički jezik, što znači da varijable mogu mijenjati koji su tip, ali isto tako da ih možemo slati funkcijama neovisno o tome što one s njima rade. To može voditi do raznih problema. Zato postoje neki moduli (kao random i datetime) koji u tome pomažu i kontroliraju to ponašanje, no dio toga možemo napraviti i bez dodatnih modula. Python nudi dvije funkcionalnosti koje nam olakšavaju da izbjegnemo takve probleme: docstrings i typing.\n"
   ]
  },
  {
   "cell_type": "markdown",
   "metadata": {},
   "source": [
    "### Docstrings"
   ]
  },
  {
   "attachments": {
    "image.png": {
     "image/png": "[encoded data removed]"
    }
   },
   "cell_type": "markdown",
   "metadata": {},
   "source": [
    "Docstrings je opis ponašanja funkcije i generalno upute korisniku što se s tom funkcijom treba raditi. Ovako izgleda docstrings kad koristite IDE:\n",
    "![image.png](attachment:image.png)\n",
    "\n",
    "Docstrings se u definiciju funkcije postavlja kao string ispod prve linije definicije. Obično se stavi u trostruke navodnike da bi mogao ići u nekoliko redova. Postoje razni pristupi pisanju docstringsa, ovo je jedan (numpydoc stil):\n",
    "\n",
    "```python\n",
    "def funkcija(parametri):\n",
    "    \"\"\"This is a docstring. It describes the logic of the function.\n",
    "\n",
    "    Parameters\n",
    "    ----------\n",
    "    parameter: str\n",
    "        One of the parameters\n",
    "\n",
    "    Returns\n",
    "    -------\n",
    "    int\n",
    "        Result of function\n",
    "\n",
    "    Raises\n",
    "    ------\n",
    "    TypeError\n",
    "        if a value is not good type\n",
    "    \"\"\"\n",
    "    # tijelo i logika funkcije\n",
    "    return vrijednost\n",
    "```\n"
   ]
  },
  {
   "cell_type": "markdown",
   "metadata": {},
   "source": [
    "### Typing"
   ]
  },
  {
   "cell_type": "markdown",
   "metadata": {},
   "source": [
    "Drugi alat koji je jako koristan je typing - tj. opisivanje koji tip veličine funkcija očekuje ili vraća. To ne radi nikakvo ograničenje, ali ako koristite IDE, to vam daje onaj prvi red u docstrings pop-upu: opis koji tip veličine se očekuje i daje. Pa, npr, za input gore imamo da je povratni tip string, a da prompt treba biti string (piše object, ali to jest string).\n",
    "\n",
    "Da bi napravili typing koristimo nazive tipova odvojene dvotočkom od varijable, a za povratni tip stavljamo strelicu iza zagrade, prije dvotočke:\n",
    "\n",
    "```python\n",
    "def funkcija(var1: str, var2: int) -> list:\n",
    "    pass\n",
    "```\n"
   ]
  },
  {
   "cell_type": "markdown",
   "metadata": {},
   "source": [
    "## Zadaci"
   ]
  },
  {
   "cell_type": "markdown",
   "metadata": {},
   "source": [
    "1. Prebaci često korištenje procedure u zasebne funkcije i onda ih pozovi umjesto da pišeš procedure.\n",
    "2. Formatiraj igru pogađanja brojeva tako da se postavljanje težine, učitavanje broja i provjera broja vrše kao zasebne funkcije. Kod provjere je ok koristiti return True ili False pa koristiti tu funkciju da se provjeri je li pogođeno, odnosno treba li prekinuti s petljom."
   ]
  }
 ],
 "metadata": {
  "kernelspec": {
   "display_name": "python_machina_academy",
   "language": "python",
   "name": "python3"
  },
  "language_info": {
   "codemirror_mode": {
    "name": "ipython",
    "version": 3
   },
   "file_extension": ".py",
   "mimetype": "text/x-python",
   "name": "python",
   "nbconvert_exporter": "python",
   "pygments_lexer": "ipython3",
   "version": "3.12.6"
  }
 },
 "nbformat": 4,
 "nbformat_minor": 2
}
