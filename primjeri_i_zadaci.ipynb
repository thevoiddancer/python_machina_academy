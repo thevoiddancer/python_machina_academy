{
 "cells": [
  {
   "cell_type": "markdown",
   "metadata": {},
   "source": [
    "# 1\n",
    "# 2\n",
    "# 3 - while\n",
    "# 4 - if\n",
    "* Napiši program koji će računati duljinu liste koja se unese odvojena ;"
   ]
  }
 ],
 "metadata": {
  "language_info": {
   "name": "python"
  }
 },
 "nbformat": 4,
 "nbformat_minor": 2
}
