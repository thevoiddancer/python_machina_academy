{
 "cells": [
  {
   "cell_type": "markdown",
   "metadata": {},
   "source": [
    "# Petlja for"
   ]
  },
  {
   "cell_type": "markdown",
   "metadata": {},
   "source": [
    "## Uvod"
   ]
  },
  {
   "cell_type": "markdown",
   "metadata": {},
   "source": [
    "* Provjera zadaća i komentiranje koda\n",
    "* Proširivanje zadatka s ograničenim brojem pokušaja\n",
    "* For - liste, iteracije, prekid i nastavak\n",
    "* Funkcija range\n",
    "* Liste + enumerate\n",
    "* Zadaci za zadaću:\n",
    "* Igra pogađanja brojeva - limitirati na 3 (ili ovisno o odabranoj težini (5-level?))\n",
    "\n",
    "* Učenici = [ime1, ime2, ime3]\n",
    "* For učenik in učenici:\n",
    "\t- pozovi_na_ploču()\n"
   ]
  },
  {
   "cell_type": "markdown",
   "metadata": {},
   "source": [
    "## Teme"
   ]
  },
  {
   "cell_type": "markdown",
   "metadata": {},
   "source": [
    "* Petlja for\n",
    "    - Iteracija kroz brojeve\n",
    "    - Iteracija kroz nizove\n",
    "* Liste\n",
    "    - Kreiranje lista\n",
    "    - Adresiranje lista\n",
    "    - Metode lista\n",
    "    - Lista i string\n",
    "    \n"
   ]
  },
  {
   "cell_type": "markdown",
   "metadata": {},
   "source": [
    "## Petlja for"
   ]
  },
  {
   "cell_type": "markdown",
   "metadata": {},
   "source": [
    "Za razliku od while petlje koja se odvija sama za sebe, bez nekog limita i logike, for petlja prolazi kroz određeni niz. Dva klasična primjera for petlje su: prolazak (iteracija) kroz niz brojeva i kroz neki proizvoljan niz (recimo slova u riječi). Što se funkcionalnosti tiču, metode rade isto, razlika je kako ih mi koristimo."
   ]
  },
  {
   "cell_type": "markdown",
   "metadata": {},
   "source": [
    "### Iteracija kroz brojeve"
   ]
  },
  {
   "cell_type": "markdown",
   "metadata": {},
   "source": [
    "Najjednostavniji primjer for petlje - dan je broj, od njega se napravi niz i iterira se kroz niz. Struktura glasi **for brojčanik in range(broj)**:\n",
    "\n",
    "* *brojčanik*\n",
    "    - Predstavlja novu varijablu koja će se uvesti kao brojčanik petlje i mijenjat će se svakim korakom\n",
    "    - Ukoliko nam je to nevažan podatak, običaj je zamijeniti s _\n",
    "* *range*\n",
    "    - Funkcija koja nam za zadani broj vraća odgovarajući niz\n",
    "    - Ima do tri argumenta: range(a [, b [, c]]) \n",
    "        - Ako je zadan samo a - vraća brojeve od 0 do a-1: **range(3) = 0, 1, 2**\n",
    "        - Ako su zadani a i b - vraća brojeve od a do b-1: **range(5, 9) = 5, 6, 7, 8**\n",
    "        - Ako su zadani a, b i c - vraća brojeve od a do b-1 s korakom c:\n",
    "            - range(2, 10, 3) = 2, 5, 8\n",
    "            - range(5, 3, -1) = 5, 4\n",
    "            - range(10, 3, -2) = 10, 8, 6, 4"
   ]
  },
  {
   "cell_type": "markdown",
   "metadata": {},
   "source": [
    "### Iteracija kroz nizove"
   ]
  },
  {
   "attachments": {
    "image.png": {
     "image/png": "[encoded data removed]"
    }
   },
   "cell_type": "markdown",
   "metadata": {},
   "source": [
    "Drugi oblik iteracije je kroz neki niz koji nije dobiven range funkcijom. Na primjer - string se smatra nizom jer se sastoji od znakova. Uz string postoje još 4 ugrađena tipa niza koji se često koriste. Uz svaki je napisana i njhova pripadajuća funkcija:\n",
    "\n",
    "![image.png](attachment:image.png)\n",
    "\n",
    "* lista - **list()**\n",
    "    - Nešto što bi očekivali kad kažemo niz: skup elemenata kojeg možemo mijenjati po želji.\n",
    "    - ['ime', 'prezime', 'datum']\n",
    "* tupl - **tuple()**\n",
    "    - Vrlo slično kao lista, ali je fiksiran kad ga napravimo. \n",
    "    - Brži i zauzimanju manje mjesta nego liste.\n",
    "    - Mogu se koristiti kao ključevi kod rječnika\n",
    "    - ('ime', 'prezime', 'datum')\n",
    "* skup - **set()**\n",
    "    - Kao da primjenimo pravila matematičkog skupa na listu:\n",
    "        - Nema ponavljanja u elementima\n",
    "        - Redoslijed je promijenjen\n",
    "        - Operacije su kao kod skupova (union, intersection....)\n",
    "    - {'ime', 'prezime', 'datum'}\n",
    "* rječnik - **dict()**\n",
    "    - Kombinacija parova (kao riječnik: npr Hrvatsko-engleski)\n",
    "    - Ključevi su glavni:\n",
    "        - Iterira se po ključevima\n",
    "        - Moraju biti hasheable (tuple, string, broj)\n",
    "        - Ne smiju se ponavljati (izgubi se stara vrijednost)\n",
    "    - \"Kao liste, ali redni brojevi su riječi\"\n",
    "    - {'ime': 'Tomislav', 'prezime': 'Nazifović', 'datum': 1980}\n",
    "\n",
    "Svi nizovi se mogu koristiti u for petlji. I svi nizovi podržavaju **len()** funkciju za određivanje duljine.\n"
   ]
  },
  {
   "cell_type": "markdown",
   "metadata": {},
   "source": [
    "## Liste"
   ]
  },
  {
   "cell_type": "markdown",
   "metadata": {},
   "source": [
    "### Kreiranje lista\n"
   ]
  },
  {
   "cell_type": "markdown",
   "metadata": {},
   "source": [
    "Liste se mogu kreirati pomoću funkcije **list()** (obično iz nekog drugog oblika), ili pomoću uglatih zagrada **[]** (obično iz elemenata)\n",
    "\n",
    "```python\n",
    "range_lista = list(range(5))\n",
    "loto_brojevi = [15, 2, 7, 9, 10]\n",
    "```"
   ]
  },
  {
   "cell_type": "markdown",
   "metadata": {},
   "source": [
    "### Adresiranje lista"
   ]
  },
  {
   "cell_type": "markdown",
   "metadata": {},
   "source": [
    "Ako želimo dohvatiti pojedini element liste moramo ga adresirati uglatom zagradom. **Pažnja**: nizovi u pythonu počinju s 0.\n",
    "\n",
    "```python\n",
    "print(loto_brojevi[3])  # 9\n",
    "```\n",
    "\n",
    "Adresiranje može imati više elemenata, slično kao range funkcija: **lista[a:b:c]**. Bilo koja od vrijednosti je opcionalna i može ju se preskočiti (ostaviti prazno). Logika je ista kao kod **range(a, b, c)**:\n",
    "* **a** = početak, ako ga nema, ide od početka\n",
    "* **b** = kraj, ako ga nema, ide do kraja\n",
    "* **c** = step, ako ga nema, ide po jedan\n",
    "\n",
    "a i b mogu imati i negativne vrijednosti, što znači \"od zadnjeg elemeneta\", s tim da [-1] predstavlja zadnji element. S obzirom da je prvi element 0, zamislite to kao još jedan niz koji je dodan ispred vašeg:\n",
    "\n",
    "```\n",
    "niz =     [15,  2,  7,  9, 10]\n",
    "položaji = [0,  1,  2,  3,  4]\n",
    "neg_pol = [-5, -4, -3, -2, -1]\n",
    "\n",
    "proširen = [15,  2,  7,  9, 10, 15, 2, 7, 9, 10]\n",
    "položaji = [-5, -4, -3, -2, -1,  0, 1, 2, 3,  4]\n",
    "```"
   ]
  },
  {
   "cell_type": "markdown",
   "metadata": {},
   "source": [
    "### Metode lista"
   ]
  },
  {
   "attachments": {
    "image.png": {
     "image/png": "[encoded data removed]"
    }
   },
   "cell_type": "markdown",
   "metadata": {},
   "source": [
    "Liste imaju svoje funkcije (metode), koje se primjenjuju na pojedine liste. Grupirani prikaz metoda (najkorištenije su boldane):\n",
    "\n",
    "![image.png](attachment:image.png)\n",
    "\n",
    "Ukratki opis svake od metoda:\n",
    "* append(element)\n",
    "    - Dodavanje elementa na kraj liste\n",
    "* insert(pos, element)\n",
    "    - Dodavanje elementa na poziciju pos\n",
    "* extend(lista)\n",
    "    - Dodavanje nove liste na kraj prethodne\n",
    "* pop([pos])\n",
    "    - Izbacivanje i dohvaćanje elementa liste (obriše se, ali se i dobije)\n",
    "    - Ako je dan pos, onda se uzme s pozicije pos\n",
    "    - Ako nije dan pos, uzme se sa zadnje pozicije\n",
    "* remove(element)\n",
    "    - Izbacivanje navedenog elementa iz liste\n",
    "* index(element)\n",
    "    - Vrati *prvu* poziciju navedenog elementa\n",
    "    - Ako nema, vrati grešku\n",
    "* count(element)\n",
    "    - Vrati broj pojavljivanja danog elementa\n",
    "    - Ako nema, rezultat je 0\n",
    "* sort(reverse=True|False, [key=func])\n",
    "    - Sortira listu na mjestu ili u obratnom sortiranju\n",
    "    - Moguće definirati dodatnu funkciju za sortiranje (recimo, duljina riječi)\n",
    "* reverse()\n",
    "    - Obrne redoslijed liste\n",
    "* clear()\n",
    "    - Obriše sadržaj liste bez da obriše listu\n",
    "* copy()\n",
    "    - Kopira listu u drugu, umjesto da vrati pogled na dio liste"
   ]
  },
  {
   "cell_type": "markdown",
   "metadata": {},
   "source": [
    "### Lista i string"
   ]
  },
  {
   "cell_type": "markdown",
   "metadata": {},
   "source": [
    "S obzirom da smo rekli da je string niz kojeg možemo koristiti u for petlji, valja spomenuti druge veze između stringa i liste. Za to ćemo navesti neke funkcije i metode koje se u toj vezi često koriste.\n",
    "\n",
    "* **list(string)**\n",
    "    - Funkcija koja pretvara string u listu. U slučaju stringa pretvara ga u listu slovo po slovo.\n",
    "* **separator.join(lista)**\n",
    "    - Metoda koja pretvara listu u string, koristeći string separator kao dodatak između elemenata (npr razmak ili zarez)\n",
    "* **string.split(separator, [limit])**\n",
    "    - Metoda koja pretvara string u listu, tako da string razreže po separatoru.\n",
    "    - Ukoliko je limit specificiran, samo toliko splitova će napraviti, ostalo sve ide kao jedan element\n",
    "* **string.rsplit(separator, [limit])**\n",
    "    - Ista logika kao i split, samo rezanje kreće s desne strane."
   ]
  },
  {
   "cell_type": "markdown",
   "metadata": {},
   "source": [
    "## Zadaci"
   ]
  },
  {
   "cell_type": "markdown",
   "metadata": {},
   "source": [
    "1. Napišite program koji će tražiti korisnika da unese imena 11 članova nogometnog tima.\n",
    "2. Napišite program koji će za dani broj odrediti je li taj broj prosti (može se podijeliti samo s 1 i sobom).\n",
    "1. Napiši program koji će tražiti od korisnika da unese ocjene odvojene razmakom i onda izračunati prosjek ocjena.\n",
    "2. Napiši program koji će prvo unijeti učenike u grupi, zajedno s njihovim  ocjenama (npr \"Ivan 5 5 3\"). Zatim će korisnik unijeti ime učenika i novu ocjenu. Program mora dodati ocjenu pravom učeniku."
   ]
  }
 ],
 "metadata": {
  "kernelspec": {
   "display_name": "python_machina_academy",
   "language": "python",
   "name": "python3"
  },
  "language_info": {
   "codemirror_mode": {
    "name": "ipython",
    "version": 3
   },
   "file_extension": ".py",
   "mimetype": "text/x-python",
   "name": "python",
   "nbconvert_exporter": "python",
   "pygments_lexer": "ipython3",
   "version": "3.11.9"
  }
 },
 "nbformat": 4,
 "nbformat_minor": 2
}
