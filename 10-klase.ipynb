{
 "cells": [
  {
   "cell_type": "markdown",
   "metadata": {},
   "source": [
    "10.Predavanje - Klase (korištenje)\n",
    "Provjera zadaća i komentiranje koda\n",
    "Opis koncepta; prepoznavanje u prošlim vježbama\n",
    "Ugrađeni objekti (liste, rječnici, setovi, tuplovi, string....)\n",
    "Zadaci:\n",
    "((fokus zadatka na korištenje metoda))\n"
   ]
  }
 ],
 "metadata": {
  "language_info": {
   "name": "python"
  }
 },
 "nbformat": 4,
 "nbformat_minor": 2
}
