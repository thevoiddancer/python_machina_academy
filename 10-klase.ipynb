{
 "cells": [
  {
   "cell_type": "markdown",
   "metadata": {},
   "source": [
    "# Klase"
   ]
  },
  {
   "cell_type": "markdown",
   "metadata": {},
   "source": [
    "## Uvod"
   ]
  },
  {
   "cell_type": "markdown",
   "metadata": {},
   "source": [
    "* Provjera zadaća i komentiranje koda\n",
    "* Opis koncepta; prepoznavanje u prošlim vježbama\n",
    "* Ugrađeni objekti (liste, rječnici, setovi, tuplovi, string....)\n",
    "* Zadaci:\n",
    "    - ((fokus zadatka na korištenje metoda))\n"
   ]
  },
  {
   "cell_type": "markdown",
   "metadata": {},
   "source": [
    "## Teme"
   ]
  },
  {
   "cell_type": "markdown",
   "metadata": {},
   "source": [
    "* Klase i objekti\n",
    "* Kreiranje klasa"
   ]
  },
  {
   "cell_type": "markdown",
   "metadata": {},
   "source": [
    "## Klase i objekti"
   ]
  },
  {
   "cell_type": "markdown",
   "metadata": {},
   "source": [
    "Vratimo se na zadatak X. Podatke za osobu smo čuvali na nekoliko načina i bili su nezgrapni. Postoji način\n",
    "da sve te podatke držimo u jednoj varijabli - objekt. U programiranju, naime, postoje dva glavna principa rada -\n",
    "funkcionalno programiranje i objektno orjentirano programiranje (OOP).\n",
    "\n",
    "Kod funkcionalnog programiranja se primarno koriste funkcije koje primaju i vraćaju podatke a fokusirane su na \n",
    "postupke s podacima umjesto samih podataka, dok kod OOP kreiramo objekte koji imaju svoje vrijednosti i metode,\n",
    "postupke. Neprogramerski primjer za ilustraciju razlike: Trebamo programirati otvaranje vrata.\n",
    "\n",
    "OOP:\n",
    "Kuća ima vrata. Vrata imaju metode otvaranja i zatvaranja.\n",
    "```python\n",
    "class Vrata:\n",
    "    def __init__(self):\n",
    "        self.zatvoreno = True\n",
    "\n",
    "    def otvori(self):\n",
    "        self.zatvoreno = False\n",
    "\n",
    "class Kuća:\n",
    "    def __init__(self):\n",
    "        self.vrata = Vrata()\n",
    "\n",
    "moja_kuća = Kuća()\n",
    "moja_kuća.vrata.otvori()\n",
    "```\n",
    "\n",
    "Funkcionalno:\n",
    "Otvaranje bilo čega se sastoji od dvije stvari: upravljanje kvakom i zakretanja objekta\n",
    "```python\n",
    "def otvori(predmet):\n",
    "    if isinstance(predmet, Vrata):\n",
    "        predmet = kvaka_dolje(predmet)\n",
    "        predmet = desni_krug(predmet)\n",
    "    elif isinstance(predmet, Prozor):\n",
    "        predmet = kvaka_desno(predmet)\n",
    "        predmet = desni_krug(predmet)\n",
    "    return predmet\n",
    "\n",
    "vrata = otvori(vrata)\n",
    "```\n",
    "\n",
    "Python je više OOP u svojoj prirodi, jer su čak i osnovni tipovi zapravo objekti određenih klasa.\n",
    "\n",
    "Klasa i objekt su različiti termini za povezane stvari. Klasa je set pravila koje će neki objekt imati,\n",
    "a objekt je implementacija tih pravila s nekim podacima. Paralelno: klasa je ekvivalent pasmini pekinezera, a objekt je\n",
    "vaš pekinezer Fido. Pravila za podatke za polaznike su spremljeni u klasi Polaznik, a podaci za vas su spremljeni\n",
    "u objektu polaznik_Josip, itd.\n",
    "\n",
    "Klasa omogućuje da u jednoj varijabli spremimo više zasebnih **podataka (atributa)** i da svaki objekt povežemo s\n",
    "**funkcijama (metodde)** koje imaju veze s njegovom klasom. Na primjer: klasa polaznik ima **atribute** ime, prezime, tečaj,\n",
    "OIB, te ima **metode** prikaži(), prebaci(), ispiši(). Dakle, atributi su vrijednosti, metode su funkcije.\n",
    "\n",
    "Još jedna korisna stvar kod klasa je da možemo nadograditi na postojeće (naslijeđivanje) i koristiti postojeće atribute i metode.\n",
    "Npr klasa Polaznik može naslijediti od klase Osoba.\n",
    "\n",
    "Iz navike se imena klasa pišu velikim slovom, u camel caseu (velika slova umjesto razmaka): ImeMojeKlase\n",
    "Objekti se pišu malim slovom, obično u snake caseu (underscore umjesto razmaka): ime_mog_objekta"
   ]
  },
  {
   "cell_type": "markdown",
   "metadata": {},
   "source": [
    "## Kreiranje klasa"
   ]
  },
  {
   "cell_type": "markdown",
   "metadata": {},
   "source": [
    "Klasu definiramo slično kao funkciju, ali s ključnom riječi class. U bloku klase možemo upisivati atribute i metode.\n",
    "Metode definiramo kao funkcije, s def ključnom riječi. Generalno, struktura definiranja klase izgleda ovako:\n",
    "\n",
    "```python\n",
    "class MojaKlasa(ParentKlasa):\n",
    "    class_attrib = 'something'\n",
    "\n",
    "    def __init__(self, argument):\n",
    "        self.obj_attrib = argument\n",
    "    \n",
    "    def metoda(self):\n",
    "        print(self.obj_attrib)\n",
    "```\n",
    "\n",
    "Ovdje možemo vidjeti nekoliko stvari:\n",
    "* ParentKlasa\n",
    "    - klasa od koje će naša klasa naslijediti atribute i metode\n",
    "    - kao da su svi automatski prekopirani, nije potrebno ništa dodatno raditi\n",
    "* class_attrib\n",
    "    - atribut koji je isti i povezan sa svim objektima te klase\n",
    "    - na početku ima istu vrijednost za sve objekte i ne može se mijenjati\n",
    "    - **pažnja**: ako je promjenjiv (kao lista), onda promjena na jednom objektu mijenja na svim objektima\n",
    "* self.obj_attrib\n",
    "    - atribut koji je drugačiji za svaki objekt\n",
    "    - u pravilu se definira kod kreiranja objekata\n",
    "* `__init__`\n",
    "    - magična metoda (dunder - double underscore `__`) koja se automatski poziva kod kreiranja objekta\n",
    "    - obično postavlja atribute, ali može pozvati i druge funkcije\n",
    "    - postoje druge magične metode koje se pozivaju automatski, više poslije\n",
    "* metoda\n",
    "    - proizvoljno definirana metoda\n",
    "    - sve metode kao prvi argument imaju sam taj objekt - iz navike je nazvan \"self\"\n",
    "    - ako želimo pozvati neki atribut ili metodu objekta, moramo self.atribut ili self.metoda()\n"
   ]
  },
  {
   "cell_type": "markdown",
   "metadata": {},
   "source": [
    "## Kreiranje objekata"
   ]
  },
  {
   "cell_type": "markdown",
   "metadata": {},
   "source": [
    "\n",
    "Objekt se kreira kao da smo klasu zamislii kao funkciju. Možemo dati neki argument prilikom kreiranja, ako se traži.\n",
    "\n",
    "```python\n",
    "moj_objekt = MojaKlasa('nešto')\n",
    "```\n",
    "\n",
    "## Primjer: osoba + oib\n",
    "\n",
    "```python\n",
    "class Osoba:\n",
    "    def __init__(self, ime, prezime, oib):\n",
    "        self.ime = ime\n",
    "        self.prezime = prezime\n",
    "        self.oib = oib\n",
    "        self.valid = self.oib_validator()\n",
    "        if not self.valid:\n",
    "            raise ValueError('OIB not valid')\n",
    "        \n",
    "    def oib_validator(self):\n",
    "        from python-stdnum.mod_11_10 import validate\n",
    "        return validate(self.oib)\n",
    "\n",
    "profesor = Osoba('Tomislav', 'Nazifović', '12345678901')\n",
    "\n",
    "```"
   ]
  },
  {
   "cell_type": "markdown",
   "metadata": {},
   "source": [
    "## Otkrivanje objekta"
   ]
  },
  {
   "cell_type": "markdown",
   "metadata": {},
   "source": [
    "Često u programiranju naiđete na objekt kojeg niste vi radili i zanima vas koje sve atribute i metode ima.\n",
    "Za otkrivanje toga u Pythonu postoji funkcija **dir()**. No dir nam vraća sve što je povezano s tim objektom,\n",
    "bez obzira je li u pitanju atribut (vrijednost) ili metoda (funkcija). Za to je potrebno napraviti dodatnu provjeru\n",
    "tako da provjerite je li danu stvar moguće pozvati (funkcija) ili ne (vrijednost). No prethodno bi bilo dobro\n",
    "selektirati one atribute koje nemaju '__' (sljedeća lekcija)\n",
    "\n",
    "```python\n",
    "attributes = dir(Osoba)  # lista svih atributa\n",
    "vrijednosti = [atr]\n",
    "```\n"
   ]
  },
  {
   "cell_type": "code",
   "execution_count": 14,
   "metadata": {},
   "outputs": [
    {
     "data": {
      "text/plain": [
       "['val1', 'val2']"
      ]
     },
     "execution_count": 14,
     "metadata": {},
     "output_type": "execute_result"
    }
   ],
   "source": [
    "class MyClass:\n",
    "    def __init__(self):\n",
    "        self.val1 = 1\n",
    "        self.val2 = 'txt'\n",
    "    \n",
    "    def method1(self):\n",
    "        return True\n",
    "    \n",
    "    def method2(self):\n",
    "        return False\n",
    "\n",
    "t = MyClass()\n",
    "attributes = dir(t)\n",
    "attributes = [attr for attr in attributes if attr[:2] != '__']\n",
    "attributes\n",
    "methods = [attr for attr in attributes if callable(getattr(t, attr))]\n",
    "methods\n",
    "values = [attr for attr in attributes if not callable(getattr(t, attr))]\n",
    "values\n"
   ]
  },
  {
   "cell_type": "markdown",
   "metadata": {},
   "source": [
    "Zadaci:\n",
    "\n",
    "Kreiraj klasu za sljedeće matematičke objekte: točka, dužina, trokut. Diskutirajte koje sve metode te klase trebaju imati. Primjenite ih u praksi.\n",
    "\n",
    "Kreiraj klasu za administraciju ljudi u nekoj djelatnosti po izboru (medicina, kozmetika, programiranje...). Diskutirajte koje sve vezane klase trebaju postojati i implementirajte ih u objektu kojeg kreirate.\n"
   ]
  }
 ],
 "metadata": {
  "kernelspec": {
   "display_name": "machina",
   "language": "python",
   "name": "python3"
  },
  "language_info": {
   "codemirror_mode": {
    "name": "ipython",
    "version": 3
   },
   "file_extension": ".py",
   "mimetype": "text/x-python",
   "name": "python",
   "nbconvert_exporter": "python",
   "pygments_lexer": "ipython3",
   "version": "3.12.6"
  }
 },
 "nbformat": 4,
 "nbformat_minor": 2
}
