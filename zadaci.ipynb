{
 "cells": [
  {
   "cell_type": "markdown",
   "metadata": {},
   "source": [
    "# Zadaci"
   ]
  },
  {
   "cell_type": "markdown",
   "metadata": {},
   "source": [
    "## Koncept\n",
    "* U svakoj lekciji (min) dva zadatka za zadaću:\n",
    "    - Jedan je vezan za konačni projekt\n",
    "    - Ostali su vježba\n",
    "* Zadaci se spajaju u projektni\n",
    "* Projekt i zadaci se diskutiraju na prvom satu\n",
    "    - Doprinos polaznika (i ice breaker?)"
   ]
  },
  {
   "cell_type": "markdown",
   "metadata": {},
   "source": [
    "## Projekt\n",
    "\n",
    "Desktop app za vođenje, recimo, kozmetičkog salona:\n",
    "- Kalendar\n",
    "- Naručivanje\n",
    "- Info o kupcima\n",
    "- Info o zahvatima\n"
   ]
  },
  {
   "cell_type": "markdown",
   "metadata": {},
   "source": [
    "## Issues\n",
    "\n",
    "* Autorizacija\n",
    "    - Bez rada s autorizacijskim modulima\n",
    "    + Binary encoded file s hashiranim passovima?\n",
    "* Data baza\n",
    "    - Bez rada s bazama\n",
    "    + CSV file s podacima koji se učitava u klase "
   ]
  },
  {
   "cell_type": "markdown",
   "metadata": {},
   "source": [
    "# Zadaci po lekcijama"
   ]
  },
  {
   "cell_type": "markdown",
   "metadata": {},
   "source": [
    "## 1 - Uvod\n"
   ]
  },
  {
   "cell_type": "markdown",
   "metadata": {},
   "source": [
    "Nema ništa posebno od zadataka. Unos podataka za korisnike?"
   ]
  },
  {
   "cell_type": "markdown",
   "metadata": {},
   "source": [
    "## 2 - Kontrola"
   ]
  },
  {
   "cell_type": "markdown",
   "metadata": {},
   "source": [
    "Zbrojiti iznos i dodati popust ako postoji.\n"
   ]
  },
  {
   "cell_type": "markdown",
   "metadata": {},
   "source": [
    "## 3 - While"
   ]
  },
  {
   "cell_type": "markdown",
   "metadata": {},
   "source": [
    "Unesi sve zahvate.\n",
    "\n",
    "Unosi nove narudžbe"
   ]
  },
  {
   "cell_type": "markdown",
   "metadata": {},
   "source": [
    "## 4 - For"
   ]
  },
  {
   "cell_type": "markdown",
   "metadata": {},
   "source": [
    "Za svakog kupca ispiši datum\n",
    "\n",
    "Za svaki datum ispiši narudžbe"
   ]
  },
  {
   "cell_type": "markdown",
   "metadata": {},
   "source": [
    "## 5 - Funkcije"
   ]
  },
  {
   "cell_type": "markdown",
   "metadata": {},
   "source": [
    "Napravi funkciju naruči_mušteriju"
   ]
  },
  {
   "cell_type": "markdown",
   "metadata": {},
   "source": [
    "## 7 - Moduli"
   ]
  },
  {
   "cell_type": "markdown",
   "metadata": {},
   "source": [
    "Učitaj pandas i ispiši narudžbe iz csv filea."
   ]
  },
  {
   "cell_type": "markdown",
   "metadata": {},
   "source": [
    "## 8 - Try-Except"
   ]
  },
  {
   "cell_type": "markdown",
   "metadata": {},
   "source": [
    "Ako vrijeme nije ok?"
   ]
  },
  {
   "cell_type": "markdown",
   "metadata": {},
   "source": [
    "## 9 - Read-write"
   ]
  },
  {
   "cell_type": "markdown",
   "metadata": {},
   "source": [
    "Napiši funkciju koja učitava iz CSVa i koja sprema u CSV."
   ]
  },
  {
   "cell_type": "markdown",
   "metadata": {},
   "source": [
    "## 10 - Klase"
   ]
  },
  {
   "cell_type": "markdown",
   "metadata": {},
   "source": [
    "Napravi klasu osoba\n",
    "\n",
    "Napravi klasu zahvat"
   ]
  },
  {
   "cell_type": "markdown",
   "metadata": {},
   "source": [
    "## 11-12 Klase"
   ]
  },
  {
   "cell_type": "markdown",
   "metadata": {},
   "source": [
    "Inheritaj klase zaposlenik i mušterija"
   ]
  },
  {
   "cell_type": "markdown",
   "metadata": {},
   "source": [
    "## 13 - Tkinter"
   ]
  },
  {
   "cell_type": "markdown",
   "metadata": {},
   "source": [
    "Kreiraj aplikaciju"
   ]
  }
 ],
 "metadata": {
  "language_info": {
   "name": "python"
  }
 },
 "nbformat": 4,
 "nbformat_minor": 2
}
