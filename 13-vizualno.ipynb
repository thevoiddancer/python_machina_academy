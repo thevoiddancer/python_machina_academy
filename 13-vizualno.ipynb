{
 "cells": [
  {
   "cell_type": "markdown",
   "metadata": {},
   "source": [
    "13.Predavanje - Poširenje na vizualnu aplikaciju\n",
    "Koristiti tkinter ili django za vizualnu aplikaciju\n",
    "Django\n",
    "Prednost: nakon deployment online pristupačno svugdje\n",
    "Mana: deployment treba dodatno znanje (malo HTML/CSS)  i (trošak lokacije)\n",
    "Step by step handbook\n",
    "Tkinter\n",
    "Prednost: nema deployment\n",
    "Mana: download pojedinačno (i install?)\n",
    "((pakovati python u self executable file))\n"
   ]
  },
  {
   "cell_type": "code",
   "execution_count": null,
   "metadata": {},
   "outputs": [],
   "source": []
  }
 ],
 "metadata": {
  "language_info": {
   "name": "python"
  }
 },
 "nbformat": 4,
 "nbformat_minor": 2
}
