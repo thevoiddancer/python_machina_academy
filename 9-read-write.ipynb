{
 "cells": [
  {
   "cell_type": "markdown",
   "metadata": {},
   "source": [
    "# 9.Predavanje - Pisanje i čitanje dokumenata\n",
    "* Provjera zadaća i komentiranje koda\n",
    "* Tipovi dokumenata: text, csv (Excel i Word?), (grafika?), (import libraries: pandas i pil)\n",
    "* Zadaci:\n",
    "    - Analiza književnog teksta (npr nađi imena likova) (rijec.istitle())\n",
    "    - Statistička analiza padalina u Zagrebu 2023\n",
    "    - Prosječna boja zastava država EU\n",
    "    - (Provjeri podjelu vremena s lekcijom 8)\n"
   ]
  },
  {
   "cell_type": "markdown",
   "metadata": {},
   "source": [
    "# Pisanje i čitanje dokumenata\n",
    "\n",
    "Dokumente možemo generalno podijeliti u dvije skupine: tekstualne i binarne. Pojednostavljeno, tekstualni dokumenti su oni koje možemo čitati pod pretpostavkom da se sastoje od znakova nekog encoding principa. Binarni, s druge strane, sadrže drugačije podatke koje je potrebno protumačiti kroz neku specifičnu logiku. Tako, na primjer, tekstualne dokumente čine .txt, .log, .csv, .html i slični dokumenti, dok su binarni dokumenti .docx, .xlsx, .pdf i tako dalje. "
   ]
  }
 ],
 "metadata": {
  "language_info": {
   "name": "python"
  }
 },
 "nbformat": 4,
 "nbformat_minor": 2
}
