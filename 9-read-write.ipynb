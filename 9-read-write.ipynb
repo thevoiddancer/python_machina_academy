{
 "cells": [
  {
   "cell_type": "markdown",
   "metadata": {},
   "source": [
    "# Pisanje i čitanje dokumenata"
   ]
  },
  {
   "cell_type": "markdown",
   "metadata": {},
   "source": [
    "## Uvod"
   ]
  },
  {
   "cell_type": "markdown",
   "metadata": {},
   "source": [
    "* Provjera zadaća i komentiranje koda\n",
    "* Tipovi dokumenata: text, csv (Excel i Word?), (grafika?), (import libraries: pandas i pil)\n",
    "* Zadaci:\n",
    "    - Analiza književnog teksta (npr nađi imena likova) (rijec.istitle())\n",
    "    - Statistička analiza padalina u Zagrebu 2023\n",
    "    - Prosječna boja zastava država EU\n",
    "    - (Provjeri podjelu vremena s lekcijom 8)\n"
   ]
  },
  {
   "cell_type": "markdown",
   "metadata": {},
   "source": [
    "## Teme"
   ]
  },
  {
   "cell_type": "markdown",
   "metadata": {},
   "source": [
    "* Pisanje i čitanje dokumenata\n",
    "* Tekstualne datoteke\n",
    "    - context manager\n",
    "    - seek\n",
    "    - mode\n",
    "* Binarne datoteke\n",
    "    - "
   ]
  },
  {
   "cell_type": "markdown",
   "metadata": {},
   "source": [
    "## Pisanje i čitanje dokumenata\n"
   ]
  },
  {
   "cell_type": "markdown",
   "metadata": {},
   "source": [
    "Dokumente možemo generalno podijeliti u dvije skupine: tekstualne i binarne. Pojednostavljeno, tekstualni dokumenti su oni koje možemo čitati pod pretpostavkom da se sastoje od znakova nekog encoding principa. Binarni, s druge strane, sadrže drugačije podatke koje je potrebno protumačiti kroz neku specifičnu logiku. Tako, na primjer, tekstualne dokumente čine .txt, .log, .csv, .html i slični dokumenti, dok su binarni dokumenti .docx, .xlsx, .pdf i tako dalje. \n",
    "\n",
    "Tekstualne datoteke možemo čitati izravno, za binarne nam trebaju dodatni paketi."
   ]
  },
  {
   "cell_type": "markdown",
   "metadata": {},
   "source": [
    "## Tekstualne datoteke\n"
   ]
  },
  {
   "cell_type": "markdown",
   "metadata": {},
   "source": [
    "Tekstualne datoteke mogu biti:\n",
    "* nestrukturirane\n",
    "    - običan tekst\n",
    "    - .txt, .md, .nfo, ...\n",
    "* strukturirane\n",
    "    - postoji interna logika\n",
    "    - .htmnl, .csv, .json, .xml, ...\n",
    "\n",
    "Oba tipa možemo čitati \"ručno\", a strukturirane i preko dodatnih paketa.\n",
    "\n",
    "Čitanje i pisanje datoteka (\"ručno\") se radi kroz sljedeći pristup:\n",
    "1. otvori datoteku\n",
    "2. pročitaj/zapiši\n",
    "3. zatvori datoteku\n",
    "\n",
    "```python\n",
    "file = open(filename, mode)\n",
    "text = file.read()\n",
    "file.close()\n",
    "```"
   ]
  },
  {
   "cell_type": "markdown",
   "metadata": {},
   "source": [
    "### context manager\n"
   ]
  },
  {
   "cell_type": "markdown",
   "metadata": {},
   "source": [
    "Bolji način za otvaranje i zatvaranje je tzv \"context manager\". Struktura koja nam omogućuje da neke zahvate\n",
    "radimo unutar blokova. Otvaranje fileova je jedan od tih stvari, a omogućuje da se po završetku datoteka sama zatvori:\n",
    "\n",
    "```python\n",
    "with open(filename, mode) as file:\n",
    "    text = file.read()\n",
    "```"
   ]
  },
  {
   "cell_type": "markdown",
   "metadata": {},
   "source": [
    "### seek\n"
   ]
  },
  {
   "cell_type": "markdown",
   "metadata": {},
   "source": [
    "Po defaultu se datoteke otvaraju na početku i čitaju do kraja. Ukoliko imate jako veliki file to nije dobro.\n",
    "Stoga je moguće učitavati datoteku dio po dio. To se radi tako da se koristi metoda .seek(n) i da se da vrijednost\n",
    "u metodu .read(n)\n",
    "\n",
    "Metoda .seek(n) nam pomiče točku čitanja za n znakova.\n",
    "Metoda .read(n) nam čita samo prvih sljedećih n znakova."
   ]
  },
  {
   "cell_type": "markdown",
   "metadata": {},
   "source": [
    "### mode\n"
   ]
  },
  {
   "cell_type": "markdown",
   "metadata": {},
   "source": [
    "\n",
    "Parametar mode nam govori kako Python treba otvoriti datoteku. Postoji nekoliko tipova:\n",
    "\n",
    "* 'r'\n",
    "    - read\n",
    "    - ako file postoji, učita na početak\n",
    "    - ako file ne postojji, javi grešku\n",
    "* 'w'\n",
    "    - write\n",
    "    - ako file postoji, prebriše ga\n",
    "    - ako file ne postoji, napravi ga\n",
    "* 'a'\n",
    "    - append\n",
    "    - ako file postoji, učita na kraj\n",
    "    - ako file ne postoji, napravi ga\n",
    "* 'x'\n",
    "    - exclusive\n",
    "    - ako file postoji, javi grešku\n",
    "    - ako file ne postoji, napravi ga\n",
    "* '+'\n",
    "    - dodaje se na jedan od prethodnih modova\n",
    "    - omogućuje i čitanje i pisanje u isto vrijem\n",
    "    - osnovi mod prati ista pravila kao i prije"
   ]
  },
  {
   "cell_type": "markdown",
   "metadata": {},
   "source": [
    "## Binarne datoteke\n"
   ]
  },
  {
   "cell_type": "markdown",
   "metadata": {},
   "source": [
    "## Binarne datoteke\n",
    "\n",
    "Pošto je za binarne datoteke potrebno koristiti zasebne pakete, nećemo ulaziti u dubinu. Uzet ćemo 3 primjera i na njima pokazati kako:\n",
    "a) učitati\n",
    "b) izmjeniti\n",
    "c) spremiti file\n",
    "\n",
    "### docx -> python-docx\n",
    "\n",
    "Zadaci:\n",
    "1. Zapiši dictionary u tablicu\n",
    "2. Napravi formular od templatea i liste adresa\n",
    "\n",
    "### xlsx -> pandas\n",
    "\n",
    "Zadaci:\n",
    "1. Spoji periode godišnjih za zaposlenike\n",
    "2. Napravi output za DSP factory\n",
    "\n",
    "### pdf -> pyPDF\n",
    "\n",
    "Zadaci:\n",
    "1. Otvori https://www.wmaccess.com/downloads/sample-invoice.pdf i ispiši samo non-0 stvari.\n",
    "2. Generiraj invoice\n"
   ]
  },
  {
   "cell_type": "code",
   "execution_count": null,
   "metadata": {},
   "outputs": [],
   "source": []
  }
 ],
 "metadata": {
  "kernelspec": {
   "display_name": "machina",
   "language": "python",
   "name": "python3"
  },
  "language_info": {
   "codemirror_mode": {
    "name": "ipython",
    "version": 3
   },
   "file_extension": ".py",
   "mimetype": "text/x-python",
   "name": "python",
   "nbconvert_exporter": "python",
   "pygments_lexer": "ipython3",
   "version": "3.12.6"
  }
 },
 "nbformat": 4,
 "nbformat_minor": 2
}
