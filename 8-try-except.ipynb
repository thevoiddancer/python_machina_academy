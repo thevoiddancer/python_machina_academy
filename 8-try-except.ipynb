{
 "cells": [
  {
   "cell_type": "markdown",
   "metadata": {},
   "source": [
    "# 8.Predavanje - Try-except\n",
    "* Provjera zadaća i komentiranje koda\n",
    "* Koncept Try-except-finally\n",
    "* \"Recap\" prethodnih zadatak i ostvarivanje kompletnog rješenja\n",
    "* Raising errors\n",
    "* Zadaci\n",
    "    - Obraditi prošle zadatke da budu non-breaking\n",
    "    - ((logiranje???))\n"
   ]
  },
  {
   "cell_type": "markdown",
   "metadata": {},
   "source": [
    "# Try...except\n",
    "\n",
    "Vidjeli smo što se događa kada funkcijama poput int() dajemo argumente koji se ne mogu prebaciti. I vidjeli smo kako to zaobići - koristeći if...else provjeru. Taj koncept se u progrmairanju naziva LBYP - Look Before You Leap - označava prvo provjeru jesu li podaci adekvatni za funkciju prije nego se funkcija pozove.\n",
    "\n",
    "S druge strane, postoji EAFP koncept - Easier to Ask Forgiveness than Permission - u kojem pozovemo funkciju bez da provjerimo hoće li funkcionirati i ako se skrši onda nadodamo drugu logiku. To nam omogućuje **try ... except** struktura gdje s **try** označimo koji dio želimo isprobati, a sa **except** opisujemo logiku koja se događa ako **try** ne uspije. Ako koristimo **try ... except** program se neće skršiti kad naiđe na grešku, nego će pričekati rezoluciju **except** logike.\n",
    "\n",
    "Struktura izgleda ovako\n",
    "```python\n",
    "try:\n",
    "    neka_funkcija()\n",
    "except ExceptionType [as exception]:\n",
    "    do_something_with(exception)\n",
    "```\n",
    "\n",
    "Except linija sadrži dvije opcije za odabir:\n",
    "- tip exceptiona, greške, koju se time lovi\n",
    "    - moguće je imati više exceptiona za više različitih tipova grešaka\n",
    "- imenovanje greške za daljnje korištenje\n",
    "    - moguće je preskočiti grešku, ali i ponovo je generirati\n",
    "\n",
    "## LBYL v EAFP\n",
    "\n",
    "Što se performanci tiče, LBYL (if ... else) zahtjeva malo vremena prvi svakom izvršavanju, dok EAFP (try ... except) ne zahtjeva ništa vremena kad stvar radi, ali zahtjeva puno više vremena ako ne radi. Što znači da je try ... except bolje koristiti kada je greška jako rijetka. Ako se greške očekuju češće, bolje je koristiti try ... except.\n",
    "\n",
    "S druge strane, try ... except jasno pokazuje da je moguće na ovom mjestu očekivati grešku, koja je to greška i koji su koraci da se riješi. EAFP princip je, dakle, čitljiviji, jasni i eksplicitan. Zbog toga je preferabilni način rada u pythonu i češće se koristi u profesionalnom svijetu. Dodatni razlog zašto se koristi je što je jednostavna struktura za rješavanje kompliciranih uzroka grešaka, a inače bi se trebao slagati vrlo kompliciran if ... elif ... else sustav.\n",
    "\n",
    "## Dobre prakse\n",
    "\n",
    "Dvije dobre prakse trebamo odmah spomenuti:\n",
    "1. U try stavite što manje koda je moguće\n",
    "    - Try sa što manjom količinom koda omogućuje da adresirati točno taj problem koji je uzročio točno tu grešku, umjesto da niste sigurni koji točno dio ju je uzrokovao.\n",
    "2. Hvatajte specifične exceptione umjesto sve\n",
    "    - Hvatanje specifičnog exceptiona omogućuje da imate drugačiji odgovor za drugačiji problem. Moguće je da jedna procedura vrati više tipova grešaka, pa time pišete logiku koja odgovara za svaku pojedinu grešku.\n",
    "\n",
    " "
   ]
  }
 ],
 "metadata": {
  "language_info": {
   "name": "python"
  }
 },
 "nbformat": 4,
 "nbformat_minor": 2
}
