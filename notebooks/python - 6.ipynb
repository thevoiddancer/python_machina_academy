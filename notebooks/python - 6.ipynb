{
 "cells": [
  {
   "cell_type": "markdown",
   "metadata": {},
   "source": [
    "# Objekti"
   ]
  },
  {
   "cell_type": "markdown",
   "metadata": {},
   "source": [
    "## Pojmovi"
   ]
  },
  {
   "cell_type": "code",
   "execution_count": 12,
   "metadata": {},
   "outputs": [
    {
     "data": {
      "text/plain": [
       "'TEST'"
      ]
     },
     "execution_count": 12,
     "metadata": {},
     "output_type": "execute_result"
    }
   ],
   "source": [
    "'python'.__doc__\n",
    "str.__doc__\n",
    "'python'.upper()\n",
    "str.upper()"
   ]
  },
  {
   "cell_type": "markdown",
   "metadata": {},
   "source": [
    "## Dunder (Double-UNDERscore) metode"
   ]
  },
  {
   "cell_type": "code",
   "execution_count": 15,
   "metadata": {},
   "outputs": [
    {
     "name": "stdout",
     "output_type": "stream",
     "text": [
      "INTEGER METODE\n",
      "['__abs__', '__add__', '__and__', '__bool__', '__ceil__', '__class__', '__delattr__', '__dir__', '__divmod__', '__doc__', '__eq__', '__float__', '__floor__', '__floordiv__', '__format__', '__ge__', '__getattribute__', '__getnewargs__', '__getstate__', '__gt__', '__hash__', '__index__', '__init__', '__init_subclass__', '__int__', '__invert__', '__le__', '__lshift__', '__lt__', '__mod__', '__mul__', '__ne__', '__neg__', '__new__', '__or__', '__pos__', '__pow__', '__radd__', '__rand__', '__rdivmod__', '__reduce__', '__reduce_ex__', '__repr__', '__rfloordiv__', '__rlshift__', '__rmod__', '__rmul__', '__ror__', '__round__', '__rpow__', '__rrshift__', '__rshift__', '__rsub__', '__rtruediv__', '__rxor__', '__setattr__', '__sizeof__', '__str__', '__sub__', '__subclasshook__', '__truediv__', '__trunc__', '__xor__', 'as_integer_ratio', 'bit_count', 'bit_length', 'conjugate', 'denominator', 'from_bytes', 'imag', 'is_integer', 'numerator', 'real', 'to_bytes']\n",
      "STRING METODE\n",
      "['__add__', '__class__', '__contains__', '__delattr__', '__dir__', '__doc__', '__eq__', '__format__', '__ge__', '__getattribute__', '__getitem__', '__getnewargs__', '__getstate__', '__gt__', '__hash__', '__init__', '__init_subclass__', '__iter__', '__le__', '__len__', '__lt__', '__mod__', '__mul__', '__ne__', '__new__', '__reduce__', '__reduce_ex__', '__repr__', '__rmod__', '__rmul__', '__setattr__', '__sizeof__', '__str__', '__subclasshook__', 'capitalize', 'casefold', 'center', 'count', 'encode', 'endswith', 'expandtabs', 'find', 'format', 'format_map', 'index', 'isalnum', 'isalpha', 'isascii', 'isdecimal', 'isdigit', 'isidentifier', 'islower', 'isnumeric', 'isprintable', 'isspace', 'istitle', 'isupper', 'join', 'ljust', 'lower', 'lstrip', 'maketrans', 'partition', 'removeprefix', 'removesuffix', 'replace', 'rfind', 'rindex', 'rjust', 'rpartition', 'rsplit', 'rstrip', 'split', 'splitlines', 'startswith', 'strip', 'swapcase', 'title', 'translate', 'upper', 'zfill']\n",
      "LIST METODE\n",
      "['__add__', '__class__', '__class_getitem__', '__contains__', '__delattr__', '__delitem__', '__dir__', '__doc__', '__eq__', '__format__', '__ge__', '__getattribute__', '__getitem__', '__getstate__', '__gt__', '__hash__', '__iadd__', '__imul__', '__init__', '__init_subclass__', '__iter__', '__le__', '__len__', '__lt__', '__mul__', '__ne__', '__new__', '__reduce__', '__reduce_ex__', '__repr__', '__reversed__', '__rmul__', '__setattr__', '__setitem__', '__sizeof__', '__str__', '__subclasshook__', 'append', 'clear', 'copy', 'count', 'extend', 'index', 'insert', 'pop', 'remove', 'reverse', 'sort']\n",
      "DICT METODE\n",
      "['__class__', '__class_getitem__', '__contains__', '__delattr__', '__delitem__', '__dir__', '__doc__', '__eq__', '__format__', '__ge__', '__getattribute__', '__getitem__', '__getstate__', '__gt__', '__hash__', '__init__', '__init_subclass__', '__ior__', '__iter__', '__le__', '__len__', '__lt__', '__ne__', '__new__', '__or__', '__reduce__', '__reduce_ex__', '__repr__', '__reversed__', '__ror__', '__setattr__', '__setitem__', '__sizeof__', '__str__', '__subclasshook__', 'clear', 'copy', 'fromkeys', 'get', 'items', 'keys', 'pop', 'popitem', 'setdefault', 'update', 'values']\n"
     ]
    }
   ],
   "source": [
    "num = 1\n",
    "print(\"INTEGER METODE\")\n",
    "print(dir(num))\n",
    "\n",
    "string = 'test'\n",
    "print(\"STRING METODE\")\n",
    "print(dir(string))\n",
    "\n",
    "lista = []\n",
    "print(\"LIST METODE\")\n",
    "print(dir(lista))\n",
    "\n",
    "dictionary = {}\n",
    "print(\"DICT METODE\")\n",
    "print(dir(dictionary))\n",
    "\n"
   ]
  },
  {
   "cell_type": "markdown",
   "metadata": {},
   "source": [
    "## Kreiranje"
   ]
  },
  {
   "cell_type": "markdown",
   "metadata": {},
   "source": [
    "```python\n",
    "class MojaKlasa:\n",
    "    class_attribute = 'test'\n",
    "\n",
    "    def __init__(self, value):\n",
    "        object_attribute = value\n",
    "    \n",
    "    def test(self):\n",
    "        print(self.class_atribut)\n",
    "```"
   ]
  },
  {
   "cell_type": "code",
   "execution_count": 2,
   "metadata": {},
   "outputs": [
    {
     "data": {
      "text/plain": [
       "Ivić Ivo (OIB: None)"
      ]
     },
     "execution_count": 2,
     "metadata": {},
     "output_type": "execute_result"
    }
   ],
   "source": [
    "class Osoba:\n",
    "    def __init__(self, ime, prezime, oib):\n",
    "        self.ime = ime\n",
    "        self.prezime = prezime\n",
    "        self.oib = self.check_oib(oib)\n",
    "    \n",
    "    def check_oib(self, oib):\n",
    "        if len(str(oib)) == 11:\n",
    "            return oib\n",
    "        else:\n",
    "            return None\n",
    "    \n",
    "    def __repr__(self):\n",
    "        return f'{self.prezime} {self.ime} (OIB: {self.oib})'\n",
    "\n",
    "\n",
    "TN = Osoba('Tomislav', 'Nazifović', 12345678910)\n",
    "osoba2 = Osoba('Ivo', 'Ivić', 879887)\n",
    "\n",
    "TN.oib\n",
    "osoba2\n"
   ]
  },
  {
   "cell_type": "code",
   "execution_count": 4,
   "metadata": {},
   "outputs": [
    {
     "name": "stdout",
     "output_type": "stream",
     "text": [
      "Tomislav\n"
     ]
    }
   ],
   "source": [
    "# Raspakiravanje dictionarija:\n",
    "\n",
    "osoba_dict = {\n",
    "    'ime': 'Tomislav',\n",
    "    'prezime': 'Nazifović',\n",
    "    'oib': 12345678203\n",
    "}\n",
    "\n",
    "osoba_obj = Osoba(**osoba_dict)\n",
    "print(osoba_obj.ime)"
   ]
  },
  {
   "cell_type": "markdown",
   "metadata": {},
   "source": [
    "### Vježba"
   ]
  },
  {
   "cell_type": "markdown",
   "metadata": {},
   "source": [
    "1. Napišite klasu za baratanje s geometrijskim 2D točkama.\n",
    "2. Napišite klasu za baratanje s dužinama.\n",
    "3. Napišite klasu za baratanje s trokutima.\n"
   ]
  },
  {
   "cell_type": "markdown",
   "metadata": {},
   "source": [
    "## Naslijeđivanje"
   ]
  },
  {
   "cell_type": "markdown",
   "metadata": {},
   "source": [
    "```python\n",
    "class ChildClass(ParentClass):\n",
    "    def __init__(self, value1, value2):\n",
    "        super().init(value1)  # Parent attributes\n",
    "        child_attribute = value2\n",
    "    \n",
    "    def test(self):\n",
    "        parent_effect = super().test()\n",
    "        print(self.class_atribut)\n",
    "```"
   ]
  },
  {
   "cell_type": "code",
   "execution_count": 27,
   "metadata": {},
   "outputs": [
    {
     "data": {
      "text/plain": [
       "Machina polaznik Nazifović (tomislav.nazifovic@gmail.com)"
      ]
     },
     "execution_count": 27,
     "metadata": {},
     "output_type": "execute_result"
    }
   ],
   "source": [
    "class Polaznik(Osoba):\n",
    "    def __init__(self, ime, prezime, oib, email, password):\n",
    "        super().__init__(ime, prezime, oib)\n",
    "        self.email = email\n",
    "        self.password = password\n",
    "    \n",
    "    def __repr__(self):\n",
    "        return f'Machina polaznik {self.prezime} ({self.email})'\n",
    "\n",
    "predavač = Polaznik(\"Tomislav\", \"Nazifović\", \"12345678911\", \"tomislav.nazifovic@gmail.com\", \"pass123\")\n",
    "predavač\n",
    "\n",
    "predavač2 = Polaznik(**TN.__dict__, email=\"tomislav.nazifovic@gmail.com\", password=\"pass123\")\n",
    "predavač2"
   ]
  },
  {
   "cell_type": "markdown",
   "metadata": {},
   "source": [
    "### Vježba"
   ]
  },
  {
   "cell_type": "markdown",
   "metadata": {},
   "source": [
    "4. Napišite child klase za jednakokračni i jednakostranični trokut\n",
    "5. "
   ]
  }
 ],
 "metadata": {
  "kernelspec": {
   "display_name": "machina",
   "language": "python",
   "name": "python3"
  },
  "language_info": {
   "codemirror_mode": {
    "name": "ipython",
    "version": 3
   },
   "file_extension": ".py",
   "mimetype": "text/x-python",
   "name": "python",
   "nbconvert_exporter": "python",
   "pygments_lexer": "ipython3",
   "version": "3.11.9"
  }
 },
 "nbformat": 4,
 "nbformat_minor": 2
}
