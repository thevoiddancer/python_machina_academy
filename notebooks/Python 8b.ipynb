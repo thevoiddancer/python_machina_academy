{
 "cells": [
  {
   "cell_type": "code",
   "execution_count": 2,
   "metadata": {},
   "outputs": [
    {
     "ename": "ValueError",
     "evalue": "invalid literal for int() with base 10: 'pet'",
     "output_type": "error",
     "traceback": [
      "\u001b[1;31m---------------------------------------------------------------------------\u001b[0m",
      "\u001b[1;31mValueError\u001b[0m                                Traceback (most recent call last)",
      "Cell \u001b[1;32mIn[2], line 2\u001b[0m\n\u001b[0;32m      1\u001b[0m broj \u001b[38;5;241m=\u001b[39m \u001b[38;5;28minput\u001b[39m(\u001b[38;5;124m\"\u001b[39m\u001b[38;5;124mUnesi broj: \u001b[39m\u001b[38;5;124m\"\u001b[39m)\n\u001b[1;32m----> 2\u001b[0m \u001b[38;5;28;43mint\u001b[39;49m\u001b[43m(\u001b[49m\u001b[43mbroj\u001b[49m\u001b[43m)\u001b[49m\n",
      "\u001b[1;31mValueError\u001b[0m: invalid literal for int() with base 10: 'pet'"
     ]
    }
   ],
   "source": [
    "broj = input(\"Unesi broj: \")\n",
    "int(broj)"
   ]
  },
  {
   "cell_type": "code",
   "execution_count": null,
   "metadata": {},
   "outputs": [
    {
     "name": "stdout",
     "output_type": "stream",
     "text": [
      "Divided by zero\n"
     ]
    }
   ],
   "source": [
    "broj = input(\"Unesi broj: \")\n",
    "try:\n",
    "    broj = int(broj)\n",
    "    prosjek = 20 / broj\n",
    "    print(prosjek)\n",
    "except ZeroDivisionError as e:\n",
    "    print(\"Divided by zero\")\n",
    "except ValueError:\n",
    "    print(\"Unešen je krivi broj\")\n",
    "except:\n",
    "    print(\"Ništa od navedenog\")\n",
    "\n",
    "\n",
    "try:\n",
    "    broj = int(broj)\n",
    "except ValueError:\n",
    "    print(\"Unešen je krivi broj\")\n",
    "except:\n",
    "    print(\"Ništa od navedenog\")\n",
    "\n",
    "try:\n",
    "    prosjek = 20 / broj\n",
    "except ZeroDivisionError as e:\n",
    "    print(\"Divided by zero\")\n",
    "except:\n",
    "    print(\"Ništa od navedenog\")\n",
    "\n",
    "print(prosjek)\n"
   ]
  },
  {
   "cell_type": "code",
   "execution_count": 3,
   "metadata": {},
   "outputs": [
    {
     "ename": "ZeroDivisionError",
     "evalue": "division by zero",
     "output_type": "error",
     "traceback": [
      "\u001b[1;31m---------------------------------------------------------------------------\u001b[0m",
      "\u001b[1;31mZeroDivisionError\u001b[0m                         Traceback (most recent call last)",
      "Cell \u001b[1;32mIn[3], line 1\u001b[0m\n\u001b[1;32m----> 1\u001b[0m \u001b[38;5;241;43m1\u001b[39;49m\u001b[38;5;241;43m/\u001b[39;49m\u001b[38;5;241;43m0\u001b[39;49m\n",
      "\u001b[1;31mZeroDivisionError\u001b[0m: division by zero"
     ]
    }
   ],
   "source": [
    "1/0"
   ]
  },
  {
   "cell_type": "code",
   "execution_count": 4,
   "metadata": {},
   "outputs": [
    {
     "ename": "IndexError",
     "evalue": "list index out of range",
     "output_type": "error",
     "traceback": [
      "\u001b[1;31m---------------------------------------------------------------------------\u001b[0m",
      "\u001b[1;31mIndexError\u001b[0m                                Traceback (most recent call last)",
      "Cell \u001b[1;32mIn[4], line 2\u001b[0m\n\u001b[0;32m      1\u001b[0m igrači \u001b[38;5;241m=\u001b[39m [\u001b[38;5;124m\"\u001b[39m\u001b[38;5;124mPetar\u001b[39m\u001b[38;5;124m\"\u001b[39m, \u001b[38;5;124m\"\u001b[39m\u001b[38;5;124mJosip\u001b[39m\u001b[38;5;124m\"\u001b[39m, \u001b[38;5;124m\"\u001b[39m\u001b[38;5;124mAna\u001b[39m\u001b[38;5;124m\"\u001b[39m]\n\u001b[1;32m----> 2\u001b[0m \u001b[43migrači\u001b[49m\u001b[43m[\u001b[49m\u001b[38;5;241;43m3\u001b[39;49m\u001b[43m]\u001b[49m\n",
      "\u001b[1;31mIndexError\u001b[0m: list index out of range"
     ]
    }
   ],
   "source": [
    "igrači = [\"Petar\", \"Josip\", \"Ana\"]\n",
    "igrači[3]"
   ]
  },
  {
   "cell_type": "code",
   "execution_count": 22,
   "metadata": {},
   "outputs": [
    {
     "name": "stdout",
     "output_type": "stream",
     "text": [
      "Ma zaboravi\n"
     ]
    }
   ],
   "source": [
    "class InvalidOIB(Exception):\n",
    "    def __init__(self):\n",
    "        super().__init__(self, 'OIB nije valjan')\n",
    "\n",
    "class Osoba:\n",
    "    def __init__(self, ime, prezime, oib):\n",
    "        self.ime = ime\n",
    "        self.prezime = prezime\n",
    "        self.oib = self.provjeri_oib(oib)\n",
    "    \n",
    "    def provjeri_oib(self, oib):\n",
    "        if len(oib) != 11:\n",
    "            raise InvalidOIB\n",
    "        else:\n",
    "            return oib\n",
    "\n",
    "ime = input(\"unesi ime\")\n",
    "prezime = input(\"unesi prezime\")\n",
    "oib = input(\"unesi oib\")\n",
    "try:\n",
    "    Osoba(ime, prezime, oib)\n",
    "except InvalidOIB:\n",
    "    oib = input(\"nevaljan oib, probaj opet\")\n",
    "    try:\n",
    "        Osoba(ime, prezime, oib)\n",
    "    except InvalidOIB:\n",
    "        print(\"Ma zaboravi\")\n",
    "\n"
   ]
  },
  {
   "cell_type": "code",
   "execution_count": null,
   "metadata": {},
   "outputs": [
    {
     "name": "stdout",
     "output_type": "stream",
     "text": [
      "5\n"
     ]
    }
   ],
   "source": [
    "while True:\n",
    "    broj = input(\"Unesi broj\")\n",
    "    if broj.isnumeric():\n",
    "        broj = int(broj)\n",
    "        break\n",
    "print(broj)\n",
    "\n",
    "while True:#\n",
    "    broj = input(\"Unesi broj\")#\n",
    "    try:\n",
    "        broj = int(broj)#\n",
    "        break#\n",
    "    except:\n",
    "        pass\n",
    "print(broj)\n",
    "\n"
   ]
  },
  {
   "cell_type": "code",
   "execution_count": null,
   "metadata": {},
   "outputs": [
    {
     "ename": "InvalidOIB",
     "evalue": "(InvalidOIB(...), 'OIB nije valjan')",
     "output_type": "error",
     "traceback": [
      "\u001b[1;31m---------------------------------------------------------------------------\u001b[0m",
      "\u001b[1;31mInvalidOIB\u001b[0m                                Traceback (most recent call last)",
      "Cell \u001b[1;32mIn[22], line 9\u001b[0m\n\u001b[0;32m      7\u001b[0m neuspjeli \u001b[38;5;241m=\u001b[39m []\n\u001b[0;32m      8\u001b[0m \u001b[38;5;28;01mfor\u001b[39;00m učenik \u001b[38;5;129;01min\u001b[39;00m učenici:\n\u001b[1;32m----> 9\u001b[0m     \u001b[43mOsoba\u001b[49m\u001b[43m(\u001b[49m\u001b[38;5;241;43m*\u001b[39;49m\u001b[43mučenik\u001b[49m\u001b[43m)\u001b[49m\n\u001b[0;32m     11\u001b[0m \u001b[38;5;28mprint\u001b[39m(neuspjeli)\n",
      "Cell \u001b[1;32mIn[16], line 9\u001b[0m, in \u001b[0;36mOsoba.__init__\u001b[1;34m(self, ime, prezime, oib)\u001b[0m\n\u001b[0;32m      7\u001b[0m \u001b[38;5;28mself\u001b[39m\u001b[38;5;241m.\u001b[39mime \u001b[38;5;241m=\u001b[39m ime\n\u001b[0;32m      8\u001b[0m \u001b[38;5;28mself\u001b[39m\u001b[38;5;241m.\u001b[39mprezime \u001b[38;5;241m=\u001b[39m prezime\n\u001b[1;32m----> 9\u001b[0m \u001b[38;5;28mself\u001b[39m\u001b[38;5;241m.\u001b[39moib \u001b[38;5;241m=\u001b[39m \u001b[38;5;28;43mself\u001b[39;49m\u001b[38;5;241;43m.\u001b[39;49m\u001b[43mprovjeri_oib\u001b[49m\u001b[43m(\u001b[49m\u001b[43moib\u001b[49m\u001b[43m)\u001b[49m\n",
      "Cell \u001b[1;32mIn[16], line 13\u001b[0m, in \u001b[0;36mOsoba.provjeri_oib\u001b[1;34m(self, oib)\u001b[0m\n\u001b[0;32m     11\u001b[0m \u001b[38;5;28;01mdef\u001b[39;00m\u001b[38;5;250m \u001b[39m\u001b[38;5;21mprovjeri_oib\u001b[39m(\u001b[38;5;28mself\u001b[39m, oib):\n\u001b[0;32m     12\u001b[0m     \u001b[38;5;28;01mif\u001b[39;00m \u001b[38;5;28mlen\u001b[39m(oib) \u001b[38;5;241m!=\u001b[39m \u001b[38;5;241m11\u001b[39m:\n\u001b[1;32m---> 13\u001b[0m         \u001b[38;5;28;01mraise\u001b[39;00m InvalidOIB\n\u001b[0;32m     14\u001b[0m     \u001b[38;5;28;01melse\u001b[39;00m:\n\u001b[0;32m     15\u001b[0m         \u001b[38;5;28;01mreturn\u001b[39;00m oib\n",
      "\u001b[1;31mInvalidOIB\u001b[0m: (InvalidOIB(...), 'OIB nije valjan')"
     ]
    }
   ],
   "source": [
    "učenici = [\n",
    "    (\"ivo\", \"ivić\", \"12345678910\"),\n",
    "    (\"pero\", \"perić\", \"498765214\"),\n",
    "    (\"marko\", \"marić\", \"878545\"),\n",
    "]\n",
    "\n",
    "neuspjeli = []\n",
    "for učenik in učenici:\n",
    "    Osoba(*učenik)\n",
    "\n",
    "print(neuspjeli)\n"
   ]
  },
  {
   "cell_type": "code",
   "execution_count": 55,
   "metadata": {},
   "outputs": [
    {
     "name": "stdout",
     "output_type": "stream",
     "text": [
      "False\n"
     ]
    }
   ],
   "source": [
    "file = open(\"test2\", \"a\")\n",
    "file.write(str(1235465))\n",
    "print(file.readable())\n",
    "file.close()"
   ]
  },
  {
   "cell_type": "code",
   "execution_count": 64,
   "metadata": {},
   "outputs": [
    {
     "name": "stdout",
     "output_type": "stream",
     "text": [
      "['pero', 'perić', '1234655']\n"
     ]
    }
   ],
   "source": [
    "file = open('test.csv', 'r', encoding='utf-8')\n",
    "text = file.readline().strip().split(';')\n",
    "print(text)\n",
    "file.close()\n",
    "\n"
   ]
  },
  {
   "cell_type": "code",
   "execution_count": null,
   "metadata": {},
   "outputs": [
    {
     "data": {
      "text/html": [
       "<div>\n",
       "<style scoped>\n",
       "    .dataframe tbody tr th:only-of-type {\n",
       "        vertical-align: middle;\n",
       "    }\n",
       "\n",
       "    .dataframe tbody tr th {\n",
       "        vertical-align: top;\n",
       "    }\n",
       "\n",
       "    .dataframe thead th {\n",
       "        text-align: right;\n",
       "    }\n",
       "</style>\n",
       "<table border=\"1\" class=\"dataframe\">\n",
       "  <thead>\n",
       "    <tr style=\"text-align: right;\">\n",
       "      <th></th>\n",
       "      <th>ime</th>\n",
       "      <th>prezime</th>\n",
       "      <th>oib</th>\n",
       "    </tr>\n",
       "  </thead>\n",
       "  <tbody>\n",
       "    <tr>\n",
       "      <th>0</th>\n",
       "      <td>pero</td>\n",
       "      <td>perić</td>\n",
       "      <td>1234655</td>\n",
       "    </tr>\n",
       "    <tr>\n",
       "      <th>1</th>\n",
       "      <td>ivo</td>\n",
       "      <td>ivić</td>\n",
       "      <td>65487</td>\n",
       "    </tr>\n",
       "    <tr>\n",
       "      <th>2</th>\n",
       "      <td>marko</td>\n",
       "      <td>marić</td>\n",
       "      <td>56489796</td>\n",
       "    </tr>\n",
       "  </tbody>\n",
       "</table>\n",
       "</div>"
      ],
      "text/plain": [
       "     ime prezime       oib\n",
       "0   pero   perić   1234655\n",
       "1    ivo    ivić     65487\n",
       "2  marko   marić  56489796"
      ]
     },
     "execution_count": 2,
     "metadata": {},
     "output_type": "execute_result"
    }
   ],
   "source": [
    "import pandas as pd\n",
    "pd.read_csv('test.csv', sep=';')"
   ]
  },
  {
   "cell_type": "code",
   "execution_count": 4,
   "metadata": {},
   "outputs": [],
   "source": [
    "with open('test', 'w') as file:\n",
    "    file.write('ovo je neki tekst')\n",
    "    input()"
   ]
  },
  {
   "cell_type": "code",
   "execution_count": 9,
   "metadata": {},
   "outputs": [
    {
     "data": {
      "text/plain": [
       "'null'"
      ]
     },
     "execution_count": 9,
     "metadata": {},
     "output_type": "execute_result"
    }
   ],
   "source": [
    "import json\n",
    "\n",
    "objekt = None\n",
    "json.dumps(objekt)"
   ]
  },
  {
   "cell_type": "code",
   "execution_count": null,
   "metadata": {},
   "outputs": [
    {
     "name": "stdout",
     "output_type": "stream",
     "text": [
      "None\n"
     ]
    }
   ],
   "source": [
    "import json\n",
    "with open('result.txt', 'r') as res:\n",
    "    result_json = res.read()\n",
    "\n",
    "result_dict = json.loads(result_json)\n",
    "print(result_dict['artists']['items'][0]['followers']['href'])\n"
   ]
  },
  {
   "cell_type": "code",
   "execution_count": 23,
   "metadata": {},
   "outputs": [
    {
     "name": "stdout",
     "output_type": "stream",
     "text": [
      "ivo\n"
     ]
    }
   ],
   "source": [
    "osoba = Osoba(*(\"ivo\", \"ivić\", \"12345678910\"))\n",
    "print(osoba.ime)"
   ]
  },
  {
   "cell_type": "code",
   "execution_count": 27,
   "metadata": {},
   "outputs": [],
   "source": [
    "with open('korisnici.txt', 'a') as file:\n",
    "    file.write(json.dumps(osoba.__dict__))"
   ]
  },
  {
   "cell_type": "code",
   "execution_count": 29,
   "metadata": {},
   "outputs": [
    {
     "name": "stdout",
     "output_type": "stream",
     "text": [
      "ivo\n"
     ]
    }
   ],
   "source": [
    "with open('korisnici.txt', 'r') as file:\n",
    "    podatak = file.read()\n",
    "podatak_dict = json.loads(podatak)\n",
    "osoba = Osoba(**podatak_dict)\n",
    "print(osoba.ime)\n"
   ]
  },
  {
   "cell_type": "code",
   "execution_count": 37,
   "metadata": {},
   "outputs": [],
   "source": [
    "učenici = [\n",
    "    (\"ivo\", \"ivić\", \"12345678910\"),\n",
    "    (\"pero\", \"perić\", \"12345678910\"),\n",
    "    (\"marko\", \"marić\", \"12345678910\"),\n",
    "]\n",
    "with open('korisnici.txt', 'a', ) as file:\n",
    "    for učenik in učenici:\n",
    "        file.write(\n",
    "            json.dumps(\n",
    "                Osoba(*učenik).__dict__\n",
    "            ) + '\\n'\n",
    "        )\n"
   ]
  },
  {
   "cell_type": "code",
   "execution_count": 39,
   "metadata": {},
   "outputs": [
    {
     "name": "stdout",
     "output_type": "stream",
     "text": [
      "<class 'dict'>\n",
      "ivo\n",
      "<class 'dict'>\n",
      "pero\n",
      "<class 'dict'>\n",
      "marko\n",
      "<class 'dict'>\n",
      "ivo\n",
      "<class 'dict'>\n",
      "pero\n",
      "<class 'dict'>\n",
      "marko\n"
     ]
    }
   ],
   "source": [
    "with open('korisnici.txt', 'r') as file:\n",
    "    for line in file.readlines():\n",
    "        data = json.loads(line)\n",
    "        print(type(data))\n",
    "        osoba = Osoba(**data)\n",
    "        print(osoba.ime)"
   ]
  },
  {
   "cell_type": "markdown",
   "metadata": {},
   "source": [
    "## Zadatak\n",
    "\n",
    "Napiši program koji će u database file čitati i dodavati termine za kozmetički tretman. Podaci su: ime i prezime, datum, vrijeme, tip tretmana, iznos."
   ]
  },
  {
   "cell_type": "code",
   "execution_count": 70,
   "metadata": {},
   "outputs": [
    {
     "name": "stdout",
     "output_type": "stream",
     "text": [
      "['ivo', 'ivić', '12.5.2025', '13:45', 'nokti', 30]\n",
      "['ivo', 'ivić', '12.5.2025', '13:45', 'nokti', 50]\n",
      "['ivo', 'ivić', '12.5.2025', '13:45', 'nokti', 60]\n",
      "['ivo', 'ivić', '12.5.2025', '13:45', 'nokti', 80]\n",
      "['ivo', 'ivić', '12.5.2025', '13:45', 'nokti', 90]\n",
      "['ivo', 'ivić', '12.5.2025', '13:45', 'nokti', 300]\n",
      "['ivo', 'ivić', '12.5.2025', '13:45', 'nokti', 500]\n"
     ]
    }
   ],
   "source": [
    "data = [\n",
    "    (\"ivo\", \"ivić\", \"12.5.2025\", \"13:45\", \"nokti\", 30),\n",
    "    (\"ivo\", \"ivić\", \"12.5.2025\", \"13:45\", \"nokti\", 50),\n",
    "    (\"ivo\", \"ivić\", \"12.5.2025\", \"13:45\", \"nokti\", 60),\n",
    "    (\"ivo\", \"ivić\", \"12.5.2025\", \"13:45\", \"nokti\", 80),\n",
    "    (\"ivo\", \"ivić\", \"12.5.2025\", \"13:45\", \"nokti\", 90),\n",
    "]\n",
    "\n",
    "dodati = [\n",
    "    (\"ivo\", \"ivić\", \"12.5.2025\", \"13:45\", \"nokti\", 300),\n",
    "    (\"ivo\", \"ivić\", \"12.5.2025\", \"13:45\", \"nokti\", 500),\n",
    "]\n",
    "\n",
    "# generiraj CSV\n",
    "with open('nokti.csv', 'a') as file:\n",
    "    for termin in data:\n",
    "        file.write(';'.join(map(str, termin)) + '\\n')\n",
    "\n",
    "# dodaj jedan po jedan od podataka u dodati\n",
    "with open('nokti.csv', 'a') as file:\n",
    "    for termin in dodati:\n",
    "        file.write(';'.join(map(str, termin)) + '\\n')\n",
    "\n",
    "with open('nokti.csv', 'r') as file:\n",
    "    for line in file.readlines():\n",
    "        line = line.strip().split(';')\n",
    "        line[-1] = int(line[-1])\n",
    "        print(line)\n"
   ]
  },
  {
   "cell_type": "code",
   "execution_count": null,
   "metadata": {},
   "outputs": [],
   "source": [
    "data = pd.DataFrame([\n",
    "    (\"ivo\", \"ivić\", \"12.5.2025\", \"13:45\", \"nokti\", 30),\n",
    "    (\"ivo\", \"ivić\", \"12.5.2025\", \"13:45\", \"nokti\", 50),\n",
    "    (\"ivo\", \"ivić\", \"12.5.2025\", \"13:45\", \"nokti\", 60),\n",
    "    (\"ivo\", \"ivić\", \"12.5.2025\", \"13:45\", \"nokti\", 80),\n",
    "    (\"ivo\", \"ivić\", \"12.5.2025\", \"13:45\", \"nokti\", 90),\n",
    "], columns=[\"Ime\", \"Prezime\", \"Datum\", \"Vrijeme\", \"Tretman\", \"Iznos\"])\n",
    "\n",
    "# Novi podaci za dodavanje\n",
    "dodati = pd.DataFrame([\n",
    "    (\"ivo\", \"ivić\", \"12.5.2025\", \"13:45\", \"nokti\", 300, \"Josipa\"),\n",
    "    (\"ivo\", \"ivić\", \"12.5.2025\", \"13:45\", \"nokti\", 500, \"Ivana\"),\n",
    "], columns=[\"Ime\", \"Prezime\", \"Datum\", \"Vrijeme\", \"Tretman\", \"Iznos\", \"Djelatnik\"])\n",
    "\n",
    "\n",
    "data = [\n",
    "    (\"ivo\", \"ivić\", \"12.5.2025\", \"13:45\", \"nokti\", 30),\n",
    "    (\"ivo\", \"ivić\", \"12.5.2025\", \"13:45\", \"nokti\", 50),\n",
    "    (\"ivo\", \"ivić\", \"12.5.2025\", \"13:45\", \"nokti\", 60),\n",
    "    (\"ivo\", \"ivić\", \"12.5.2025\", \"13:45\", \"nokti\", 80),\n",
    "    (\"ivo\", \"ivić\", \"12.5.2025\", \"13:45\", \"nokti\", 90),\n",
    "]\n",
    "\n",
    "dodati = [\n",
    "    (\"ivo\", \"ivić\", \"12.5.2025\", \"13:45\", \"nokti\", 300),\n",
    "    (\"ivo\", \"ivić\", \"12.5.2025\", \"13:45\", \"nokti\", 500),\n",
    "]\n",
    "\n",
    "columns = [\"Ime\", \"Prezime\", \"Datum\", \"Vrijeme\", \"Tretman\", \"Iznos\"]\n",
    "data_df = pd.DataFrame(data, columns=columns)\n",
    "dodati_df = pd.DataFrame(dodati, columns=columns + [\"Djelatnik\"])"
   ]
  }
 ],
 "metadata": {
  "kernelspec": {
   "display_name": "Python 3",
   "language": "python",
   "name": "python3"
  },
  "language_info": {
   "codemirror_mode": {
    "name": "ipython",
    "version": 3
   },
   "file_extension": ".py",
   "mimetype": "text/x-python",
   "name": "python",
   "nbconvert_exporter": "python",
   "pygments_lexer": "ipython3",
   "version": "3.13.1"
  }
 },
 "nbformat": 4,
 "nbformat_minor": 2
}
