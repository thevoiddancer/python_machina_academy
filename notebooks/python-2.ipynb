{
 "cells": [
  {
   "cell_type": "markdown",
   "metadata": {},
   "source": [
    "# Notebook"
   ]
  },
  {
   "attachments": {
    "image.png": {
     "image/png": "[encoded data removed]"
    }
   },
   "cell_type": "markdown",
   "metadata": {},
   "source": [
    "Sustav za lakše interaktivno pisanje koda i bilježaka:\n",
    "\n",
    "\n",
    "![image.png](attachment:image.png)\n",
    "\n",
    "## Markdown\n",
    "\n",
    "Tekstualni blok. CTRL+ENTER oblikuje blok. Formatiranje znakovima:\n",
    "* `*` bold i italic\n",
    "* `_` underline\n",
    "* `#` naslovi\n",
    "* ` (ALT GR + 7) označavanje koda\n",
    "\n",
    "Double-click na blok za editiranje.\n",
    "\n",
    "Naslovi omogućuju foldanje blokova teksta i koda, klikom na strelicu lijevo od naslova.\n",
    "\n",
    "## Code\n",
    "\n",
    "Kombinacija SHELLa i pisanja programa. CTRL+ENTER izvršavanje. Pamti varijable u sljedeći blok."
   ]
  },
  {
   "cell_type": "markdown",
   "metadata": {},
   "source": [
    "# Kontrola toka"
   ]
  },
  {
   "cell_type": "markdown",
   "metadata": {},
   "source": [
    "## Zadatak 1"
   ]
  },
  {
   "cell_type": "markdown",
   "metadata": {},
   "source": [
    "Napiši program koji će preračunati dm i m u cm.\n",
    "\n",
    "```\n",
    "Unesi veličinu? 3 dm\n",
    "3 dm iznosi 30 cm.\n",
    "```"
   ]
  },
  {
   "cell_type": "code",
   "execution_count": 1,
   "metadata": {},
   "outputs": [
    {
     "name": "stdout",
     "output_type": "stream",
     "text": [
      "10 dm iznosi 100 cm\n"
     ]
    }
   ],
   "source": [
    "veličina = input(\"Unesi veličinu u m, cm ili dm: \")\n",
    "broj, mjera = veličina.split()\n",
    "broj = int(broj)\n",
    "\n",
    "if mjera == 'dm':\n",
    "    broj *= 10\n",
    "if mjera == 'm':\n",
    "    broj *= 100\n",
    "\n",
    "print(veličina, \"iznosi\", broj, \"cm\")"
   ]
  },
  {
   "cell_type": "markdown",
   "metadata": {},
   "source": [
    "## Primjer 1"
   ]
  },
  {
   "cell_type": "markdown",
   "metadata": {},
   "source": [
    "Napiši program koji će učitati broj godina i ispisati cijenu s popustom."
   ]
  },
  {
   "cell_type": "code",
   "execution_count": 2,
   "metadata": {},
   "outputs": [
    {
     "name": "stdout",
     "output_type": "stream",
     "text": [
      "cijena je 5€\n",
      "cijena je 15€\n",
      "cijena je 7€\n",
      "gotovo\n"
     ]
    }
   ],
   "source": [
    "godine = int(input(\"Unesi broj godina \"))\n",
    "if godine > 65:\n",
    "    print(\"cijena je 5€\")\n",
    "if godine > 18:\n",
    "    print(\"cijena je 15€\")\n",
    "if godine > 7:\n",
    "    print(\"cijena je 7€\")\n",
    "if godine < 7:\n",
    "    print(\"cijena je 0€\")\n",
    "\n",
    "print(\"gotovo\")\n"
   ]
  },
  {
   "cell_type": "markdown",
   "metadata": {},
   "source": [
    "Godnji program testira svaku liniju i pošto je više njih točno, onda vrati više odgovora.\n",
    "\n",
    "Točniji princip je da se ostali if-ovi zamijene s elif i else čime to postane samo jedan blok i samo jednom se testira."
   ]
  },
  {
   "cell_type": "code",
   "execution_count": 3,
   "metadata": {},
   "outputs": [
    {
     "name": "stdout",
     "output_type": "stream",
     "text": [
      "cijena je 5€\n",
      "gotovo\n"
     ]
    }
   ],
   "source": [
    "godine = int(input(\"Unesi broj godina \"))\n",
    "if godine > 65:\n",
    "    print(\"cijena je 5€\")\n",
    "elif godine > 18:\n",
    "    print(\"cijena je 15€\")\n",
    "elif godine > 7:\n",
    "    print(\"cijena je 7€\")\n",
    "else:\n",
    "    print(\"cijena je 0€\")\n",
    "\n",
    "print(\"gotovo\")\n"
   ]
  },
  {
   "cell_type": "markdown",
   "metadata": {},
   "source": [
    "## Primjer 2"
   ]
  },
  {
   "cell_type": "markdown",
   "metadata": {},
   "source": [
    "Zadatak: Unesi 3 stranice i opiši koji tip trokuta"
   ]
  },
  {
   "cell_type": "code",
   "execution_count": 5,
   "metadata": {},
   "outputs": [
    {
     "name": "stdout",
     "output_type": "stream",
     "text": [
      "Stranice su: 3 4 3\n",
      "jednakokračan\n"
     ]
    }
   ],
   "source": [
    "a = int(input(\"Unesi stranicu: \"))\n",
    "b = int(input(\"Unesi stranicu: \"))\n",
    "c = int(input(\"Unesi stranicu: \"))\n",
    "\n",
    "print(\"Stranice su:\", a, b, c)\n",
    "\n",
    "if a == b == c:\n",
    "    print(\"Jednakostraničan\")\n",
    "elif a ** 2 + b ** 2 == c ** 2:\n",
    "    print(\"pravokutan\")\n",
    "elif a == b != c:\n",
    "    print(\"jednakokračan\")\n",
    "elif c == b != a:\n",
    "    print(\"jednakokračan\")\n",
    "elif a == c != b:\n",
    "    print(\"jednakokračan\")\n",
    "else:\n",
    "    print(\"raznostraničan\")\n"
   ]
  },
  {
   "cell_type": "markdown",
   "metadata": {},
   "source": [
    "Ovdje imamo 3 elif grane kojoj je rezultat ista stvar. To se može zamijeniti tako da se uvjeti spoje u jedan, koristeći `and`, `or` ili `not`.\n",
    "\n",
    "Dodatno, pojedinačne uvjete možemo staviti u zagrade da se jasnije vide."
   ]
  },
  {
   "cell_type": "code",
   "execution_count": 7,
   "metadata": {},
   "outputs": [
    {
     "name": "stdout",
     "output_type": "stream",
     "text": [
      "Stranice su: 3 4 3\n",
      "jednakokračan\n"
     ]
    }
   ],
   "source": [
    "a = int(input(\"Unesi stranicu: \"))\n",
    "b = int(input(\"Unesi stranicu: \"))\n",
    "c = int(input(\"Unesi stranicu: \"))\n",
    "\n",
    "print(\"Stranice su:\", a, b, c)\n",
    "\n",
    "if a == b == c:\n",
    "    print(\"Jednakostraničan\")\n",
    "elif a ** 2 + b ** 2 == c ** 2:\n",
    "    print(\"pravokutan\")\n",
    "elif (a == b != c) or (c == b != a) or (a == c != b):\n",
    "    print(\"jednakokračan\")\n",
    "else:\n",
    "    print(\"raznostraničan\")\n"
   ]
  },
  {
   "cell_type": "markdown",
   "metadata": {},
   "source": [
    "## Zadatak 2"
   ]
  },
  {
   "cell_type": "markdown",
   "metadata": {},
   "source": [
    "Napiši program koji će učitati vrijeme i onda odgovoriti radi li trgovina. Radno vrijeme trgovine je dvokratno od 8 do 11:do 30 i od 14:30 do 18."
   ]
  },
  {
   "cell_type": "code",
   "execution_count": 8,
   "metadata": {},
   "outputs": [
    {
     "name": "stdout",
     "output_type": "stream",
     "text": [
      "radi\n"
     ]
    }
   ],
   "source": [
    "# Napišimo prvo samo za sate 8 - 10\n",
    "sati = int(input(\"Unesi sate\"))\n",
    "\n",
    "if 8 <= sati < 11:\n",
    "    print('radi')\n",
    "else:\n",
    "    print('ne radi')\n"
   ]
  },
  {
   "cell_type": "code",
   "execution_count": null,
   "metadata": {},
   "outputs": [
    {
     "name": "stdout",
     "output_type": "stream",
     "text": [
      "radi\n"
     ]
    }
   ],
   "source": [
    "# Proširimo s minutama, do 11:30\n",
    "sati = int(input(\"Unesi sate\"))\n",
    "minute = int(input(\"Unesi minute\"))\n",
    "\n",
    "if (8 <= sati < 11) or (sati == 11 and minute <= 30):\n",
    "    print('radi')\n",
    "else:\n",
    "    print('ne radi')\n"
   ]
  },
  {
   "cell_type": "code",
   "execution_count": null,
   "metadata": {},
   "outputs": [
    {
     "name": "stdout",
     "output_type": "stream",
     "text": [
      "radi\n"
     ]
    }
   ],
   "source": [
    "# Riješimo sad kompletno zadatak\n",
    "sati = int(input(\"Unesi sate\"))\n",
    "minute = int(input(\"Unesi minute\"))\n",
    "\n",
    "if (8 <= sati < 11) or (sati == 11 and minute <= 30) or (sati == 14 and minute > 30) or (15 <= sati < 18):\n",
    "    print('radi')\n",
    "else:\n",
    "    print('ne radi')\n"
   ]
  },
  {
   "cell_type": "markdown",
   "metadata": {},
   "source": [
    "## Domaća zadaća 1"
   ]
  },
  {
   "cell_type": "markdown",
   "metadata": {},
   "source": [
    "Modificirajte gornji program tako da se vrijeme upiše u obliku HH:MM, dakle 10:38, 09:42 ...\n",
    "\n",
    "***HINTOVI***\n",
    "\n",
    "1. Koristite string metodu .split() na unešenom vremenu\n",
    "2. Ne zaboravite promijeniti u brojeve\n"
   ]
  },
  {
   "cell_type": "markdown",
   "metadata": {},
   "source": [
    "# Importiranje"
   ]
  },
  {
   "cell_type": "markdown",
   "metadata": {},
   "source": [
    "## Random"
   ]
  },
  {
   "cell_type": "code",
   "execution_count": 11,
   "metadata": {},
   "outputs": [
    {
     "name": "stdout",
     "output_type": "stream",
     "text": [
      "7\n",
      "0.7508774814852284\n"
     ]
    }
   ],
   "source": [
    "import random\n",
    "\n",
    "cijeli_broj = random.randint(1, 10)\n",
    "print(cijeli_broj)\n",
    "\n",
    "decimalni_broj = random.random()\n",
    "print(decimalni_broj)"
   ]
  },
  {
   "cell_type": "markdown",
   "metadata": {},
   "source": [
    "## Datetime"
   ]
  },
  {
   "cell_type": "code",
   "execution_count": 14,
   "metadata": {},
   "outputs": [
    {
     "data": {
      "text/plain": [
       "datetime.datetime(2025, 1, 29, 23, 52, 12, 200421)"
      ]
     },
     "execution_count": 14,
     "metadata": {},
     "output_type": "execute_result"
    }
   ],
   "source": [
    "import datetime as dt\n",
    "sada = dt.datetime.now()\n",
    "sada"
   ]
  },
  {
   "cell_type": "markdown",
   "metadata": {},
   "source": [
    "Varijablu `sada` smo gore samo pozvali i zato izgleda čudno. Ovako izgleda kad ju ispišemo."
   ]
  },
  {
   "cell_type": "code",
   "execution_count": 17,
   "metadata": {},
   "outputs": [
    {
     "name": "stdout",
     "output_type": "stream",
     "text": [
      "2025-01-29 23:52:12.200421\n"
     ]
    }
   ],
   "source": [
    "print(sada)"
   ]
  },
  {
   "cell_type": "markdown",
   "metadata": {},
   "source": [
    "## Primjer 3: timedelta"
   ]
  },
  {
   "cell_type": "markdown",
   "metadata": {},
   "source": [
    "Jednostavna štoperica: čeka dok ne lupim enter na input naredbi."
   ]
  },
  {
   "cell_type": "code",
   "execution_count": 16,
   "metadata": {},
   "outputs": [
    {
     "data": {
      "text/plain": [
       "datetime.timedelta(seconds=1, microseconds=413343)"
      ]
     },
     "execution_count": 16,
     "metadata": {},
     "output_type": "execute_result"
    }
   ],
   "source": [
    "start = dt.datetime.now()\n",
    "input()\n",
    "end = dt.datetime.now()\n",
    "\n",
    "end - start"
   ]
  },
  {
   "cell_type": "markdown",
   "metadata": {},
   "source": [
    "Možemo dobiti sekunde tako da ih specificiramo iza točke"
   ]
  },
  {
   "cell_type": "code",
   "execution_count": 18,
   "metadata": {},
   "outputs": [
    {
     "data": {
      "text/plain": [
       "1"
      ]
     },
     "execution_count": 18,
     "metadata": {},
     "output_type": "execute_result"
    }
   ],
   "source": [
    "(end - start).seconds"
   ]
  },
  {
   "cell_type": "markdown",
   "metadata": {},
   "source": [
    "## Primjer 4: Pretvaranje iz datuma u tekst"
   ]
  },
  {
   "cell_type": "code",
   "execution_count": 19,
   "metadata": {},
   "outputs": [
    {
     "data": {
      "text/plain": [
       "'17:14'"
      ]
     },
     "execution_count": 19,
     "metadata": {},
     "output_type": "execute_result"
    }
   ],
   "source": [
    "sada = dt.datetime.now()\n",
    "sada.strftime('%H:%M')"
   ]
  },
  {
   "cell_type": "markdown",
   "metadata": {},
   "source": [
    "## Primjer 5: Pretvaranje iz teksta u datum"
   ]
  },
  {
   "cell_type": "code",
   "execution_count": 21,
   "metadata": {},
   "outputs": [
    {
     "data": {
      "text/plain": [
       "datetime.datetime(1900, 1, 1, 15, 5, 11)"
      ]
     },
     "execution_count": 21,
     "metadata": {},
     "output_type": "execute_result"
    }
   ],
   "source": [
    "vrijeme_string = '15:05:11'\n",
    "\n",
    "dt.datetime.strptime(vrijeme_string, '%H:%M:%S')"
   ]
  },
  {
   "cell_type": "markdown",
   "metadata": {},
   "source": [
    "## Zadatak 3: dani starosti"
   ]
  },
  {
   "cell_type": "markdown",
   "metadata": {},
   "source": [
    "Učitaj godinu, mjesec, dan rođenja i vrati broj dana starosti"
   ]
  },
  {
   "cell_type": "code",
   "execution_count": 143,
   "metadata": {},
   "outputs": [
    {
     "data": {
      "text/plain": [
       "datetime.date(2025, 1, 27)"
      ]
     },
     "execution_count": 143,
     "metadata": {},
     "output_type": "execute_result"
    }
   ],
   "source": [
    "godina = int(input(\"Unesi godinu\"))\n",
    "mjesec = int(input(\"Unesi mjesec\"))\n",
    "dan = int(input(\"Unesi dan\"))\n",
    "\n",
    "datum_rođenja = dt.date(godina, mjesec, dan)\n",
    "\n",
    "danas = dt.datetime.now().date()\n",
    "\n",
    "(danas - datum_rođenja).days"
   ]
  },
  {
   "cell_type": "markdown",
   "metadata": {},
   "source": [
    "## Zadatak 4: Prvi dan u mjesecu"
   ]
  },
  {
   "cell_type": "markdown",
   "metadata": {},
   "source": [
    "Vrati koji je bio dan u tjednu 1. dan ovaj mjesec"
   ]
  },
  {
   "cell_type": "code",
   "execution_count": 153,
   "metadata": {},
   "outputs": [
    {
     "data": {
      "text/plain": [
       "'Saturday'"
      ]
     },
     "execution_count": 153,
     "metadata": {},
     "output_type": "execute_result"
    }
   ],
   "source": [
    "danas = dt.datetime.now().date()\n",
    "godina = danas.year\n",
    "mjesec = danas.month + 1\n",
    "prvi_dan = dt.date(godina, mjesec, 1)\n",
    "prvi_dan.strftime('%A')"
   ]
  },
  {
   "cell_type": "markdown",
   "metadata": {},
   "source": [
    "## Domaća zadaća 2:"
   ]
  },
  {
   "cell_type": "markdown",
   "metadata": {},
   "source": [
    "Napiši program koji će učitati datum rođenja u bilo kojem obliku koji vam padne na pamet (jedan string)\n",
    "i onda vratiti koji je dan bio na taj datum.\n",
    "\n",
    "***HINT***\n",
    "Za pretvaranje koristite ovaj cheat-sheet: https://strftime.org/"
   ]
  },
  {
   "cell_type": "markdown",
   "metadata": {},
   "source": [
    "## Zadatak 5: Pogađanje"
   ]
  },
  {
   "cell_type": "markdown",
   "metadata": {},
   "source": [
    "Napiši program koji će zamisliti broj od 1 do 10 i onda dati korisniku 2 pokušaja da ga pogodi. Nakon pokušaja treba vratiti je li zamišljeni broj veći ili manji."
   ]
  },
  {
   "cell_type": "code",
   "execution_count": 22,
   "metadata": {},
   "outputs": [
    {
     "name": "stdout",
     "output_type": "stream",
     "text": [
      "manji\n",
      "manji\n"
     ]
    }
   ],
   "source": [
    "import random\n",
    "broj = random.randint(1, 10)\n",
    "\n",
    "pokušaj = int(input(\"Pogodi broj\"))\n",
    "\n",
    "if broj > pokušaj:\n",
    "    print('veći')\n",
    "elif broj < pokušaj:\n",
    "    print('manji')\n",
    "else:\n",
    "    print('pogodio si')\n",
    "    # prekini izvršavanje programa\n",
    "\n",
    "pokušaj = int(input(\"Pogodi broj\"))\n",
    "\n",
    "if broj > pokušaj:\n",
    "    print('veći')\n",
    "elif broj < pokušaj:\n",
    "    print('manji')\n",
    "else:\n",
    "    print('pogodio si')\n",
    "\n"
   ]
  },
  {
   "cell_type": "markdown",
   "metadata": {},
   "source": [
    "## Zadatak 6: Poker"
   ]
  },
  {
   "cell_type": "markdown",
   "metadata": {},
   "source": [
    "Napiši program koji će izvući 5 karata iz špila od 52. Karte treba napisati u obliku vrijednosti i špila. Ok je da se ponavljaju."
   ]
  },
  {
   "cell_type": "code",
   "execution_count": 231,
   "metadata": {},
   "outputs": [
    {
     "name": "stdout",
     "output_type": "stream",
     "text": [
      "5♠ 3♣ J♦ J♠ 6♦\n"
     ]
    }
   ],
   "source": [
    "TIP_ŠPILA = '♠♥♦♣'\n",
    "TIP_VRIJEDNOSTI = '23456789XJQKA'\n",
    "\n",
    "špil = random.choice(TIP_ŠPILA)\n",
    "vrijednost = random.choice(TIP_VRIJEDNOSTI)\n",
    "if vrijednost == 'X':\n",
    "    vrijednost = '10'\n",
    "karta1 = vrijednost + špil\n",
    "\n",
    "špil = random.choice(TIP_ŠPILA)\n",
    "vrijednost = random.choice(TIP_VRIJEDNOSTI)\n",
    "if vrijednost == 'X':\n",
    "    vrijednost = '10'\n",
    "karta2 = vrijednost + špil\n",
    "\n",
    "špil = random.choice(TIP_ŠPILA)\n",
    "vrijednost = random.choice(TIP_VRIJEDNOSTI)\n",
    "if vrijednost == 'X':\n",
    "    vrijednost = '10'\n",
    "karta3 = vrijednost + špil\n",
    "\n",
    "špil = random.choice(TIP_ŠPILA)\n",
    "vrijednost = random.choice(TIP_VRIJEDNOSTI)\n",
    "if vrijednost == 'X':\n",
    "    vrijednost = '10'\n",
    "karta4 = vrijednost + špil\n",
    "\n",
    "špil = random.choice(TIP_ŠPILA)\n",
    "vrijednost = random.choice(TIP_VRIJEDNOSTI)\n",
    "if vrijednost == 'X':\n",
    "    vrijednost = '10'\n",
    "karta5 = vrijednost + špil\n",
    "\n",
    "print(karta1, karta2, karta3, karta4, karta5)"
   ]
  }
 ],
 "metadata": {
  "kernelspec": {
   "display_name": "Python 3",
   "language": "python",
   "name": "python3"
  },
  "language_info": {
   "codemirror_mode": {
    "name": "ipython",
    "version": 3
   },
   "file_extension": ".py",
   "mimetype": "text/x-python",
   "name": "python",
   "nbconvert_exporter": "python",
   "pygments_lexer": "ipython3",
   "version": "3.12.6"
  }
 },
 "nbformat": 4,
 "nbformat_minor": 2
}
