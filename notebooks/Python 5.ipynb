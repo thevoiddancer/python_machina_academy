{
 "cells": [
  {
   "cell_type": "markdown",
   "metadata": {},
   "source": [
    "# Funkcije"
   ]
  },
  {
   "cell_type": "markdown",
   "metadata": {},
   "source": [
    "## Tipovi po argumentima i rezultatu"
   ]
  },
  {
   "cell_type": "code",
   "execution_count": null,
   "metadata": {},
   "outputs": [],
   "source": [
    "# Po rezultatu:\n",
    "\n",
    "# bez rezultata\n",
    "val = print(\"nešto\")\n",
    "print(val)\n",
    "\n",
    "# rezultat\n",
    "ime = input(\"unesi ime\")\n",
    "print(ime)\n",
    "\n",
    "# više rezultata\n",
    "res = divmod(27, 8)\n",
    "print(res)\n",
    "hours, minutes = '12:15'.split(':')\n",
    "\n",
    "# Po argumentima:\n",
    "# pozicijski\n",
    "print(\"dobro došao\", ime)\n",
    "\n",
    "# ključna riječ\n",
    "print(\"dobro došao\", ime, sep=' --- ')\n",
    "\n",
    "# prazni\n",
    "import random\n",
    "print(random.random())\n"
   ]
  },
  {
   "cell_type": "markdown",
   "metadata": {},
   "source": [
    "## Generatori"
   ]
  },
  {
   "cell_type": "code",
   "execution_count": 5,
   "metadata": {},
   "outputs": [
    {
     "name": "stdout",
     "output_type": "stream",
     "text": [
      "8448728\n",
      "208\n"
     ]
    }
   ],
   "source": [
    "def list_function(n):\n",
    "    return [i for i in range(n)]\n",
    "\n",
    "def list_generator(n):\n",
    "    for i in range(n):\n",
    "        yield i\n",
    "\n",
    "import sys\n",
    "x = list_function(10**6)\n",
    "print(sys.getsizeof(x))\n",
    "\n",
    "y = list_generator(10**6)\n",
    "print(sys.getsizeof(y))"
   ]
  },
  {
   "cell_type": "markdown",
   "metadata": {},
   "source": [
    "## Definiranje funkcije"
   ]
  },
  {
   "cell_type": "markdown",
   "metadata": {},
   "source": [
    "```python\n",
    "def ime_funkciije(parametri):\n",
    "    # tijelo funkcije\n",
    "    return 'vrijednost'\n",
    "```\n",
    "\n",
    "Primjeri iz prošlih zadataka:\n",
    "1. Funkcija za učitavanje cijelih brojeva\n",
    "2. Funkcija za učitavanje cijelih ili decimalnih brojeva\n",
    "3. Funkcija za generiranje karte\n",
    "4. Funkcija za generiranje karte koja već nije izvučena\n"
   ]
  },
  {
   "cell_type": "code",
   "execution_count": 6,
   "metadata": {},
   "outputs": [
    {
     "name": "stdout",
     "output_type": "stream",
     "text": [
      "100\n"
     ]
    }
   ],
   "source": [
    "def input_int(prompt):\n",
    "    val = input(prompt)\n",
    "    return int(val)\n",
    "\n",
    "x = input_int(\"unesi broj\")\n",
    "print(x * 10)"
   ]
  },
  {
   "cell_type": "code",
   "execution_count": 7,
   "metadata": {},
   "outputs": [
    {
     "ename": "TypeError",
     "evalue": "input_int() missing 1 required positional argument: 'prompt'",
     "output_type": "error",
     "traceback": [
      "\u001b[0;31m---------------------------------------------------------------------------\u001b[0m",
      "\u001b[0;31mTypeError\u001b[0m                                 Traceback (most recent call last)",
      "Cell \u001b[0;32mIn[7], line 1\u001b[0m\n\u001b[0;32m----> 1\u001b[0m x \u001b[38;5;241m=\u001b[39m \u001b[43minput_int\u001b[49m\u001b[43m(\u001b[49m\u001b[43m)\u001b[49m\n",
      "\u001b[0;31mTypeError\u001b[0m: input_int() missing 1 required positional argument: 'prompt'"
     ]
    }
   ],
   "source": [
    "x = input_int()"
   ]
  },
  {
   "cell_type": "code",
   "execution_count": 8,
   "metadata": {},
   "outputs": [
    {
     "name": "stdout",
     "output_type": "stream",
     "text": [
      "50\n"
     ]
    }
   ],
   "source": [
    "def input_int(prompt = ''):\n",
    "    val = input(prompt)\n",
    "    return int(val)\n",
    "\n",
    "x = input_int()\n",
    "print(x * 10)"
   ]
  },
  {
   "cell_type": "code",
   "execution_count": 15,
   "metadata": {},
   "outputs": [
    {
     "ename": "TypeError",
     "evalue": "upiši_osobu() got multiple values for argument 'godine'",
     "output_type": "error",
     "traceback": [
      "\u001b[0;31m---------------------------------------------------------------------------\u001b[0m",
      "\u001b[0;31mTypeError\u001b[0m                                 Traceback (most recent call last)",
      "Cell \u001b[0;32mIn[15], line 4\u001b[0m\n\u001b[1;32m      1\u001b[0m \u001b[38;5;28;01mdef\u001b[39;00m \u001b[38;5;21mupiši_osobu\u001b[39m(godine, ime, prezime):\n\u001b[1;32m      2\u001b[0m     \u001b[38;5;28;01mpass\u001b[39;00m\n\u001b[0;32m----> 4\u001b[0m \u001b[43mupiši_osobu\u001b[49m\u001b[43m(\u001b[49m\u001b[38;5;124;43m\"\u001b[39;49m\u001b[38;5;124;43mTomislav\u001b[39;49m\u001b[38;5;124;43m\"\u001b[39;49m\u001b[43m,\u001b[49m\u001b[43m \u001b[49m\u001b[38;5;124;43m\"\u001b[39;49m\u001b[38;5;124;43mNazifović\u001b[39;49m\u001b[38;5;124;43m\"\u001b[39;49m\u001b[43m,\u001b[49m\u001b[43m \u001b[49m\u001b[43mgodine\u001b[49m\u001b[38;5;241;43m=\u001b[39;49m\u001b[38;5;241;43m44\u001b[39;49m\u001b[43m)\u001b[49m\n",
      "\u001b[0;31mTypeError\u001b[0m: upiši_osobu() got multiple values for argument 'godine'"
     ]
    }
   ],
   "source": [
    "def upiši_osobu(godine, ime, prezime):\n",
    "    pass\n",
    "\n",
    "upiši_osobu(\"Tomislav\", \"Nazifović\", godine=44)"
   ]
  },
  {
   "cell_type": "code",
   "execution_count": 16,
   "metadata": {},
   "outputs": [
    {
     "ename": "SyntaxError",
     "evalue": "positional argument follows keyword argument (3489835308.py, line 1)",
     "output_type": "error",
     "traceback": [
      "\u001b[0;36m  Cell \u001b[0;32mIn[16], line 1\u001b[0;36m\u001b[0m\n\u001b[0;31m    upiši_osobu(ime=\"Tomislav\", \"Nazifović\", godine=44)\u001b[0m\n\u001b[0m                                                      ^\u001b[0m\n\u001b[0;31mSyntaxError\u001b[0m\u001b[0;31m:\u001b[0m positional argument follows keyword argument\n"
     ]
    }
   ],
   "source": [
    "upiši_osobu(ime=\"Tomislav\", \"Nazifović\", godine=44)"
   ]
  },
  {
   "cell_type": "code",
   "execution_count": 17,
   "metadata": {},
   "outputs": [
    {
     "ename": "TypeError",
     "evalue": "upiši_osobu_2() takes 2 positional arguments but 3 were given",
     "output_type": "error",
     "traceback": [
      "\u001b[0;31m---------------------------------------------------------------------------\u001b[0m",
      "\u001b[0;31mTypeError\u001b[0m                                 Traceback (most recent call last)",
      "Cell \u001b[0;32mIn[17], line 4\u001b[0m\n\u001b[1;32m      1\u001b[0m \u001b[38;5;28;01mdef\u001b[39;00m \u001b[38;5;21mupiši_osobu_2\u001b[39m(ime, \u001b[38;5;241m/\u001b[39m, prezime, \u001b[38;5;241m*\u001b[39m, godine):\n\u001b[1;32m      2\u001b[0m     \u001b[38;5;28;01mpass\u001b[39;00m\n\u001b[0;32m----> 4\u001b[0m \u001b[43mupiši_osobu_2\u001b[49m\u001b[43m(\u001b[49m\u001b[38;5;124;43m\"\u001b[39;49m\u001b[38;5;124;43mTomislav\u001b[39;49m\u001b[38;5;124;43m\"\u001b[39;49m\u001b[43m,\u001b[49m\u001b[43m \u001b[49m\u001b[38;5;124;43m\"\u001b[39;49m\u001b[38;5;124;43mNazifović\u001b[39;49m\u001b[38;5;124;43m\"\u001b[39;49m\u001b[43m,\u001b[49m\u001b[43m \u001b[49m\u001b[38;5;241;43m44\u001b[39;49m\u001b[43m)\u001b[49m\n",
      "\u001b[0;31mTypeError\u001b[0m: upiši_osobu_2() takes 2 positional arguments but 3 were given"
     ]
    }
   ],
   "source": [
    "def upiši_osobu_2(ime, /, prezime, *, godine):\n",
    "    pass\n",
    "\n",
    "upiši_osobu_2(\"Tomislav\", \"Nazifović\", 44)"
   ]
  },
  {
   "cell_type": "code",
   "execution_count": 18,
   "metadata": {},
   "outputs": [
    {
     "ename": "TypeError",
     "evalue": "upiši_osobu_2() got some positional-only arguments passed as keyword arguments: 'ime'",
     "output_type": "error",
     "traceback": [
      "\u001b[0;31m---------------------------------------------------------------------------\u001b[0m",
      "\u001b[0;31mTypeError\u001b[0m                                 Traceback (most recent call last)",
      "Cell \u001b[0;32mIn[18], line 1\u001b[0m\n\u001b[0;32m----> 1\u001b[0m \u001b[43mupiši_osobu_2\u001b[49m\u001b[43m(\u001b[49m\u001b[43mime\u001b[49m\u001b[38;5;241;43m=\u001b[39;49m\u001b[38;5;124;43m\"\u001b[39;49m\u001b[38;5;124;43mTomislav\u001b[39;49m\u001b[38;5;124;43m\"\u001b[39;49m\u001b[43m,\u001b[49m\u001b[43m \u001b[49m\u001b[43mprezime\u001b[49m\u001b[38;5;241;43m=\u001b[39;49m\u001b[38;5;124;43m\"\u001b[39;49m\u001b[38;5;124;43mNazifović\u001b[39;49m\u001b[38;5;124;43m\"\u001b[39;49m\u001b[43m,\u001b[49m\u001b[43m \u001b[49m\u001b[43mgodine\u001b[49m\u001b[38;5;241;43m=\u001b[39;49m\u001b[38;5;241;43m44\u001b[39;49m\u001b[43m)\u001b[49m\n",
      "\u001b[0;31mTypeError\u001b[0m: upiši_osobu_2() got some positional-only arguments passed as keyword arguments: 'ime'"
     ]
    }
   ],
   "source": [
    "upiši_osobu_2(ime=\"Tomislav\", prezime=\"Nazifović\", godine=44)"
   ]
  },
  {
   "cell_type": "code",
   "execution_count": 22,
   "metadata": {},
   "outputs": [
    {
     "name": "stdout",
     "output_type": "stream",
     "text": [
      "samo 1 podatak\n",
      "args= ()\n",
      "kwargs= {}\n",
      "više pozicijskih podataka\n",
      "args= (2, 3)\n",
      "kwargs= {}\n",
      "keyword podaci\n",
      "args= ()\n",
      "kwargs= {'a': 2, 'b': 3}\n",
      "sve zajedno\n",
      "args= (2, 3)\n",
      "kwargs= {'a': 4, 'b': 5}\n"
     ]
    }
   ],
   "source": [
    "def args_kwargs_function(x, *args, **kwargs):\n",
    "    print('args=', args)\n",
    "    print('kwargs=', kwargs)\n",
    "\n",
    "print('samo 1 podatak')\n",
    "args_kwargs_function(1)\n",
    "\n",
    "print('više pozicijskih podataka')\n",
    "args_kwargs_function(1, 2, 3)\n",
    "\n",
    "print('keyword podaci')\n",
    "args_kwargs_function(x=1, a=2, b=3)\n",
    "\n",
    "print('sve zajedno')\n",
    "args_kwargs_function(1, 2, 3, a=4, b=5)"
   ]
  },
  {
   "cell_type": "markdown",
   "metadata": {},
   "source": [
    "## Docstrings"
   ]
  },
  {
   "cell_type": "markdown",
   "metadata": {},
   "source": [
    "Numpy-style docstring\n",
    "\n",
    "```python\n",
    "def funkcija(parametri):\n",
    "    \"\"\"\n",
    "    Opis funkcije\n",
    "\n",
    "    Parameters\n",
    "    ----------\n",
    "    value: tip\n",
    "        opis parametra\n",
    "    \n",
    "    Returns\n",
    "    -------\n",
    "    tip\n",
    "        Opis vrijednosti\n",
    "    \n",
    "    Raises\n",
    "    ------\n",
    "    Greška\n",
    "        opis greške\n",
    "    \"\"\"\n",
    "    return\n",
    "```\n"
   ]
  },
  {
   "cell_type": "markdown",
   "metadata": {},
   "source": [
    "## Typing"
   ]
  },
  {
   "cell_type": "code",
   "execution_count": 24,
   "metadata": {},
   "outputs": [
    {
     "name": "stdout",
     "output_type": "stream",
     "text": [
      "8\n"
     ]
    },
    {
     "ename": "TypeError",
     "evalue": "can only concatenate str (not \"int\") to str",
     "output_type": "error",
     "traceback": [
      "\u001b[0;31m---------------------------------------------------------------------------\u001b[0m",
      "\u001b[0;31mTypeError\u001b[0m                                 Traceback (most recent call last)",
      "Cell \u001b[0;32mIn[24], line 5\u001b[0m\n\u001b[1;32m      2\u001b[0m     \u001b[38;5;28;01mreturn\u001b[39;00m broj \u001b[38;5;241m+\u001b[39m \u001b[38;5;241m1\u001b[39m\n\u001b[1;32m      4\u001b[0m \u001b[38;5;28mprint\u001b[39m(dodaj_1(\u001b[38;5;241m7\u001b[39m))\n\u001b[0;32m----> 5\u001b[0m \u001b[38;5;28mprint\u001b[39m(\u001b[43mdodaj_1\u001b[49m\u001b[43m(\u001b[49m\u001b[38;5;124;43m'\u001b[39;49m\u001b[38;5;124;43m4\u001b[39;49m\u001b[38;5;124;43m'\u001b[39;49m\u001b[43m)\u001b[49m)\n",
      "Cell \u001b[0;32mIn[24], line 2\u001b[0m, in \u001b[0;36mdodaj_1\u001b[0;34m(broj)\u001b[0m\n\u001b[1;32m      1\u001b[0m \u001b[38;5;28;01mdef\u001b[39;00m \u001b[38;5;21mdodaj_1\u001b[39m(broj):\n\u001b[0;32m----> 2\u001b[0m     \u001b[38;5;28;01mreturn\u001b[39;00m \u001b[43mbroj\u001b[49m\u001b[43m \u001b[49m\u001b[38;5;241;43m+\u001b[39;49m\u001b[43m \u001b[49m\u001b[38;5;241;43m1\u001b[39;49m\n",
      "\u001b[0;31mTypeError\u001b[0m: can only concatenate str (not \"int\") to str"
     ]
    }
   ],
   "source": [
    "def dodaj_1(broj):\n",
    "    return broj + 1\n",
    "\n",
    "print(dodaj_1(7))\n",
    "print(dodaj_1('4'))"
   ]
  },
  {
   "cell_type": "code",
   "execution_count": 25,
   "metadata": {},
   "outputs": [
    {
     "name": "stdout",
     "output_type": "stream",
     "text": [
      "8\n"
     ]
    },
    {
     "ename": "TypeError",
     "evalue": "can only concatenate str (not \"int\") to str",
     "output_type": "error",
     "traceback": [
      "\u001b[0;31m---------------------------------------------------------------------------\u001b[0m",
      "\u001b[0;31mTypeError\u001b[0m                                 Traceback (most recent call last)",
      "Cell \u001b[0;32mIn[25], line 5\u001b[0m\n\u001b[1;32m      2\u001b[0m     \u001b[38;5;28;01mreturn\u001b[39;00m broj \u001b[38;5;241m+\u001b[39m \u001b[38;5;241m1\u001b[39m\n\u001b[1;32m      4\u001b[0m \u001b[38;5;28mprint\u001b[39m(dodaj_2(\u001b[38;5;241m7\u001b[39m))\n\u001b[0;32m----> 5\u001b[0m \u001b[38;5;28mprint\u001b[39m(\u001b[43mdodaj_2\u001b[49m\u001b[43m(\u001b[49m\u001b[38;5;124;43m'\u001b[39;49m\u001b[38;5;124;43m7\u001b[39;49m\u001b[38;5;124;43m'\u001b[39;49m\u001b[43m)\u001b[49m)\n",
      "Cell \u001b[0;32mIn[25], line 2\u001b[0m, in \u001b[0;36mdodaj_2\u001b[0;34m(broj)\u001b[0m\n\u001b[1;32m      1\u001b[0m \u001b[38;5;28;01mdef\u001b[39;00m \u001b[38;5;21mdodaj_2\u001b[39m(broj: \u001b[38;5;28mint\u001b[39m) \u001b[38;5;241m-\u001b[39m\u001b[38;5;241m>\u001b[39m \u001b[38;5;28mint\u001b[39m:\n\u001b[0;32m----> 2\u001b[0m     \u001b[38;5;28;01mreturn\u001b[39;00m \u001b[43mbroj\u001b[49m\u001b[43m \u001b[49m\u001b[38;5;241;43m+\u001b[39;49m\u001b[43m \u001b[49m\u001b[38;5;241;43m1\u001b[39;49m\n",
      "\u001b[0;31mTypeError\u001b[0m: can only concatenate str (not \"int\") to str"
     ]
    }
   ],
   "source": [
    "def dodaj_2(broj: int) -> int:\n",
    "    return broj + 1\n",
    "\n",
    "print(dodaj_2(7))\n",
    "print(dodaj_2('7'))\n"
   ]
  },
  {
   "cell_type": "markdown",
   "metadata": {},
   "source": [
    "# Zadaci"
   ]
  },
  {
   "cell_type": "markdown",
   "metadata": {},
   "source": [
    "## Pogađanje brojeva"
   ]
  },
  {
   "cell_type": "code",
   "execution_count": 1,
   "metadata": {},
   "outputs": [
    {
     "name": "stdout",
     "output_type": "stream",
     "text": [
      "Dobrodošao na igru pogađanja brojeva!\n",
      "Odaberi težinu: 1-3\n",
      "1. broj u rasponu 1-10, 3 pokušaja\n",
      "2. broj u rasponu 1-20, 4 pokušaja\n",
      "3. broj u rasponu 1-40, 5 pokušaja\n",
      "probaj veći broj\n",
      "Pogodak! Bravo!\n"
     ]
    }
   ],
   "source": [
    "def input_int(prompt=''):\n",
    "    while True:\n",
    "        value = input(prompt)\n",
    "        if value.isnumeric():\n",
    "            return int(value)\n",
    "\n",
    "def težina():\n",
    "    print(\"Odaberi težinu: 1-3\")\n",
    "    print(\"1. broj u rasponu 1-10, 3 pokušaja\")\n",
    "    print(\"2. broj u rasponu 1-20, 4 pokušaja\")\n",
    "    print(\"3. broj u rasponu 1-40, 5 pokušaja\")\n",
    "    težina = input_int('Odaberi težinu: ')\n",
    "    random_min = 1\n",
    "    random_max = [10, 20, 40][težina - 1]\n",
    "    pokušaji = težina + 2\n",
    "    return random_min, random_max, pokušaji\n",
    "\n",
    "def pokušaj(ciljani_broj):\n",
    "    pokušani_broj = input_int(\"probaj pogoditi broj: \")\n",
    "    if pokušani_broj > ciljani_broj:\n",
    "        print(\"Probaj manji broj\")\n",
    "    elif pokušani_broj < ciljani_broj:\n",
    "        print(\"probaj veći broj\")\n",
    "    else:\n",
    "        print(\"Pogodak! Bravo!\")\n",
    "        return True\n",
    "    return False\n",
    "\n",
    "import random\n",
    "print(\"Dobrodošao na igru pogađanja brojeva!\")\n",
    "minimum, maximum, broj_pokušaja = težina()\n",
    "\n",
    "zamišljeni_broj = random.randint(minimum, maximum)\n",
    "for _ in range(broj_pokušaja):\n",
    "    if pokušaj(zamišljeni_broj):\n",
    "        break\n",
    "    "
   ]
  },
  {
   "cell_type": "markdown",
   "metadata": {},
   "source": [
    "## Izvlačenje karata"
   ]
  },
  {
   "cell_type": "code",
   "execution_count": 19,
   "metadata": {},
   "outputs": [
    {
     "name": "stdout",
     "output_type": "stream",
     "text": [
      "['3♥', 'J♣', '4♠', '8♥', 'J♠']\n"
     ]
    }
   ],
   "source": [
    "import random\n",
    "ŠPILOVI = '♠♥♦♣'\n",
    "\n",
    "VRIJEDNOSTI = '23456789XJQKA'\n",
    "VRIJEDNOSTI = list(VRIJEDNOSTI)\n",
    "VRIJEDNOSTI[VRIJEDNOSTI.index('X')] = '10'\n",
    "\n",
    "def izvuci_kartu():\n",
    "    špil = random.choice(ŠPILOVI)\n",
    "    vrijednost = random.choice(VRIJEDNOSTI)\n",
    "    return vrijednost + špil\n",
    "\n",
    "def izvuci_jedinstvenu_kartu(hand):\n",
    "    while True:\n",
    "        karta = izvuci_kartu()\n",
    "        if karta not in hand:\n",
    "            return karta\n",
    "\n",
    "karte = []\n",
    "for _ in range(5):\n",
    "    karte.append(izvuci_jedinstvenu_kartu(karte))\n",
    "\n",
    "print(karte)"
   ]
  },
  {
   "cell_type": "code",
   "execution_count": 36,
   "metadata": {},
   "outputs": [
    {
     "name": "stdout",
     "output_type": "stream",
     "text": [
      "['K♣', 'A♦', '2♦', '6♦', '5♥']\n"
     ]
    }
   ],
   "source": [
    "from itertools import product\n",
    "from random import choice\n",
    "\n",
    "ŠPILOVI = '♠♥♦♣'\n",
    "VRIJEDNOSTI = '23456789XJQKA'\n",
    "VRIJEDNOSTI = list(VRIJEDNOSTI)\n",
    "VRIJEDNOSTI[VRIJEDNOSTI.index('X')] = '10'\n",
    "špil = list(product(VRIJEDNOSTI, ŠPILOVI))\n",
    "\n",
    "def izvuci_kartu(špil):\n",
    "    karta = choice(špil)\n",
    "    špil.remove(karta)\n",
    "    karta = ''.join(karta)\n",
    "    return karta, špil\n",
    "\n",
    "karte = []\n",
    "for _ in range(5):\n",
    "    karta, špil = izvuci_kartu(špil)\n",
    "    karte.append(karta)\n",
    "\n",
    "print(karte)\n"
   ]
  },
  {
   "cell_type": "markdown",
   "metadata": {},
   "source": [
    "## Borba likova"
   ]
  }
 ],
 "metadata": {
  "kernelspec": {
   "display_name": "machina",
   "language": "python",
   "name": "python3"
  },
  "language_info": {
   "codemirror_mode": {
    "name": "ipython",
    "version": 3
   },
   "file_extension": ".py",
   "mimetype": "text/x-python",
   "name": "python",
   "nbconvert_exporter": "python",
   "pygments_lexer": "ipython3",
   "version": "3.11.9"
  }
 },
 "nbformat": 4,
 "nbformat_minor": 2
}
