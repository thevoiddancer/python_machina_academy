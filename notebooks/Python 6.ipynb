{
 "cells": [
  {
   "cell_type": "markdown",
   "metadata": {},
   "source": [
    "# Objekti"
   ]
  },
  {
   "cell_type": "markdown",
   "metadata": {},
   "source": [
    "## Pojmovi"
   ]
  },
  {
   "cell_type": "code",
   "execution_count": null,
   "metadata": {},
   "outputs": [
    {
     "data": {
      "text/plain": [
       "'PYTHON'"
      ]
     },
     "execution_count": 5,
     "metadata": {},
     "output_type": "execute_result"
    }
   ],
   "source": [
    "'python'.__doc__\n",
    "str.__doc__\n",
    "'python'.upper()\n",
    "#str.upper(\"python\")"
   ]
  },
  {
   "cell_type": "markdown",
   "metadata": {},
   "source": [
    "## Dunder (Double-UNDERscore) metode"
   ]
  },
  {
   "cell_type": "code",
   "execution_count": 15,
   "metadata": {},
   "outputs": [
    {
     "name": "stdout",
     "output_type": "stream",
     "text": [
      "INTEGER METODE\n",
      "['__abs__', '__add__', '__and__', '__bool__', '__ceil__', '__class__', '__delattr__', '__dir__', '__divmod__', '__doc__', '__eq__', '__float__', '__floor__', '__floordiv__', '__format__', '__ge__', '__getattribute__', '__getnewargs__', '__getstate__', '__gt__', '__hash__', '__index__', '__init__', '__init_subclass__', '__int__', '__invert__', '__le__', '__lshift__', '__lt__', '__mod__', '__mul__', '__ne__', '__neg__', '__new__', '__or__', '__pos__', '__pow__', '__radd__', '__rand__', '__rdivmod__', '__reduce__', '__reduce_ex__', '__repr__', '__rfloordiv__', '__rlshift__', '__rmod__', '__rmul__', '__ror__', '__round__', '__rpow__', '__rrshift__', '__rshift__', '__rsub__', '__rtruediv__', '__rxor__', '__setattr__', '__sizeof__', '__str__', '__sub__', '__subclasshook__', '__truediv__', '__trunc__', '__xor__', 'as_integer_ratio', 'bit_count', 'bit_length', 'conjugate', 'denominator', 'from_bytes', 'imag', 'is_integer', 'numerator', 'real', 'to_bytes']\n",
      "STRING METODE\n",
      "['__add__', '__class__', '__contains__', '__delattr__', '__dir__', '__doc__', '__eq__', '__format__', '__ge__', '__getattribute__', '__getitem__', '__getnewargs__', '__getstate__', '__gt__', '__hash__', '__init__', '__init_subclass__', '__iter__', '__le__', '__len__', '__lt__', '__mod__', '__mul__', '__ne__', '__new__', '__reduce__', '__reduce_ex__', '__repr__', '__rmod__', '__rmul__', '__setattr__', '__sizeof__', '__str__', '__subclasshook__', 'capitalize', 'casefold', 'center', 'count', 'encode', 'endswith', 'expandtabs', 'find', 'format', 'format_map', 'index', 'isalnum', 'isalpha', 'isascii', 'isdecimal', 'isdigit', 'isidentifier', 'islower', 'isnumeric', 'isprintable', 'isspace', 'istitle', 'isupper', 'join', 'ljust', 'lower', 'lstrip', 'maketrans', 'partition', 'removeprefix', 'removesuffix', 'replace', 'rfind', 'rindex', 'rjust', 'rpartition', 'rsplit', 'rstrip', 'split', 'splitlines', 'startswith', 'strip', 'swapcase', 'title', 'translate', 'upper', 'zfill']\n",
      "LIST METODE\n",
      "['__add__', '__class__', '__class_getitem__', '__contains__', '__delattr__', '__delitem__', '__dir__', '__doc__', '__eq__', '__format__', '__ge__', '__getattribute__', '__getitem__', '__getstate__', '__gt__', '__hash__', '__iadd__', '__imul__', '__init__', '__init_subclass__', '__iter__', '__le__', '__len__', '__lt__', '__mul__', '__ne__', '__new__', '__reduce__', '__reduce_ex__', '__repr__', '__reversed__', '__rmul__', '__setattr__', '__setitem__', '__sizeof__', '__str__', '__subclasshook__', 'append', 'clear', 'copy', 'count', 'extend', 'index', 'insert', 'pop', 'remove', 'reverse', 'sort']\n",
      "DICT METODE\n",
      "['__class__', '__class_getitem__', '__contains__', '__delattr__', '__delitem__', '__dir__', '__doc__', '__eq__', '__format__', '__ge__', '__getattribute__', '__getitem__', '__getstate__', '__gt__', '__hash__', '__init__', '__init_subclass__', '__ior__', '__iter__', '__le__', '__len__', '__lt__', '__ne__', '__new__', '__or__', '__reduce__', '__reduce_ex__', '__repr__', '__reversed__', '__ror__', '__setattr__', '__setitem__', '__sizeof__', '__str__', '__subclasshook__', 'clear', 'copy', 'fromkeys', 'get', 'items', 'keys', 'pop', 'popitem', 'setdefault', 'update', 'values']\n"
     ]
    }
   ],
   "source": [
    "num = 1\n",
    "print(\"INTEGER METODE\")\n",
    "print(dir(num))\n",
    "\n",
    "string = 'test'\n",
    "print(\"STRING METODE\")\n",
    "print(dir(string))\n",
    "\n",
    "lista = []\n",
    "print(\"LIST METODE\")\n",
    "print(dir(lista))\n",
    "\n",
    "dictionary = {}\n",
    "print(\"DICT METODE\")\n",
    "print(dir(dictionary))\n",
    "\n"
   ]
  },
  {
   "cell_type": "markdown",
   "metadata": {},
   "source": [
    "## Kreiranje"
   ]
  },
  {
   "cell_type": "markdown",
   "metadata": {},
   "source": [
    "```python\n",
    "class MojaKlasa:\n",
    "    class_attribute = 'test'\n",
    "\n",
    "    def __init__(self, value):\n",
    "        object_attribute = value\n",
    "    \n",
    "    def test(self):\n",
    "        print(self.class_atribut)\n",
    "```"
   ]
  },
  {
   "cell_type": "code",
   "execution_count": 29,
   "metadata": {},
   "outputs": [
    {
     "name": "stdout",
     "output_type": "stream",
     "text": [
      "Tomislav Nazifović (OIB: 00012345678)\n"
     ]
    }
   ],
   "source": [
    "# Klasa koji predstavlja osobe\n",
    "#from sustav_za_provjeru_adresa import provjeri_adresu\n",
    "\n",
    "class Osoba:\n",
    "    def __init__(self, ime, prezime, godina_rođenja, oib, mail, telefon, adresa):\n",
    "        self.ime = ime\n",
    "        self.prezime = prezime\n",
    "        self.godina_rođenja = godina_rođenja\n",
    "        self.oib = self.provjeri_oib(oib)\n",
    "        self.mail = self.provjeri_mail(mail)\n",
    "        self.telefon = telefon\n",
    " #       self.adresa = provjeri_adresu(adresa)\n",
    "        self.adresa = adresa\n",
    "    \n",
    "    def provjeri_oib(self, oib):\n",
    "        if len(oib) == 11:\n",
    "            return oib\n",
    "        else:\n",
    "            print(\"Nevaljan OIB\")\n",
    "            return None\n",
    "    \n",
    "    def provjeri_mail(self, mail):\n",
    "        if '@' in mail:\n",
    "            return mail\n",
    "        else:\n",
    "            print(\"Nevaljan mail\")\n",
    "            return None\n",
    "    \n",
    "    def __str__(self):\n",
    "        # Tomislav Nazifović (OIB: 00012345678)\n",
    "        return f'{self.ime} {self.prezime} (OIB: {self.oib})'\n",
    "\n",
    "ja = Osoba('Tomislav', 'Nazifović', 1980, '00012345678', 't.n@gmail.com', '091/111-111', 'kvatrić 2')\n",
    "print(ja)"
   ]
  },
  {
   "cell_type": "code",
   "execution_count": 31,
   "metadata": {},
   "outputs": [
    {
     "name": "stdout",
     "output_type": "stream",
     "text": [
      "Nevaljan OIB\n",
      "Tomislav Nazifović (OIB: None)\n"
     ]
    }
   ],
   "source": [
    "osoba_dict = {\n",
    "    'ime': 'Tomislav',\n",
    "    'prezime': 'Nazifović',\n",
    "    'godina_rođenja': 1980,\n",
    "    'oib': '12345678',\n",
    "    'mail': 't.n@gmail.com', \n",
    "    'telefon': '091/111-111',\n",
    "    'adresa': 'kvatrić 2'\n",
    "}\n",
    "\n",
    "osoba_obj = Osoba(**osoba_dict)\n",
    "print(osoba_obj)"
   ]
  },
  {
   "cell_type": "markdown",
   "metadata": {},
   "source": [
    "### Vježba"
   ]
  },
  {
   "cell_type": "markdown",
   "metadata": {},
   "source": [
    "1. Kreirajte klasu kojom možete raditi s 2D točkama.\n",
    "2. Kreirajte klasu kojom možete raditi s 2D dužinama.\n",
    "3. Kreirajte klasu kojom možete raditi s 2D pravcima.\n",
    "4. Kreirajte klasu kojom možete raditi s trokutima.\n",
    "5. Kreirajte klasu kojom možete raditi s vektorima.\n",
    "6. Kreirajte klasu za članove nogometnog tima i napišite program kojim možete unijeti članove i prikazati njihovu statistiku.\n",
    "\n"
   ]
  },
  {
   "cell_type": "code",
   "execution_count": 82,
   "metadata": {},
   "outputs": [
    {
     "name": "stdout",
     "output_type": "stream",
     "text": [
      "A (1, 1)\n",
      "B (3, 4)\n",
      " (4, 5)\n",
      " (1.0, 1.3333333333333333)\n"
     ]
    }
   ],
   "source": [
    "# 2d točke\n",
    "# x, y, [ime]\n",
    "# udaljenost do druge\n",
    "# udaljenost od središta\n",
    "# string prikaz\n",
    "import math\n",
    "\n",
    "class Točka:\n",
    "    def __init__(self, x, y, ime=None):\n",
    "        self.x = x\n",
    "        self.y = y\n",
    "        self.ime = ime\n",
    "    \n",
    "    def udalj_kvadr(self, other):\n",
    "        return (other.x - self.x) ** 2 + (other.y - self.y) ** 2\n",
    "    \n",
    "    def udaljenost(self, other):\n",
    "        return math.sqrt( self.udalj_kvadr(other) )\n",
    "\n",
    "    def __str__(self):\n",
    "        # A (0, 0)\n",
    "        # (3, 4)\n",
    "#        if self.ime:\n",
    "#            ime = f'{self.ime} '\n",
    "#        else:\n",
    "#            ime = ''\n",
    "        ime = f'{self.ime or \"\"} '\n",
    "        koordinate = f'({self.x}, {self.y})'\n",
    "        return ime + koordinate\n",
    "\n",
    "    def __repr__(self):\n",
    "        # A (0, 0)\n",
    "        # (3, 4)\n",
    "#        if self.ime:\n",
    "#            ime = f'{self.ime} '\n",
    "#        else:\n",
    "#            ime = ''\n",
    "        ime = f'{self.ime or \"\"} '\n",
    "        koordinate = f'({self.x}, {self.y})'\n",
    "        return ime + koordinate\n",
    "\n",
    "    def __add__(self, other):\n",
    "        return Točka( self.x + other.x, self.y + other.y )\n",
    "\n",
    "    def __truediv__(self, broj):\n",
    "        return Točka( self.x / broj, self.y / broj)\n",
    "\n",
    "A = Točka(1, 1, 'A')\n",
    "B = Točka(3, 4, 'B')\n",
    "\n",
    "print(A)\n",
    "print(B)\n",
    "print(A + B)\n",
    "print(B / 3)"
   ]
  },
  {
   "cell_type": "code",
   "execution_count": 87,
   "metadata": {},
   "outputs": [
    {
     "name": "stdout",
     "output_type": "stream",
     "text": [
      "AB ( A (0, 0), B (3, 4) )\n",
      " (1.5, 2.0)\n"
     ]
    }
   ],
   "source": [
    "# 2d dužine\n",
    "#+ 2 točke, [ime]\n",
    "# duljina\n",
    "# polovište\n",
    "# [simetrala]\n",
    "\n",
    "class Dužina:\n",
    "    def __init__(self, A: Točka, B: Točka, ime: str=None):\n",
    "        \"\"\"\n",
    "        Klasa za baratanje s dužinama. Uzima dva objekta tipa Točka.\n",
    "        \"\"\"\n",
    "        self.A = A\n",
    "        self.B = B\n",
    "        self.ime = ime\n",
    "\n",
    "    def duljina(self):\n",
    "        return self.A.udaljenost(self.B)\n",
    "    \n",
    "    def polovište(self):\n",
    "        return (A + B) / 2\n",
    "        #return Točka((self.A.x + self.B.x) / 2, (self.A.y + self.B.y) / 2)\n",
    "    \n",
    "    def __str__(self):\n",
    "        ime = f'{self.ime or \"\"} '\n",
    "        koordinate = f'( {self.A}, {self.B} )'\n",
    "        return ime + koordinate\n",
    "\n",
    "A = Točka(0, 0, 'A')\n",
    "B = Točka(3, 4, 'B')\n",
    "ab = Dužina(A, B, 'AB')\n",
    "ab.duljina()\n",
    "#( self.A.x + self.B.x ) / 2, (y1+y2) / 2\n",
    "print(ab)\n",
    "print(ab.polovište())"
   ]
  },
  {
   "cell_type": "code",
   "execution_count": null,
   "metadata": {},
   "outputs": [
    {
     "ename": "ZeroDivisionError",
     "evalue": "division by zero",
     "output_type": "error",
     "traceback": [
      "\u001b[1;31m---------------------------------------------------------------------------\u001b[0m",
      "\u001b[1;31mZeroDivisionError\u001b[0m                         Traceback (most recent call last)",
      "Cell \u001b[1;32mIn[101], line 62\u001b[0m\n\u001b[0;32m     59\u001b[0m     tim_obj\u001b[38;5;241m.\u001b[39mappend(Član(\u001b[38;5;241m*\u001b[39m\u001b[38;5;241m*\u001b[39migrač))\n\u001b[0;32m     61\u001b[0m \u001b[38;5;28;01mfor\u001b[39;00m igrač \u001b[38;5;129;01min\u001b[39;00m tim_obj:\n\u001b[1;32m---> 62\u001b[0m     \u001b[38;5;28mprint\u001b[39m(igrač, \u001b[43migrač\u001b[49m\u001b[38;5;241;43m.\u001b[39;49m\u001b[43mstatistika\u001b[49m\u001b[43m(\u001b[49m\u001b[43m)\u001b[49m)\n",
      "Cell \u001b[1;32mIn[101], line 33\u001b[0m, in \u001b[0;36mČlan.statistika\u001b[1;34m(self)\u001b[0m\n\u001b[0;32m     32\u001b[0m \u001b[38;5;28;01mdef\u001b[39;00m\u001b[38;5;250m \u001b[39m\u001b[38;5;21mstatistika\u001b[39m(\u001b[38;5;28mself\u001b[39m):\n\u001b[1;32m---> 33\u001b[0m     \u001b[38;5;28;01mreturn\u001b[39;00m \u001b[38;5;28;43mself\u001b[39;49m\u001b[38;5;241;43m.\u001b[39;49m\u001b[43mgolovi\u001b[49m\u001b[43m \u001b[49m\u001b[38;5;241;43m/\u001b[39;49m\u001b[43m \u001b[49m\u001b[38;5;28;43mself\u001b[39;49m\u001b[38;5;241;43m.\u001b[39;49m\u001b[43mbroj_utakmica\u001b[49m\n",
      "\u001b[1;31mZeroDivisionError\u001b[0m: division by zero"
     ]
    }
   ],
   "source": [
    "# Kreirajte klasu za članove nogometnog tima i \n",
    "# napišite program kojim možete unijeti članove i \n",
    "# prikazati njihovu statistiku\n",
    "\n",
    "class Član:\n",
    "    # ime, prezime, god rođenja, pozicija, broj dresa, golovi: int, golovi_po_utakmici: dict, broj utakmica\n",
    "    # golovi_po_utakmici: list - [0, None, 2, 3, 0, 1]\n",
    "    # golovi_po_utakmici: dict - {'kolo_3': 2, 'kolo_4': 3, 'kolo_6': 1}\n",
    "    # računanje statistike\n",
    "    # unesi utakmicu\n",
    "    # promjeni poziciju\n",
    "    def __init__(self, ime, prezime, godina_rođenja, pozicija, broj_dresa, \n",
    "                 golovi: int=0, golovi_po_utakmici: dict={}, broj_utakmica=0):\n",
    "        self.ime = ime\n",
    "        self.prezime = prezime\n",
    "        self.godina_rođenja = godina_rođenja\n",
    "        self.pozicija = pozicija\n",
    "        self.broj_dresa = broj_dresa\n",
    "        self.golovi = golovi\n",
    "        self.golovi_po_utakmici = golovi_po_utakmici\n",
    "        self.broj_utakmica = broj_utakmica\n",
    "\n",
    "    def unesi_utakmicu(self, golovi, kolo):\n",
    "        self.broj_utakmica += 1\n",
    "        self.golovi += golovi\n",
    "        if golovi > 0:\n",
    "            self.golovi_po_utakmici[kolo] = golovi\n",
    "\n",
    "    def promjeni_poziciju(self, nova_poz):\n",
    "        self.pozicija = nova_poz\n",
    "\n",
    "    def statistika(self):\n",
    "        return self.golovi / self.broj_utakmica\n",
    "\n",
    "    def __repr__(self):\n",
    "        return f'{self.prezime} {self.ime[0]} {self.broj_dresa}'\n",
    "\n",
    "\n",
    "tim_dict = [\n",
    "    {\n",
    "        'ime': 'Ivo',\n",
    "        'prezime': 'Ivić',\n",
    "        'godina_rođenja': 1990,\n",
    "        'pozicija': 'bek',\n",
    "        'broj_dresa': 13\n",
    "    },\n",
    "    {\n",
    "        'ime': 'Pero',\n",
    "        'prezime': 'Perić',\n",
    "        'godina_rođenja': 2000,\n",
    "        'pozicija': 'golman',\n",
    "        'broj_dresa': 10\n",
    "    },\n",
    "]\n",
    "\n",
    "tim_obj = []\n",
    "\n",
    "for igrač in tim_dict:\n",
    "    tim_obj.append(Član(**igrač))\n",
    "\n",
    "# unesite neke utakmice\n",
    "\n",
    "# ispišite statistiku\n",
    "for igrač in tim_obj:\n",
    "    print(igrač, igrač.statistika())\n"
   ]
  },
  {
   "cell_type": "code",
   "execution_count": 100,
   "metadata": {},
   "outputs": [
    {
     "data": {
      "text/plain": [
       "[Ivić I 13, Perić P 10]"
      ]
     },
     "execution_count": 100,
     "metadata": {},
     "output_type": "execute_result"
    }
   ],
   "source": [
    "tim_obj"
   ]
  },
  {
   "cell_type": "markdown",
   "metadata": {},
   "source": [
    "## Naslijeđivanje"
   ]
  },
  {
   "cell_type": "markdown",
   "metadata": {},
   "source": [
    "```python\n",
    "class ChildClass(ParentClass):\n",
    "    def __init__(self, value1, value2):\n",
    "        super().init(value1)  # Parent attributes\n",
    "        child_attribute = value2\n",
    "    \n",
    "    def test(self):\n",
    "        parent_effect = super().test()\n",
    "        print(self.class_atribut)\n",
    "```"
   ]
  },
  {
   "cell_type": "code",
   "execution_count": null,
   "metadata": {},
   "outputs": [
    {
     "name": "stdout",
     "output_type": "stream",
     "text": [
      "ja sam auto\n",
      "nepoznat\n",
      "4\n",
      "ja sam električni auto\n",
      "električni\n",
      "4\n"
     ]
    }
   ],
   "source": [
    "class Auto:  # parent\n",
    "    def __init__(self):\n",
    "        self.vrata = 4\n",
    "        self.pogon = \"nepoznat\"\n",
    "\n",
    "    def __repr__(self):\n",
    "        return \"ja sam auto\"\n",
    "\n",
    "class ElektričniAuto(Auto):  # child\n",
    "    def __init__(self):\n",
    "        # self.vrata = 4  # DRY\n",
    "        Auto.__init__()\n",
    "        self.pogon = \"električni\"\n",
    "\n",
    "    def __repr__(self):\n",
    "        return \"ja sam električni auto\"\n",
    "\n",
    "vw = Auto()\n",
    "print(vw)\n",
    "print(vw.pogon)\n",
    "print(vw.vrata)\n",
    "\n",
    "t = ElektričniAuto()\n",
    "print(t)\n",
    "print(t.pogon)\n",
    "print(t.vrata)\n",
    "\n"
   ]
  },
  {
   "cell_type": "code",
   "execution_count": null,
   "metadata": {},
   "outputs": [],
   "source": [
    "class Kompjuter:\n",
    "    pass\n",
    "    # self.case\n",
    "\n",
    "class Laptop(Kompjuter):\n",
    "    pass\n",
    "    # self.case\n",
    "\n",
    "class HPLaptop(Laptop):\n",
    "    pass\n",
    "    # self.hp_protect_enabled = True\n",
    "\n",
    "class Biljka:\n",
    "    pass\n",
    "\n",
    "class Lončarica(Biljka):\n",
    "    pass\n",
    "    # self.pot_size\n",
    "\n",
    "class Palma(Lončarica):\n",
    "    pass\n",
    "\n",
    "class Instrument:\n",
    "    pass\n",
    "\n",
    "class Gitara(Instrument):\n",
    "    pass\n",
    "\n",
    "class ElektričnaGitara(Gitara):\n",
    "    pass\n"
   ]
  },
  {
   "cell_type": "code",
   "execution_count": null,
   "metadata": {},
   "outputs": [
    {
     "name": "stdout",
     "output_type": "stream",
     "text": [
      "Tomislav Nazifović (OIB: 00012345678)\n",
      "Machina polaznik Nazifović (tomislav.nazifovic@gmail.com)\n",
      "True\n",
      "False\n",
      "True\n",
      "True\n"
     ]
    },
    {
     "ename": "TypeError",
     "evalue": "Polaznik.__init__() missing 2 required positional arguments: 'prezime' and 'oib'",
     "output_type": "error",
     "traceback": [
      "\u001b[1;31m---------------------------------------------------------------------------\u001b[0m",
      "\u001b[1;31mTypeError\u001b[0m                                 Traceback (most recent call last)",
      "Cell \u001b[1;32mIn[26], line 37\u001b[0m\n\u001b[0;32m     34\u001b[0m \u001b[38;5;28mprint\u001b[39m(\u001b[38;5;28misinstance\u001b[39m(predavač, Polaznik))\n\u001b[0;32m     35\u001b[0m \u001b[38;5;28mprint\u001b[39m(\u001b[38;5;28misinstance\u001b[39m(predavač, Osoba))\n\u001b[1;32m---> 37\u001b[0m predavač2 \u001b[38;5;241m=\u001b[39m \u001b[43mPolaznik\u001b[49m\u001b[43m(\u001b[49m\u001b[43mja\u001b[49m\u001b[43m,\u001b[49m\u001b[43m \u001b[49m\u001b[43memail\u001b[49m\u001b[38;5;241;43m=\u001b[39;49m\u001b[38;5;124;43m\"\u001b[39;49m\u001b[38;5;124;43mtomislav.nazifovic@gmail.com\u001b[39;49m\u001b[38;5;124;43m\"\u001b[39;49m\u001b[43m,\u001b[49m\u001b[43m \u001b[49m\u001b[43mpassword\u001b[49m\u001b[38;5;241;43m=\u001b[39;49m\u001b[38;5;124;43m\"\u001b[39;49m\u001b[38;5;124;43mpass123\u001b[39;49m\u001b[38;5;124;43m\"\u001b[39;49m\u001b[43m)\u001b[49m\n\u001b[0;32m     38\u001b[0m predavač2\n",
      "\u001b[1;31mTypeError\u001b[0m: Polaznik.__init__() missing 2 required positional arguments: 'prezime' and 'oib'"
     ]
    }
   ],
   "source": [
    "class Osoba:\n",
    "    def __init__(self, ime, prezime, oib):\n",
    "        self.ime = ime\n",
    "        self.prezime = prezime\n",
    "        self.oib = self.provjeri_oib(oib)\n",
    "    \n",
    "    def provjeri_oib(self, oib):\n",
    "        if len(oib) == 11:\n",
    "            return oib\n",
    "        else:\n",
    "            print(\"Nevaljan OIB\")\n",
    "            return None\n",
    "    \n",
    "    def __repr__(self):\n",
    "        # Tomislav Nazifović (OIB: 00012345678)\n",
    "        return f'{self.ime} {self.prezime} (OIB: {self.oib})'\n",
    "\n",
    "ja = Osoba('Tomislav', 'Nazifović', '00012345678')\n",
    "print(ja)\n",
    "\n",
    "class Polaznik(Osoba):\n",
    "    def __init__(self, ime, email, password, prezime=None, oib=None):\n",
    "        super().__init__(ime, prezime, oib)\n",
    "        self.email = email\n",
    "        self.password = password\n",
    "\n",
    "    def __repr__(self):\n",
    "        return f'Machina polaznik {self.prezime} ({self.email})'\n",
    "\n",
    "\"\"\"predavač = Polaznik(\"Tomislav\", \"Nazifović\", \"00012345678\", \"tomislav.nazifovic@gmail.com\", \"pass123\")\n",
    "print(predavač)\n",
    "print(type(predavač) == Polaznik)\n",
    "print(type(predavač) == Osoba)\n",
    "print(isinstance(predavač, Polaznik))\n",
    "print(isinstance(predavač, Osoba))\n",
    "\"\"\"\n",
    "predavač2 = Polaznik(ja, email=\"tomislav.nazifovic@gmail.com\", password=\"pass123\")\n",
    "predavač2"
   ]
  },
  {
   "cell_type": "code",
   "execution_count": null,
   "metadata": {},
   "outputs": [
    {
     "data": {
      "text/plain": [
       "{'ime': 'Tomislav', 'prezime': 'Nazifović', 'oib': '00012345678'}"
      ]
     },
     "execution_count": 25,
     "metadata": {},
     "output_type": "execute_result"
    }
   ],
   "source": [
    "**ja.__dict__\n",
    "\n",
    "ime='Tomislav', prezime='Nazifović', oib='00012345678'"
   ]
  },
  {
   "cell_type": "markdown",
   "metadata": {},
   "source": [
    "### Vježba"
   ]
  },
  {
   "cell_type": "markdown",
   "metadata": {},
   "source": [
    "4. Napišite child klase za jednakokračni i jednakostranični trokut\n",
    "5. "
   ]
  }
 ],
 "metadata": {
  "kernelspec": {
   "display_name": "Python 3",
   "language": "python",
   "name": "python3"
  },
  "language_info": {
   "codemirror_mode": {
    "name": "ipython",
    "version": 3
   },
   "file_extension": ".py",
   "mimetype": "text/x-python",
   "name": "python",
   "nbconvert_exporter": "python",
   "pygments_lexer": "ipython3",
   "version": "3.13.1"
  }
 },
 "nbformat": 4,
 "nbformat_minor": 2
}
