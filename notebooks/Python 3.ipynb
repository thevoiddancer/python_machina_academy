{
 "cells": [
  {
   "cell_type": "markdown",
   "metadata": {},
   "source": [
    "# Zadaća"
   ]
  },
  {
   "cell_type": "markdown",
   "metadata": {},
   "source": [
    "1. GitHub\n",
    "2. Promjena u HH:MM\n",
    "3. Broj dana starosti"
   ]
  },
  {
   "cell_type": "markdown",
   "metadata": {},
   "source": [
    "# Uvod"
   ]
  },
  {
   "cell_type": "markdown",
   "metadata": {},
   "source": [
    "* Tipovi ponavljanja\n",
    "* Blokovi"
   ]
  },
  {
   "cell_type": "markdown",
   "metadata": {},
   "source": [
    "# While petlja"
   ]
  },
  {
   "cell_type": "markdown",
   "metadata": {},
   "source": [
    "* Uvjeti tipa \"dok\"\n",
    "* Pozitivno definirani"
   ]
  },
  {
   "cell_type": "markdown",
   "metadata": {},
   "source": [
    "## Primjer 1"
   ]
  },
  {
   "cell_type": "markdown",
   "metadata": {},
   "source": [
    "Napiši program koji će učitati ime korisnika. Program mora ponavljati pitanje sve dok korisnik ne unese nešto"
   ]
  },
  {
   "cell_type": "code",
   "execution_count": 7,
   "metadata": {},
   "outputs": [
    {
     "name": "stdout",
     "output_type": "stream",
     "text": [
      "Dobrodošao \n"
     ]
    }
   ],
   "source": [
    "ime = input(\"Unesi ime\")\n",
    "print(\"Dobrodošao\", ime)"
   ]
  },
  {
   "cell_type": "code",
   "execution_count": 6,
   "metadata": {},
   "outputs": [
    {
     "name": "stdout",
     "output_type": "stream",
     "text": [
      "Dobrodošao, tomi\n"
     ]
    }
   ],
   "source": [
    "ime = input(\"Unesi ime\")\n",
    "while not ime:\n",
    "    ime = input(\"Unesi ime\")\n",
    "print(\"Dobrodošao,\", ime)\n"
   ]
  },
  {
   "cell_type": "markdown",
   "metadata": {},
   "source": [
    "## Primjer 2"
   ]
  },
  {
   "cell_type": "markdown",
   "metadata": {},
   "source": [
    "Na gornji primjer dodaj brojač koji će korisniku napisati koliko puta je fulao predstaviti se."
   ]
  },
  {
   "cell_type": "code",
   "execution_count": 1,
   "metadata": {},
   "outputs": [],
   "source": [
    "ime = input(\"Unesi ime\")\n",
    "broj_ponavljanja = 0\n",
    "while not ime:\n",
    "    ime = input(\"Unesi ime\")\n",
    "    broj_ponavljanja = broj_ponavljanja + 1\n",
    "print(\"Dobrodošao,\", ime)\n",
    "print(\"Fulao si unos\", broj_ponavljanja, \"puta\")"
   ]
  },
  {
   "cell_type": "markdown",
   "metadata": {},
   "source": [
    "## Primjer 3"
   ]
  },
  {
   "cell_type": "markdown",
   "metadata": {},
   "source": [
    "Pretvori prošli primjer u beskonačnu petlju"
   ]
  },
  {
   "cell_type": "code",
   "execution_count": null,
   "metadata": {},
   "outputs": [],
   "source": [
    "ime = input(\"Unesi ime\")\n",
    "broj_ponavljanja = 0\n",
    "while True:\n",
    "    ime = input(\"Unesi ime\")\n",
    "    broj_ponavljanja = broj_ponavljanja + 1\n",
    "print(\"Dobrodošao,\", ime)\n"
   ]
  },
  {
   "cell_type": "markdown",
   "metadata": {},
   "source": [
    "# Ručna kontrola"
   ]
  },
  {
   "cell_type": "markdown",
   "metadata": {},
   "source": [
    "## Break - Primjer 4"
   ]
  },
  {
   "cell_type": "markdown",
   "metadata": {},
   "source": [
    "Napravi beskonačnu petlju koja će stati ako se unese nešto od sljedećeg: 8, broj djeljiv sa 17 ili riječ sa svim velikim slovima"
   ]
  },
  {
   "cell_type": "code",
   "execution_count": null,
   "metadata": {},
   "outputs": [],
   "source": [
    "riječ = input(\"Unesi ime\")\n",
    "while True:\n",
    "    if riječ == '8':\n",
    "        break\n",
    "    if riječ.isnumeric():\n",
    "        if int(riječ) % 17 == 0:\n",
    "            break\n",
    "    if riječ.isupper():\n",
    "        break\n",
    "    riječ = input(\"Unesi ime\")\n",
    "print(\"Unos prekinut zbog unosa:\", riječ)\n"
   ]
  },
  {
   "cell_type": "markdown",
   "metadata": {},
   "source": [
    "## Continue - Primjer 5"
   ]
  },
  {
   "cell_type": "markdown",
   "metadata": {},
   "source": [
    "U Kini se broj 8 smatra nesretnim, pa neki neboderi nemaju 8. kat. Ispiši brojeve katova do 15, bez 8."
   ]
  },
  {
   "cell_type": "code",
   "execution_count": null,
   "metadata": {},
   "outputs": [],
   "source": [
    "# Prodiskutirati i završiti\n",
    "\n",
    "kat = 1\n",
    "while kat <= 15:\n",
    "    print(kat)\n",
    "    kat += 1\n"
   ]
  },
  {
   "cell_type": "markdown",
   "metadata": {},
   "source": [
    "## Pass - Primjer 6"
   ]
  },
  {
   "cell_type": "markdown",
   "metadata": {},
   "source": [
    "Napiši program koji će učitavati riječi dok se neupiše prazan tekst i u slučaju kada je riječ napisana svim velikim slovima onda treba pripremiti nešto, što još ne znamo."
   ]
  },
  {
   "cell_type": "code",
   "execution_count": null,
   "metadata": {},
   "outputs": [],
   "source": [
    "riječ = input(\"Unesi riječ\")\n",
    "while riječ:\n",
    "    if riječ.isupper():\n",
    "        pass\n",
    "    riječ = input(\"Unesi riječ\")"
   ]
  }
 ],
 "metadata": {
  "kernelspec": {
   "display_name": "machina",
   "language": "python",
   "name": "python3"
  },
  "language_info": {
   "codemirror_mode": {
    "name": "ipython",
    "version": 3
   },
   "file_extension": ".py",
   "mimetype": "text/x-python",
   "name": "python",
   "nbconvert_exporter": "python",
   "pygments_lexer": "ipython3",
   "version": "3.12.6"
  }
 },
 "nbformat": 4,
 "nbformat_minor": 2
}
