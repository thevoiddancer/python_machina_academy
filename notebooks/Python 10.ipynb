{
 "cells": [
  {
   "cell_type": "markdown",
   "metadata": {},
   "source": [
    "https://chatgpt.com/share/67f2c6ad-0888-8005-91ee-91c48419ad52"
   ]
  },
  {
   "cell_type": "markdown",
   "metadata": {},
   "source": [
    "# Tkinter"
   ]
  },
  {
   "cell_type": "markdown",
   "metadata": {},
   "source": [
    "## Primjer kalkulator"
   ]
  },
  {
   "cell_type": "markdown",
   "metadata": {},
   "source": [
    "```python\n",
    "\n",
    "import tkinter as tk\n",
    "\n",
    "def on_click(event):\n",
    "    btn_text = event.widget[\"text\"]\n",
    "    if btn_text == \"=\":\n",
    "        try:\n",
    "            result = str(eval(entry.get()))\n",
    "            entry.delete(0, tk.END)\n",
    "            entry.insert(tk.END, result)\n",
    "        except:\n",
    "            entry.delete(0, tk.END)\n",
    "            entry.insert(tk.END, \"Error\")\n",
    "    elif btn_text == \"C\":\n",
    "        entry.delete(0, tk.END)\n",
    "    else:\n",
    "        entry.insert(tk.END, btn_text)\n",
    "\n",
    "root = tk.Tk()\n",
    "root.title(\"Calculator\")\n",
    "\n",
    "entry = tk.Entry(root, font=(\"Arial\", 18), justify='right', bd=10)\n",
    "entry.grid(row=0, column=0, columnspan=4, sticky=\"news\")\n",
    "\n",
    "buttons = [\n",
    "    '7', '8', '9', '/',\n",
    "    '4', '5', '6', '*',\n",
    "    '1', '2', '3', '-',\n",
    "    '0', '.', 'C', '+'\n",
    "]\n",
    "\n",
    "for i, text in enumerate(buttons):\n",
    "    row, col = divmod(i, 4)\n",
    "    btn = tk.Button(root, text=text, font=(\"Arial\", 16), height=2, width=5)\n",
    "    btn.grid(row=row + 1, column=col)\n",
    "    btn.bind(\"<Button-1>\", on_click)\n",
    "\n",
    "eq_btn = tk.Button(root, text=\"=\", font=(\"Arial\", 16), height=2, width=22)\n",
    "eq_btn.grid(row=5, column=0, columnspan=4)\n",
    "eq_btn.bind(\"<Button-1>\", on_click)\n",
    "\n",
    "root.mainloop()\n",
    "\n",
    "```"
   ]
  },
  {
   "cell_type": "markdown",
   "metadata": {},
   "source": [
    "## Upute"
   ]
  },
  {
   "cell_type": "markdown",
   "metadata": {},
   "source": [
    "### Kreiranje prozora"
   ]
  },
  {
   "cell_type": "markdown",
   "metadata": {},
   "source": [
    "```python\n",
    "import tkinter as tk\n",
    "\n",
    "root = tk.Tk()\n",
    "root.title(\"Calculator\")\n",
    "root.mainloop()\n",
    "```"
   ]
  },
  {
   "cell_type": "markdown",
   "metadata": {},
   "source": [
    "### Text input"
   ]
  },
  {
   "cell_type": "markdown",
   "metadata": {},
   "source": [
    "```python\n",
    "entry = tk.Entry(root, font=(\"Arial\", 18), justify='right', bd=10)\n",
    "```\n",
    "https://www.tutorialspoint.com/python/tk_entry.htm"
   ]
  },
  {
   "cell_type": "markdown",
   "metadata": {},
   "source": [
    "### Button"
   ]
  },
  {
   "cell_type": "markdown",
   "metadata": {},
   "source": [
    "```python\n",
    "btn = tk.Button(root, text=text, font=(\"Arial\", 16), height=2, width=5)\n",
    "```\n",
    "https://www.tutorialspoint.com/python/tk_button.htm"
   ]
  },
  {
   "cell_type": "markdown",
   "metadata": {},
   "source": [
    "### Pozicioniranje u prozor"
   ]
  },
  {
   "attachments": {
    "image.png": {
     "image/png": "[encoded data removed]"
    }
   },
   "cell_type": "markdown",
   "metadata": {},
   "source": [
    "```python\n",
    "entry.grid(row=0, column=0, columnspan=4, sticky=\"news\")\n",
    "```\n",
    "https://tkdocs.com/tutorial/grid.html\n",
    "\n",
    "![image.png](attachment:image.png)\n",
    "\n",
    "Note: ako ne postavite redove i stupce između, bilo koji broj se ponaša kao da je uzastopan. Npr red 5 ide iza red 0."
   ]
  },
  {
   "cell_type": "markdown",
   "metadata": {},
   "source": [
    "### Povezivanje s funkcionalnošću"
   ]
  },
  {
   "cell_type": "markdown",
   "metadata": {},
   "source": [
    "```python\n",
    "btn.bind(\"<Button-1>\", on_click)\n",
    "root.bind(\"<KeyPress>\", on_keypress)\n",
    "```\n",
    "\n",
    "- `btn.bind` povezuje funkcionalnost samo s jednim gumbom.\n",
    "- `root.bind` povezuje funkcionalnost s cijelom aplikacijom.\n",
    "\n",
    "Prvi argument je tip reakcije, tj \"event\": \n",
    "- Gumbi na mišu:\n",
    "    - `<Button-X>` (može i samo <1>)\n",
    "    - `<ButtonRelease-X>`\n",
    "    - `<Double-Button-X>`\n",
    "    - `<Triple-Button-X>`\n",
    "- Kretanje miša:\n",
    "    - `<Motion>`\n",
    "    - `<FocusIn>`\n",
    "    - `<FocusOut>`\n",
    "- Klik u polje:\n",
    "    - `<Enter>`\n",
    "    - `<Leave>`\n",
    "- Tipkovnica\n",
    "    - `<Return>` ....\n",
    "    - `<Key>`\n",
    "    - a\n",
    "    - `<Shift-Up>`, `<Alt-Down>`, ...\n",
    "- Resize prozora\n",
    "    - `<Configure>`\n",
    "\n",
    "Drugi argument je funkcija koja se tada poziva. Funkcija automatski dobije cijeli event za korištenje."
   ]
  },
  {
   "cell_type": "markdown",
   "metadata": {},
   "source": [
    "### Funkcionalnost"
   ]
  },
  {
   "cell_type": "markdown",
   "metadata": {},
   "source": [
    "Pišete funkciju kao i svaku drugu. Dodatne stvari vezane za tkinter:\n",
    "\n",
    "- funkcija u bind automatski dobije event\n",
    "- eventovi su međusobno drugačiji, pa treba vidjeti od čega se sastoje\n",
    "- funkcije imaju automatski pristup widgetima u aplikaciji\n",
    "- tk.END je specijalna konstanta, predstavlja string end\n",
    "- za ostale konstante: `[c for c in dir(tk) if c.isupper()]`\n"
   ]
  },
  {
   "cell_type": "markdown",
   "metadata": {},
   "source": [
    "## Kod"
   ]
  },
  {
   "cell_type": "code",
   "execution_count": 10,
   "metadata": {},
   "outputs": [],
   "source": [
    "import tkinter as tk\n",
    "\n",
    "def on_click(event):\n",
    "    btn_text = event.widget[\"text\"]\n",
    "    if btn_text == \"=\":\n",
    "        try:\n",
    "            result = str(eval(entry.get()))\n",
    "            entry.delete(0, tk.END)\n",
    "            entry.insert(tk.END, result)\n",
    "        except:\n",
    "            entry.delete(0, tk.END)\n",
    "            entry.insert(tk.END, \"Error\")\n",
    "    elif btn_text == \"C\":\n",
    "        entry.delete(0, tk.END)\n",
    "    else:\n",
    "        entry.insert(tk.END, btn_text)\n",
    "\n",
    "def on_keypress(event):\n",
    "    if event.char == '\\r':\n",
    "        try:\n",
    "            result = str(eval(entry.get()))\n",
    "            entry.delete(0, tk.END)\n",
    "            entry.insert(tk.END, result)\n",
    "        except:\n",
    "            entry.delete(0, tk.END)\n",
    "            entry.insert(tk.END, \"Error\")\n",
    "    else:\n",
    "        entry.insert(tk.END, event.char)\n",
    "\n",
    "root = tk.Tk()\n",
    "root.title(\"Calculator\")\n",
    "\n",
    "entry = tk.Entry(root, font=(\"Arial\", 18), justify='right', bd=10)\n",
    "root.bind(\"<Return>\", on_keypress)\n",
    "root.bind(\"<KeyPress>\", on_keypress)\n",
    "\n",
    "entry.grid(row=0, column=0, columnspan=4, sticky=\"news\")\n",
    "\n",
    "buttons = [\n",
    "    '7', '8', '9', '/',\n",
    "    '4', '5', '6', '*',\n",
    "    '1', '2', '3', '-',\n",
    "    '0', '.', 'C', '+'\n",
    "]\n",
    "\n",
    "for i, text in enumerate(buttons):\n",
    "    row, col = divmod(i, 4)\n",
    "    btn = tk.Button(root, text=text, font=(\"Arial\", 16), height=2, width=5)\n",
    "    btn.grid(row=row + 1, column=col)\n",
    "    btn.bind(\"<Button-1>\", on_click)\n",
    "\n",
    "eq_btn = tk.Button(root, text=\"=\", font=(\"Arial\", 16), height=2, width=22)\n",
    "eq_btn.grid(row=5, column=0, columnspan=4)\n",
    "eq_btn.bind(\"<Button-1>\", on_click)\n",
    "\n",
    "root.mainloop()\n"
   ]
  },
  {
   "cell_type": "markdown",
   "metadata": {},
   "source": [
    "# PyQT/PySide"
   ]
  },
  {
   "cell_type": "markdown",
   "metadata": {},
   "source": [
    "```python\n",
    "\n",
    "from PyQt5.QtCore import Qt\n",
    "from PyQt5.QtWidgets import QApplication, QWidget, QVBoxLayout, QGridLayout, QPushButton, QLineEdit\n",
    "import sys\n",
    "\n",
    "class Calculator(QWidget):\n",
    "    def __init__(self):\n",
    "        super().__init__()\n",
    "        self.setWindowTitle(\"Calculator\")\n",
    "        self.create_ui()\n",
    "\n",
    "    def create_ui(self):\n",
    "        layout = QVBoxLayout()\n",
    "        self.input_field = QLineEdit()\n",
    "        self.input_field.setReadOnly(False)\n",
    "        layout.addWidget(self.input_field)\n",
    "\n",
    "        grid = QGridLayout()\n",
    "        buttons = [\n",
    "            '7', '8', '9', '/',\n",
    "            '4', '5', '6', '*',\n",
    "            '1', '2', '3', '-',\n",
    "            '0', '.', 'C', '+'\n",
    "        ]\n",
    "\n",
    "        for i, text in enumerate(buttons):\n",
    "            btn = QPushButton(text)\n",
    "            btn.clicked.connect(self.on_click)\n",
    "            grid.addWidget(btn, i // 4, i % 4)\n",
    "\n",
    "        eq_btn = QPushButton(\"=\")\n",
    "        eq_btn.clicked.connect(self.on_click)\n",
    "        grid.addWidget(eq_btn, 4, 0, 1, 4)\n",
    "\n",
    "        layout.addLayout(grid)\n",
    "        self.setLayout(layout)\n",
    "\n",
    "    def on_click(self):\n",
    "        sender = self.sender().text()\n",
    "        if sender == \"=\":\n",
    "            try:\n",
    "                result = str(eval(self.input_field.text()))\n",
    "                self.input_field.setText(result)\n",
    "            except:\n",
    "                self.input_field.setText(\"Error\")\n",
    "        elif sender == \"C\":\n",
    "            self.input_field.clear()\n",
    "        else:\n",
    "            self.input_field.setText(self.input_field.text() + sender)\n",
    "\n",
    "    def keyPressEvent(self, event):\n",
    "        if event.key() in (Qt.Key_Return, Qt.Key_Enter):\n",
    "            try:\n",
    "                result = str(eval(self.input_field.text()))\n",
    "                self.input_field.setText(result)\n",
    "            except:\n",
    "                self.input_field.setText(\"Error\")\n",
    "\n",
    "app = QApplication(sys.argv)\n",
    "calc = Calculator()\n",
    "calc.show()\n",
    "sys.exit(app.exec_())\n",
    "\n",
    "\n",
    "```"
   ]
  },
  {
   "cell_type": "markdown",
   "metadata": {},
   "source": [
    "# PySimpleGUI"
   ]
  },
  {
   "cell_type": "markdown",
   "metadata": {},
   "source": [
    "## Primjer kalkulator"
   ]
  },
  {
   "cell_type": "markdown",
   "metadata": {},
   "source": [
    "```python\n",
    "\n",
    "import PySimpleGUI as sg\n",
    "\n",
    "# Define calculator layout\n",
    "layout = [\n",
    "    [sg.Input(size=(20, 1), key='-INPUT-', justification='right', font=('Arial', 18))],\n",
    "    [sg.Button('7'), sg.Button('8'), sg.Button('9'), sg.Button('/')],\n",
    "    [sg.Button('4'), sg.Button('5'), sg.Button('6'), sg.Button('*')],\n",
    "    [sg.Button('1'), sg.Button('2'), sg.Button('3'), sg.Button('-')],\n",
    "    [sg.Button('0'), sg.Button('.'), sg.Button('C'), sg.Button('+')],\n",
    "    [sg.Button('=', expand_x=True)]\n",
    "]\n",
    "\n",
    "# Create the window\n",
    "window = sg.Window('Simple Calculator', layout, return_keyboard_events=True, finalize=True)\n",
    "\n",
    "# Input buffer\n",
    "expression = ''\n",
    "\n",
    "while True:\n",
    "    event, values = window.read()\n",
    "    if event in (sg.WIN_CLOSED, 'Escape'):\n",
    "        break\n",
    "\n",
    "    if event in '1234567890.+-*/':\n",
    "        expression += event\n",
    "        window['-INPUT-'].update(expression)\n",
    "\n",
    "    elif event == 'C' or event == 'Delete':\n",
    "        expression = ''\n",
    "        window['-INPUT-'].update('')\n",
    "\n",
    "    elif event == '=' or event == 'Return':\n",
    "        try:\n",
    "            result = str(eval(expression))\n",
    "            window['-INPUT-'].update(result)\n",
    "            expression = result  # So you can keep calculating from result\n",
    "        except:\n",
    "            window['-INPUT-'].update('Error')\n",
    "            expression = ''\n",
    "\n",
    "    elif event in ['0', '1', '2', '3', '4', '5', '6', '7', '8', '9', '.', '+', '-', '*', '/']:\n",
    "        expression += event\n",
    "        window['-INPUT-'].update(expression)\n",
    "\n",
    "    # Handle button clicks (GUI input)\n",
    "    elif event in ['0', '1', '2', '3', '4', '5', '6', '7', '8', '9', '.', '+', '-', '*', '/', '=', 'C']:\n",
    "        if event == '=':\n",
    "            try:\n",
    "                result = str(eval(expression))\n",
    "                window['-INPUT-'].update(result)\n",
    "                expression = result\n",
    "            except:\n",
    "                window['-INPUT-'].update('Error')\n",
    "                expression = ''\n",
    "        elif event == 'C':\n",
    "            expression = ''\n",
    "            window['-INPUT-'].update('')\n",
    "        else:\n",
    "            expression += event\n",
    "            window['-INPUT-'].update(expression)\n",
    "\n",
    "window.close()\n",
    "\n",
    "\n",
    "```"
   ]
  },
  {
   "cell_type": "markdown",
   "metadata": {},
   "source": [
    "## Upute"
   ]
  },
  {
   "cell_type": "markdown",
   "metadata": {},
   "source": [
    "### Kreiranje prozora"
   ]
  },
  {
   "cell_type": "markdown",
   "metadata": {},
   "source": [
    "```python\n",
    "import PySimpleGUI as sg\n",
    "layout = [[]]\n",
    "window = sg.Window('Simple Calculator', layout, return_keyboard_events=True, finalize=True)\n",
    "```"
   ]
  },
  {
   "cell_type": "markdown",
   "metadata": {},
   "source": [
    "### Text input"
   ]
  },
  {
   "cell_type": "markdown",
   "metadata": {},
   "source": [
    "```python\n",
    "sg.Input(size=(20, 1), key='-INPUT-', justification='right', font=('Arial', 18))\n",
    "```\n",
    "https://docs.pysimplegui.com/en/latest/documentation/module/elements/input/"
   ]
  },
  {
   "cell_type": "markdown",
   "metadata": {},
   "source": [
    "### Button"
   ]
  },
  {
   "cell_type": "markdown",
   "metadata": {},
   "source": [
    "```python\n",
    "sg.Button('7')\n",
    "```\n",
    "https://docs.pysimplegui.com/en/latest/documentation/module/elements/button/"
   ]
  },
  {
   "cell_type": "markdown",
   "metadata": {},
   "source": [
    "### Pozicioniranje u prozor"
   ]
  },
  {
   "cell_type": "markdown",
   "metadata": {},
   "source": [
    "Nema posebne funkcionalnosti.\n",
    "\n",
    "Napravite listu lista i to date u argument za sg.Window(). PySimpleGUI posloži layout po tom principu."
   ]
  },
  {
   "cell_type": "markdown",
   "metadata": {},
   "source": [
    "### Main loop"
   ]
  },
  {
   "cell_type": "markdown",
   "metadata": {},
   "source": [
    "### Povezivanje s funkcionalnošću"
   ]
  },
  {
   "cell_type": "markdown",
   "metadata": {},
   "source": [
    "### Funkcionalnost"
   ]
  },
  {
   "cell_type": "code",
   "execution_count": 1,
   "metadata": {},
   "outputs": [],
   "source": [
    "import PySimpleGUI as sg\n",
    "layout = [\n",
    "    [sg.Input(size=(20, 1), key='-INPUT-', justification='right', font=('Arial', 18))]\n",
    "    ]\n",
    "window = sg.Window('Simple Calculator', layout, return_keyboard_events=True, finalize=True)"
   ]
  },
  {
   "cell_type": "markdown",
   "metadata": {},
   "source": [
    "## Kod"
   ]
  },
  {
   "cell_type": "code",
   "execution_count": 32,
   "metadata": {},
   "outputs": [
    {
     "name": "stdout",
     "output_type": "stream",
     "text": [
      "Shift_L:50\n",
      "None\n"
     ]
    }
   ],
   "source": [
    "import PySimpleGUI as sg\n",
    "\n",
    "# Define calculator layout\n",
    "layout = [\n",
    "    [sg.Input(size=(20, 1), key='-INPUT-', justification='right', font=('Arial', 18))],\n",
    "    [sg.Button('7'), sg.Button('8'), sg.Button('9'), sg.Button('/')],\n",
    "    [sg.Button('4'), sg.Button('5'), sg.Button('6'), sg.Button('*')],\n",
    "    [sg.Button('1'), sg.Button('2'), sg.Button('3'), sg.Button('-')],\n",
    "    [sg.Button('0'), sg.Button('.'), sg.Button('C'), sg.Button('+')],\n",
    "    [sg.Button('=', expand_x=True)]\n",
    "]\n",
    "\n",
    "# Create the window\n",
    "window = sg.Window('Simple Calculator', layout, return_keyboard_events=True, finalize=True)\n",
    "\n",
    "# Input buffer\n",
    "expression = ''\n",
    "\n",
    "keypad_codes = {\n",
    "    'KP_End:87': '1',\n",
    "    'KP_Down:88': '2',\n",
    "    'KP_Next:89': '3',\n",
    "    'KP_Left:83': '4',\n",
    "    'KP_Begin:84': '5',\n",
    "    'KP_Right:85': '6',\n",
    "    'KP_Home:79': '7',\n",
    "    'KP_Up:80': '8',\n",
    "    'KP_Prior:81': '9',\n",
    "    'KP_Insert:90': '0',\n",
    "    'KP_Add:86': '+',\n",
    "    'KP_Subtract:82': '-',\n",
    "    'KP_Multiply:63': '*',\n",
    "    'KP_Divide:106': '/'\n",
    "}\n",
    "\n",
    "while True:\n",
    "    event, values = window.read()\n",
    "    print(event)\n",
    "    if event in (sg.WIN_CLOSED, 'Escape'):\n",
    "        break\n",
    "\n",
    "    if event in '1234567890.+-*/':\n",
    "        expression += event\n",
    "        window['-INPUT-'].update(expression)\n",
    "\n",
    "    elif event == 'C' or event == 'Delete':\n",
    "        expression = ''\n",
    "        window['-INPUT-'].update('')\n",
    "\n",
    "    elif event == '=' or event == 'Return:36' or event == 'KP_Enter:104':\n",
    "        try:\n",
    "            print(expression)\n",
    "            print(eval(expression))\n",
    "            result = str(eval(expression))\n",
    "            window['-INPUT-'].update(result)\n",
    "            expression = result  # So you can keep calculating from result\n",
    "        except:\n",
    "            window['-INPUT-'].update('Error')\n",
    "            expression = ''\n",
    "    \n",
    "    elif ':' in event and '_' not in event:\n",
    "        num = event.split(':')[0]\n",
    "        expression += event\n",
    "        window['-INPUT-'].update(expression)\n",
    "\n",
    "    elif ':' in event and 'KP_' in event:\n",
    "        num = keypad_codes[event]\n",
    "        expression += num\n",
    "        window['-INPUT-'].update(expression)\n",
    "\n",
    "\n",
    "window.close()\n"
   ]
  },
  {
   "cell_type": "markdown",
   "metadata": {},
   "source": [
    "# Pygame"
   ]
  },
  {
   "cell_type": "markdown",
   "metadata": {},
   "source": [
    "## Primjer kalkulator"
   ]
  },
  {
   "cell_type": "markdown",
   "metadata": {},
   "source": [
    "```python\n",
    "\n",
    "import pygame\n",
    "pygame.init()\n",
    "\n",
    "WIDTH, HEIGHT = 320, 480\n",
    "screen = pygame.display.set_mode((WIDTH, HEIGHT))\n",
    "pygame.display.set_caption(\"Calculator\")\n",
    "\n",
    "font = pygame.font.SysFont(\"Arial\", 32)\n",
    "input_text = \"\"\n",
    "\n",
    "buttons = [\n",
    "    ['7', '8', '9', '/'],\n",
    "    ['4', '5', '6', '*'],\n",
    "    ['1', '2', '3', '-'],\n",
    "    ['0', '.', 'C', '+'],\n",
    "    ['=']\n",
    "]\n",
    "\n",
    "def draw_buttons():\n",
    "    btn_w, btn_h = 80, 60\n",
    "    padding = 5\n",
    "    for r, row in enumerate(buttons):\n",
    "        for c, label in enumerate(row):\n",
    "            x = c * (btn_w + padding)\n",
    "            y = r * (btn_h + padding) + 80\n",
    "            pygame.draw.rect(screen, (200, 200, 200), (x, y, btn_w, btn_h))\n",
    "            text = font.render(label, True, (0, 0, 0))\n",
    "            screen.blit(text, (x + 25, y + 15))\n",
    "\n",
    "def get_button_clicked(pos):\n",
    "    x, y = pos\n",
    "    if y < 80: return None\n",
    "    row = (y - 80) // 65\n",
    "    col = x // 85\n",
    "    try:\n",
    "        return buttons[row][col]\n",
    "    except:\n",
    "        return None\n",
    "\n",
    "running = True\n",
    "while running:\n",
    "    screen.fill((255, 255, 255))\n",
    "    pygame.draw.rect(screen, (230, 230, 230), (0, 0, WIDTH, 80))\n",
    "    input_render = font.render(input_text, True, (0, 0, 0))\n",
    "    screen.blit(input_render, (10, 25))\n",
    "\n",
    "    draw_buttons()\n",
    "    pygame.display.flip()\n",
    "\n",
    "    for event in pygame.event.get():\n",
    "        if event.type == pygame.QUIT:\n",
    "            running = False\n",
    "        elif event.type == pygame.MOUSEBUTTONDOWN:\n",
    "            key = get_button_clicked(pygame.mouse.get_pos())\n",
    "            if key:\n",
    "                if key == \"=\":\n",
    "                    try:\n",
    "                        input_text = str(eval(input_text))\n",
    "                    except:\n",
    "                        input_text = \"Error\"\n",
    "                elif key == \"C\":\n",
    "                    input_text = \"\"\n",
    "                else:\n",
    "                    input_text += key\n",
    "        elif event.type == pygame.KEYDOWN:\n",
    "            if event.unicode.isprintable() or event.key in [pygame.K_RETURN, pygame.K_BACKSPACE]:\n",
    "                if event.key == pygame.K_RETURN:\n",
    "                    try:\n",
    "                        input_text = str(eval(input_text))\n",
    "                    except:\n",
    "                        input_text = \"Error\"\n",
    "                elif event.key == pygame.K_BACKSPACE:\n",
    "                    input_text = input_text[:-1]\n",
    "                else:\n",
    "                    input_text += event.unicode\n",
    "\n",
    "pygame.quit()\n",
    "\n",
    "```"
   ]
  },
  {
   "cell_type": "markdown",
   "metadata": {},
   "source": [
    "## Upute"
   ]
  },
  {
   "cell_type": "markdown",
   "metadata": {},
   "source": [
    "### Kreiranje prozora"
   ]
  },
  {
   "cell_type": "markdown",
   "metadata": {},
   "source": [
    "```python\n",
    "import pygame\n",
    "pygame.init()\n",
    "WIDTH, HEIGHT = 320, 480\n",
    "screen = pygame.display.set_mode((WIDTH, HEIGHT))\n",
    "pygame.display.set_caption(\"Calculator\")\n",
    "```\n",
    "https://www.pygame.org/docs/ref/display.html#pygame.display.set_mode"
   ]
  },
  {
   "cell_type": "markdown",
   "metadata": {},
   "source": [
    "### Crtanje objekata"
   ]
  },
  {
   "cell_type": "markdown",
   "metadata": {},
   "source": [
    "```python\n",
    "pygame.draw.rect(screen, (200, 200, 200), (x, y, btn_w, btn_h))\n",
    "```\n",
    "https://www.pygame.org/docs/ref/draw.html#pygame.draw.rect"
   ]
  },
  {
   "cell_type": "markdown",
   "metadata": {},
   "source": [
    "### Prikaz na ekran"
   ]
  },
  {
   "cell_type": "markdown",
   "metadata": {},
   "source": [
    "```python\n",
    "screen.blit(input_render, (10, 25))\n",
    "pygame.display.flip()\n",
    "```"
   ]
  },
  {
   "cell_type": "markdown",
   "metadata": {},
   "source": [
    "### Hvatanje tipki i miša"
   ]
  },
  {
   "cell_type": "markdown",
   "metadata": {},
   "source": [
    "```python\n",
    "for event in pygame.event.get():\n",
    "    if event.type == pygame.MOUSEBUTTONDOWN:\n",
    "        pygame.mouse.get_pos()\n",
    "    elif event.type == pygame.KEYDOWN:\n",
    "        if event.key == pygame.K_RETURN:\n",
    "            event.unicode\n",
    "```\n"
   ]
  },
  {
   "cell_type": "markdown",
   "metadata": {},
   "source": [
    "### Povezivanje s funkcionalnošću"
   ]
  },
  {
   "cell_type": "markdown",
   "metadata": {},
   "source": [
    "Nema posebne povezanosti, ako detektiraš tipku ili miša ručno pokreneš funkciju."
   ]
  },
  {
   "cell_type": "markdown",
   "metadata": {},
   "source": [
    "### Main loop"
   ]
  },
  {
   "cell_type": "markdown",
   "metadata": {},
   "source": [
    "```python\n",
    "while True:\n",
    "    for event in pygame.event.get():\n",
    "        if event.type == pygame.QUIT:\n",
    "            break\n",
    "pygame.quit()\n",
    "```"
   ]
  },
  {
   "cell_type": "markdown",
   "metadata": {},
   "source": [
    "## Kod"
   ]
  },
  {
   "cell_type": "code",
   "execution_count": 38,
   "metadata": {},
   "outputs": [],
   "source": [
    "import pygame\n",
    "pygame.init()\n",
    "\n",
    "WIDTH, HEIGHT = 320, 480\n",
    "screen = pygame.display.set_mode((WIDTH, HEIGHT))\n",
    "pygame.display.set_caption(\"Calculator\")\n",
    "\n",
    "font = pygame.font.SysFont(\"Arial\", 32)\n",
    "input_text = \"\"\n",
    "\n",
    "buttons = [\n",
    "    ['7', '8', '9', '/'],\n",
    "    ['4', '5', '6', '*'],\n",
    "    ['1', '2', '3', '-'],\n",
    "    ['0', '.', 'C', '+'],\n",
    "    ['=']\n",
    "]\n",
    "\n",
    "def draw_buttons():\n",
    "    btn_w, btn_h = 80, 60\n",
    "    padding = 5\n",
    "    for r, row in enumerate(buttons):\n",
    "        for c, label in enumerate(row):\n",
    "            x = c * (btn_w + padding)\n",
    "            y = r * (btn_h + padding) + 80\n",
    "            pygame.draw.rect(screen, (200, 200, 200), (x, y, btn_w, btn_h))\n",
    "            text = font.render(label, True, (0, 0, 0))\n",
    "            screen.blit(text, (x + 25, y + 15))\n",
    "\n",
    "def get_button_clicked(pos):\n",
    "    x, y = pos\n",
    "    if y < 80: return None\n",
    "    row = (y - 80) // 65\n",
    "    col = x // 85\n",
    "    try:\n",
    "        return buttons[row][col]\n",
    "    except:\n",
    "        return None\n",
    "\n",
    "running = True\n",
    "while running:\n",
    "    screen.fill((255, 255, 255))\n",
    "    pygame.draw.rect(screen, (230, 230, 230), (0, 0, WIDTH, 80))\n",
    "    input_render = font.render(input_text, True, (0, 0, 0))\n",
    "    screen.blit(input_render, (10, 25))\n",
    "\n",
    "    draw_buttons()\n",
    "    pygame.display.flip()\n",
    "\n",
    "    for event in pygame.event.get():\n",
    "        if event.type == pygame.QUIT:\n",
    "            running = False\n",
    "        elif event.type == pygame.MOUSEBUTTONDOWN:\n",
    "            key = get_button_clicked(pygame.mouse.get_pos())\n",
    "            if key:\n",
    "                if key == \"=\":\n",
    "                    try:\n",
    "                        input_text = str(eval(input_text))\n",
    "                    except:\n",
    "                        input_text = \"Error\"\n",
    "                elif key == \"C\":\n",
    "                    input_text = \"\"\n",
    "                else:\n",
    "                    input_text += key\n",
    "        elif event.type == pygame.KEYDOWN:\n",
    "            if event.unicode.isprintable() or event.key in [pygame.K_RETURN, pygame.K_BACKSPACE, pygame.K_KP_ENTER]:\n",
    "                if event.key == pygame.K_RETURN or event.key == pygame.K_KP_ENTER:\n",
    "                    try:\n",
    "                        input_text = str(eval(input_text))\n",
    "                    except:\n",
    "                        input_text = \"Error\"\n",
    "                elif event.key == pygame.K_BACKSPACE:\n",
    "                    input_text = input_text[:-1]\n",
    "                else:\n",
    "                    input_text += event.unicode\n",
    "\n",
    "pygame.quit()\n"
   ]
  }
 ],
 "metadata": {
  "kernelspec": {
   "display_name": "machina",
   "language": "python",
   "name": "python3"
  },
  "language_info": {
   "codemirror_mode": {
    "name": "ipython",
    "version": 3
   },
   "file_extension": ".py",
   "mimetype": "text/x-python",
   "name": "python",
   "nbconvert_exporter": "python",
   "pygments_lexer": "ipython3",
   "version": "3.12.6"
  }
 },
 "nbformat": 4,
 "nbformat_minor": 2
}
