{
 "cells": [
  {
   "cell_type": "markdown",
   "metadata": {},
   "source": [
    "11.Predavanje - Klase (kreiranje, nasljeđivanje)\n",
    "Provjera zadaća i komentiranje koda \n",
    "Ključne riječi: def, init, str, .....\n",
    "Zadatak za doma\n",
    "Administracija za bolnicu (po timovima)\n",
    "Klase bolesnik, doktor\n",
    "Csv termine; txt dijagnoza\n",
    "Više bolnica i looping da se nađe bolji termin\n",
    "((zadati što želimo vidjeti, a ne kako da to naprave))\n",
    "((rastaviti i raspodijeliti osnovne dijelove po člankvima tima))\n"
   ]
  }
 ],
 "metadata": {
  "language_info": {
   "name": "python"
  }
 },
 "nbformat": 4,
 "nbformat_minor": 2
}
