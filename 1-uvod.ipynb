{
 "cells": [
  {
   "cell_type": "markdown",
   "metadata": {},
   "source": [
    "# 1.Predavanje - Uvod u programiranje\n",
    "- Uvod u programiranje - što, zašto i kako\n",
    "- IDE VSCODE \n",
    "- Kako se snaći u Shellu\n",
    "- Jednostavne one line komande\n",
    "- Slaganje jednostavnog programa s osnovnom\n",
    "- Varijable (int, str, bool)\n",
    "- Funkcije (input, print), kontrola (if)\n",
    ". Zadaci za doma (i na satu) - ponavljanje gradiva s prvog predavanja, samostalno napraviti 2 dodatna programe\n"
   ]
  },
  {
   "cell_type": "markdown",
   "metadata": {},
   "source": [
    "## Programiranje - što, zašto i kako\n",
    "\n",
    "### Što\n",
    "Program je set uputa računalu što treba raditi. Po mnogo čemu je dobra analogija svemu što radimo.\n",
    "\n",
    "Recimo, kuanje špageta bolognese. Recept se sastoji od liste sastojaka i liste koraka koje je potrebno obaviti.\n",
    "\n",
    "- Sastojci su varijalbe, koraci su komande\n",
    "- Kad neke komande zamjenimo općenitim izrazima poput \"skuhaj tijesto\", to su funkcije\n",
    "- Preferenca tijesta (al dente ili mekano) je korisnički unos\n",
    "- Vremenske upute (\"dok se meso ne raskuha\") su petlje\n",
    "- itd.\n",
    "\n",
    "Dvije osnovne poteškoće kod učenja programiranja su:\n",
    "1. Kako razložiti problem na korake koji su razumljivi i dovoljni računalu, i\n",
    "2. Kako reagirati na input s treće strane\n",
    "\n",
    "Prevedeno na špagete:\n",
    "1. Ako ne napišete u recept \"upali vatru\", ništa od špageta\n",
    "2. Što ako nemate špageta - zamijeniti li svrdla ili otići u trgovinu?\n",
    "\n",
    "### Zašto\n",
    "\n",
    "Glavna prednost računala je **brzina**. Moderna računala rade s taktom od GHz - milijarde operacija u sekundi.\n",
    "\n",
    "Repetitivne pravilne aktivnosti je najbolje zamijeniti programima. \n",
    "\n",
    "### kako\n",
    "\n",
    "Potrebno je prvo moći razložiti problem kojeg pokušavate riješiti u jezik kojeg računalo razumije."
   ]
  },
  {
   "cell_type": "code",
   "execution_count": null,
   "metadata": {},
   "outputs": [],
   "source": []
  }
 ],
 "metadata": {
  "language_info": {
   "name": "python"
  }
 },
 "nbformat": 4,
 "nbformat_minor": 2
}
